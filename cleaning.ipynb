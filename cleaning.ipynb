{
 "cells": [
  {
   "cell_type": "markdown",
   "metadata": {},
   "source": [
    "# This notebook's aim is to explore the available data and pre-process the text into separate, lemmatized words (removed any stop-words, adjectives and adverbs as well)\n",
    "\n",
    "[![Open In Colab](https://colab.research.google.com/assets/colab-badge.svg)](https://colab.research.google.com/github/Jeremynadal33/categorize_question_API/blob/master/cleaning.ipynb)\n",
    "\n",
    "\n",
    "\n",
    "First, lets import the needed libraries : "
   ]
  },
  {
   "cell_type": "code",
   "execution_count": 1,
   "metadata": {},
   "outputs": [],
   "source": [
    "import pandas as pd\n",
    "import numpy as np\n",
    "import matplotlib.pyplot as plt\n",
    "import seaborn as sns\n",
    "\n",
    "import os\n",
    "import re\n",
    "import time\n",
    "\n",
    "## My script : \n",
    "from function import *"
   ]
  },
  {
   "cell_type": "code",
   "execution_count": 2,
   "metadata": {},
   "outputs": [
    {
     "name": "stderr",
     "output_type": "stream",
     "text": [
      "[nltk_data] Downloading package stopwords to\n",
      "[nltk_data]     /Users/jeremynadal/nltk_data...\n",
      "[nltk_data]   Package stopwords is already up-to-date!\n",
      "[nltk_data] Downloading package wordnet to\n",
      "[nltk_data]     /Users/jeremynadal/nltk_data...\n",
      "[nltk_data]   Package wordnet is already up-to-date!\n",
      "[nltk_data] Downloading package averaged_perceptron_tagger to\n",
      "[nltk_data]     /Users/jeremynadal/nltk_data...\n",
      "[nltk_data]   Package averaged_perceptron_tagger is already up-to-\n",
      "[nltk_data]       date!\n"
     ]
    }
   ],
   "source": [
    "# Specific libraries : \n",
    "import nltk\n",
    "#nltk.download()\n",
    "nltk.download('stopwords')\n",
    "nltk.download('wordnet')\n",
    "nltk.download('averaged_perceptron_tagger')\n",
    "from bs4 import BeautifulSoup\n",
    "from nltk.corpus import stopwords\n",
    "from nltk.stem.porter import *\n",
    "from nltk.stem import WordNetLemmatizer"
   ]
  },
  {
   "cell_type": "code",
   "execution_count": 3,
   "metadata": {},
   "outputs": [],
   "source": [
    "root_dir = '/Users/jeremynadal/Documents/Formation OC IML/P5-API/'\n",
    "input_dir = root_dir + 'inputs/'\n",
    "png_dir = root_dir + 'pngs/'"
   ]
  },
  {
   "cell_type": "code",
   "execution_count": 44,
   "metadata": {},
   "outputs": [
    {
     "name": "stdout",
     "output_type": "stream",
     "text": [
      "(50000, 3)\n",
      "Tags     object\n",
      "Title    object\n",
      "Body     object\n",
      "dtype: object\n"
     ]
    },
    {
     "data": {
      "text/html": [
       "<div>\n",
       "<style scoped>\n",
       "    .dataframe tbody tr th:only-of-type {\n",
       "        vertical-align: middle;\n",
       "    }\n",
       "\n",
       "    .dataframe tbody tr th {\n",
       "        vertical-align: top;\n",
       "    }\n",
       "\n",
       "    .dataframe thead th {\n",
       "        text-align: right;\n",
       "    }\n",
       "</style>\n",
       "<table border=\"1\" class=\"dataframe\">\n",
       "  <thead>\n",
       "    <tr style=\"text-align: right;\">\n",
       "      <th></th>\n",
       "      <th>Tags</th>\n",
       "      <th>Title</th>\n",
       "      <th>Body</th>\n",
       "    </tr>\n",
       "  </thead>\n",
       "  <tbody>\n",
       "    <tr>\n",
       "      <th>0</th>\n",
       "      <td>&lt;c#&gt;&lt;floating-point&gt;&lt;type-conversion&gt;&lt;double&gt;&lt;...</td>\n",
       "      <td>How to convert decimal to double in C#</td>\n",
       "      <td>&lt;p&gt;I want to use a &lt;code&gt;Track-Bar&lt;/code&gt; to c...</td>\n",
       "    </tr>\n",
       "    <tr>\n",
       "      <th>1</th>\n",
       "      <td>&lt;c#&gt;&lt;.net&gt;&lt;datetime&gt;</td>\n",
       "      <td>In C#, how do I calculate someone's age based ...</td>\n",
       "      <td>&lt;p&gt;Given a &lt;code&gt;DateTime&lt;/code&gt; representing ...</td>\n",
       "    </tr>\n",
       "    <tr>\n",
       "      <th>2</th>\n",
       "      <td>&lt;c#&gt;&lt;datetime&gt;&lt;time&gt;&lt;datediff&gt;&lt;relative-time-s...</td>\n",
       "      <td>Calculate relative time in C#</td>\n",
       "      <td>&lt;p&gt;Given a specific &lt;code&gt;DateTime&lt;/code&gt; valu...</td>\n",
       "    </tr>\n",
       "    <tr>\n",
       "      <th>3</th>\n",
       "      <td>&lt;html&gt;&lt;browser&gt;&lt;timezone&gt;&lt;user-agent&gt;&lt;timezone...</td>\n",
       "      <td>Determine a user's timezone</td>\n",
       "      <td>&lt;p&gt;Is there a standard way for a web server to...</td>\n",
       "    </tr>\n",
       "    <tr>\n",
       "      <th>4</th>\n",
       "      <td>&lt;.net&gt;&lt;math&gt;</td>\n",
       "      <td>Difference between Math.Floor() and Math.Trunc...</td>\n",
       "      <td>&lt;p&gt;What is the difference between &lt;a href=\"htt...</td>\n",
       "    </tr>\n",
       "  </tbody>\n",
       "</table>\n",
       "</div>"
      ],
      "text/plain": [
       "                                                Tags  \\\n",
       "0  <c#><floating-point><type-conversion><double><...   \n",
       "1                               <c#><.net><datetime>   \n",
       "2  <c#><datetime><time><datediff><relative-time-s...   \n",
       "3  <html><browser><timezone><user-agent><timezone...   \n",
       "4                                       <.net><math>   \n",
       "\n",
       "                                               Title  \\\n",
       "0             How to convert decimal to double in C#   \n",
       "1  In C#, how do I calculate someone's age based ...   \n",
       "2                      Calculate relative time in C#   \n",
       "3                        Determine a user's timezone   \n",
       "4  Difference between Math.Floor() and Math.Trunc...   \n",
       "\n",
       "                                                Body  \n",
       "0  <p>I want to use a <code>Track-Bar</code> to c...  \n",
       "1  <p>Given a <code>DateTime</code> representing ...  \n",
       "2  <p>Given a specific <code>DateTime</code> valu...  \n",
       "3  <p>Is there a standard way for a web server to...  \n",
       "4  <p>What is the difference between <a href=\"htt...  "
      ]
     },
     "execution_count": 44,
     "metadata": {},
     "output_type": "execute_result"
    }
   ],
   "source": [
    "data = pd.read_csv(input_dir+'posts.csv')\n",
    "\n",
    "print(data.shape)\n",
    "print(data.dtypes)\n",
    "data.head()"
   ]
  },
  {
   "cell_type": "markdown",
   "metadata": {},
   "source": [
    "## Lets get some information about tags\n",
    "We begin by looking for unique tags "
   ]
  },
  {
   "cell_type": "code",
   "execution_count": 45,
   "metadata": {},
   "outputs": [],
   "source": [
    "def handle_tags(tags):\n",
    "    split = tags.split('><')\n",
    "    split[0] = split[0][1:]\n",
    "    split[-1] = split[-1][:-1]\n",
    "    return split\n",
    "\n",
    "def get_all_tags(tags):\n",
    "    res = []\n",
    "    for i in range(len(tags)):\n",
    "        for j in range(len(tags[i])):\n",
    "            res.append(tags[i][j])\n",
    "            \n",
    "    return pd.Series(res)"
   ]
  },
  {
   "cell_type": "code",
   "execution_count": 46,
   "metadata": {},
   "outputs": [],
   "source": [
    "data['Tags'] = data['Tags'].map(handle_tags)\n",
    "\n",
    "data['nb_tags'] = [len(tags) for tags in data['Tags']]"
   ]
  },
  {
   "cell_type": "code",
   "execution_count": 47,
   "metadata": {},
   "outputs": [
    {
     "data": {
      "text/html": [
       "<div>\n",
       "<style scoped>\n",
       "    .dataframe tbody tr th:only-of-type {\n",
       "        vertical-align: middle;\n",
       "    }\n",
       "\n",
       "    .dataframe tbody tr th {\n",
       "        vertical-align: top;\n",
       "    }\n",
       "\n",
       "    .dataframe thead th {\n",
       "        text-align: right;\n",
       "    }\n",
       "</style>\n",
       "<table border=\"1\" class=\"dataframe\">\n",
       "  <thead>\n",
       "    <tr style=\"text-align: right;\">\n",
       "      <th></th>\n",
       "      <th>Tags</th>\n",
       "      <th>Title</th>\n",
       "      <th>Body</th>\n",
       "      <th>nb_tags</th>\n",
       "    </tr>\n",
       "  </thead>\n",
       "  <tbody>\n",
       "    <tr>\n",
       "      <th>0</th>\n",
       "      <td>[c#, floating-point, type-conversion, double, ...</td>\n",
       "      <td>How to convert decimal to double in C#</td>\n",
       "      <td>&lt;p&gt;I want to use a &lt;code&gt;Track-Bar&lt;/code&gt; to c...</td>\n",
       "      <td>5</td>\n",
       "    </tr>\n",
       "    <tr>\n",
       "      <th>1</th>\n",
       "      <td>[c#, .net, datetime]</td>\n",
       "      <td>In C#, how do I calculate someone's age based ...</td>\n",
       "      <td>&lt;p&gt;Given a &lt;code&gt;DateTime&lt;/code&gt; representing ...</td>\n",
       "      <td>3</td>\n",
       "    </tr>\n",
       "    <tr>\n",
       "      <th>2</th>\n",
       "      <td>[c#, datetime, time, datediff, relative-time-s...</td>\n",
       "      <td>Calculate relative time in C#</td>\n",
       "      <td>&lt;p&gt;Given a specific &lt;code&gt;DateTime&lt;/code&gt; valu...</td>\n",
       "      <td>5</td>\n",
       "    </tr>\n",
       "    <tr>\n",
       "      <th>3</th>\n",
       "      <td>[html, browser, timezone, user-agent, timezone...</td>\n",
       "      <td>Determine a user's timezone</td>\n",
       "      <td>&lt;p&gt;Is there a standard way for a web server to...</td>\n",
       "      <td>5</td>\n",
       "    </tr>\n",
       "    <tr>\n",
       "      <th>4</th>\n",
       "      <td>[.net, math]</td>\n",
       "      <td>Difference between Math.Floor() and Math.Trunc...</td>\n",
       "      <td>&lt;p&gt;What is the difference between &lt;a href=\"htt...</td>\n",
       "      <td>2</td>\n",
       "    </tr>\n",
       "  </tbody>\n",
       "</table>\n",
       "</div>"
      ],
      "text/plain": [
       "                                                Tags  \\\n",
       "0  [c#, floating-point, type-conversion, double, ...   \n",
       "1                               [c#, .net, datetime]   \n",
       "2  [c#, datetime, time, datediff, relative-time-s...   \n",
       "3  [html, browser, timezone, user-agent, timezone...   \n",
       "4                                       [.net, math]   \n",
       "\n",
       "                                               Title  \\\n",
       "0             How to convert decimal to double in C#   \n",
       "1  In C#, how do I calculate someone's age based ...   \n",
       "2                      Calculate relative time in C#   \n",
       "3                        Determine a user's timezone   \n",
       "4  Difference between Math.Floor() and Math.Trunc...   \n",
       "\n",
       "                                                Body  nb_tags  \n",
       "0  <p>I want to use a <code>Track-Bar</code> to c...        5  \n",
       "1  <p>Given a <code>DateTime</code> representing ...        3  \n",
       "2  <p>Given a specific <code>DateTime</code> valu...        5  \n",
       "3  <p>Is there a standard way for a web server to...        5  \n",
       "4  <p>What is the difference between <a href=\"htt...        2  "
      ]
     },
     "execution_count": 47,
     "metadata": {},
     "output_type": "execute_result"
    }
   ],
   "source": [
    "data.head()"
   ]
  },
  {
   "cell_type": "code",
   "execution_count": 48,
   "metadata": {},
   "outputs": [],
   "source": [
    "tags = get_all_tags(data['Tags'])"
   ]
  },
  {
   "cell_type": "code",
   "execution_count": 49,
   "metadata": {},
   "outputs": [],
   "source": [
    "tag_counts = pd.Series(tags).value_counts(normalize=True)\n",
    "tag_counts_cum = np.cumsum(tag_counts)"
   ]
  },
  {
   "cell_type": "code",
   "execution_count": 50,
   "metadata": {},
   "outputs": [
    {
     "name": "stdout",
     "output_type": "stream",
     "text": [
      "25% of the documents are using 10 tags\n",
      "50% of the documents are using 83 \n",
      "75% of the documents are using 520\n"
     ]
    }
   ],
   "source": [
    "print('25% of the documents are using {} tags\\n50% of the documents are using {} \\n75% of the documents are using {}'.format(np.argmin(abs(tag_counts_cum-0.25)),\n",
    "                                                                    np.argmin(abs(tag_counts_cum-0.5)),\n",
    "                                                                    np.argmin(abs(tag_counts_cum-0.75))))\n"
   ]
  },
  {
   "cell_type": "code",
   "execution_count": 51,
   "metadata": {},
   "outputs": [
    {
     "data": {
      "image/png": "[encoded data removed]",
      "text/plain": [
       "<Figure size 432x288 with 1 Axes>"
      ]
     },
     "metadata": {
      "needs_background": "light"
     },
     "output_type": "display_data"
    }
   ],
   "source": [
    "plt.plot(tag_counts.values[:600])\n",
    "plt.xlabel('Tag number')\n",
    "plt.ylabel('Prop of questions with tag')\n",
    "plt.scatter(10,tag_counts[10],c='red')\n",
    "plt.scatter(83,tag_counts[83],c='red')\n",
    "plt.scatter(520,tag_counts[520],c='red')\n",
    "plt.annotate('25%', xy =(10, tag_counts[10]), \n",
    "                xytext =(25, tag_counts[10])) \n",
    "plt.annotate('50%', xy =(83, tag_counts[83]), \n",
    "                xytext =(83, tag_counts[83]+0.002)) \n",
    "plt.annotate('75%', xy =(520, tag_counts[520]), \n",
    "                xytext =(520, tag_counts[520]+0.002)) \n",
    "plt.savefig(png_dir+'cum_sum_tags.png')\n",
    "plt.show()"
   ]
  },
  {
   "cell_type": "markdown",
   "metadata": {},
   "source": [
    "Now lets look at how many tags a question has"
   ]
  },
  {
   "cell_type": "code",
   "execution_count": 52,
   "metadata": {},
   "outputs": [
    {
     "data": {
      "image/png": "[encoded data removed]",
      "text/plain": [
       "<Figure size 504x360 with 1 Axes>"
      ]
     },
     "metadata": {
      "needs_background": "light"
     },
     "output_type": "display_data"
    }
   ],
   "source": [
    "plt.figure(figsize=(7,5))\n",
    "data['nb_tags'].hist()\n",
    "plt.grid(None)\n",
    "plt.ylabel('Nb of question')\n",
    "plt.xlabel('Nb of tags')\n",
    "plt.savefig(png_dir+'nb_tags.png')\n",
    "plt.show()"
   ]
  },
  {
   "cell_type": "markdown",
   "metadata": {},
   "source": [
    "Lets just look at the top 25 tags"
   ]
  },
  {
   "cell_type": "code",
   "execution_count": 13,
   "metadata": {},
   "outputs": [
    {
     "data": {
      "image/png": "[encoded data removed]",
      "text/plain": [
       "<Figure size 432x288 with 1 Axes>"
      ]
     },
     "metadata": {
      "needs_background": "light"
     },
     "output_type": "display_data"
    }
   ],
   "source": [
    "pd.Series(tags).value_counts(normalize=False)[:25].plot(kind = 'bar')\n",
    "plt.xlabel('Tags')\n",
    "plt.ylabel('Counts')\n",
    "plt.savefig(png_dir+'bar_plot_25_tags.png')"
   ]
  },
  {
   "cell_type": "markdown",
   "metadata": {},
   "source": [
    "## Lets filtrate the data by keeping only the documents corresponding to one of the 25 most common tags"
   ]
  },
  {
   "cell_type": "code",
   "execution_count": 14,
   "metadata": {},
   "outputs": [],
   "source": [
    "most_common_tags = pd.Series(tags).value_counts(normalize=False)[:25].index\n",
    "def filter_tags(tags):\n",
    "    res =  [tag for tag in tags if tag in most_common_tags]\n",
    "    return (res if res != [] else None)"
   ]
  },
  {
   "cell_type": "code",
   "execution_count": 15,
   "metadata": {},
   "outputs": [],
   "source": [
    "data['Tags'] = data['Tags'].map(filter_tags)"
   ]
  },
  {
   "cell_type": "code",
   "execution_count": 16,
   "metadata": {},
   "outputs": [],
   "source": [
    "data.dropna(inplace=True)\n",
    "data.reset_index(inplace=True, drop = True)\n",
    "data['nb_tags'] = [len(tags) for tags in data['Tags']]"
   ]
  },
  {
   "cell_type": "code",
   "execution_count": 17,
   "metadata": {},
   "outputs": [
    {
     "data": {
      "text/html": [
       "<div>\n",
       "<style scoped>\n",
       "    .dataframe tbody tr th:only-of-type {\n",
       "        vertical-align: middle;\n",
       "    }\n",
       "\n",
       "    .dataframe tbody tr th {\n",
       "        vertical-align: top;\n",
       "    }\n",
       "\n",
       "    .dataframe thead th {\n",
       "        text-align: right;\n",
       "    }\n",
       "</style>\n",
       "<table border=\"1\" class=\"dataframe\">\n",
       "  <thead>\n",
       "    <tr style=\"text-align: right;\">\n",
       "      <th></th>\n",
       "      <th>Tags</th>\n",
       "      <th>Title</th>\n",
       "      <th>Body</th>\n",
       "      <th>nb_tags</th>\n",
       "    </tr>\n",
       "  </thead>\n",
       "  <tbody>\n",
       "    <tr>\n",
       "      <th>0</th>\n",
       "      <td>[c#]</td>\n",
       "      <td>How to convert decimal to double in C#</td>\n",
       "      <td>&lt;p&gt;I want to use a &lt;code&gt;Track-Bar&lt;/code&gt; to c...</td>\n",
       "      <td>1</td>\n",
       "    </tr>\n",
       "    <tr>\n",
       "      <th>1</th>\n",
       "      <td>[c#, .net]</td>\n",
       "      <td>In C#, how do I calculate someone's age based ...</td>\n",
       "      <td>&lt;p&gt;Given a &lt;code&gt;DateTime&lt;/code&gt; representing ...</td>\n",
       "      <td>2</td>\n",
       "    </tr>\n",
       "    <tr>\n",
       "      <th>2</th>\n",
       "      <td>[c#]</td>\n",
       "      <td>Calculate relative time in C#</td>\n",
       "      <td>&lt;p&gt;Given a specific &lt;code&gt;DateTime&lt;/code&gt; valu...</td>\n",
       "      <td>1</td>\n",
       "    </tr>\n",
       "    <tr>\n",
       "      <th>3</th>\n",
       "      <td>[html]</td>\n",
       "      <td>Determine a user's timezone</td>\n",
       "      <td>&lt;p&gt;Is there a standard way for a web server to...</td>\n",
       "      <td>1</td>\n",
       "    </tr>\n",
       "    <tr>\n",
       "      <th>4</th>\n",
       "      <td>[.net]</td>\n",
       "      <td>Difference between Math.Floor() and Math.Trunc...</td>\n",
       "      <td>&lt;p&gt;What is the difference between &lt;a href=\"htt...</td>\n",
       "      <td>1</td>\n",
       "    </tr>\n",
       "    <tr>\n",
       "      <th>...</th>\n",
       "      <td>...</td>\n",
       "      <td>...</td>\n",
       "      <td>...</td>\n",
       "      <td>...</td>\n",
       "    </tr>\n",
       "    <tr>\n",
       "      <th>39404</th>\n",
       "      <td>[html, css]</td>\n",
       "      <td>Prevent text from overlap table td width</td>\n",
       "      <td>&lt;p&gt;How can I restrict the table &lt;code&gt;&amp;lt;td&amp;g...</td>\n",
       "      <td>2</td>\n",
       "    </tr>\n",
       "    <tr>\n",
       "      <th>39405</th>\n",
       "      <td>[android]</td>\n",
       "      <td>How to programmatically set the layout_align_p...</td>\n",
       "      <td>&lt;p&gt;I have a relative layout which I am creatin...</td>\n",
       "      <td>1</td>\n",
       "    </tr>\n",
       "    <tr>\n",
       "      <th>39406</th>\n",
       "      <td>[bash]</td>\n",
       "      <td>How to loop through a directory recursively to...</td>\n",
       "      <td>&lt;p&gt;I need to loop through a directory recursiv...</td>\n",
       "      <td>1</td>\n",
       "    </tr>\n",
       "    <tr>\n",
       "      <th>39407</th>\n",
       "      <td>[java]</td>\n",
       "      <td>What is the buffer size in BufferedReader?</td>\n",
       "      <td>&lt;p&gt;What is the sense of buffer size in the con...</td>\n",
       "      <td>1</td>\n",
       "    </tr>\n",
       "    <tr>\n",
       "      <th>39408</th>\n",
       "      <td>[c#, .net]</td>\n",
       "      <td>Difference in months between two dates</td>\n",
       "      <td>&lt;p&gt;How to calculate the difference in months b...</td>\n",
       "      <td>2</td>\n",
       "    </tr>\n",
       "  </tbody>\n",
       "</table>\n",
       "<p>39409 rows × 4 columns</p>\n",
       "</div>"
      ],
      "text/plain": [
       "              Tags                                              Title  \\\n",
       "0             [c#]             How to convert decimal to double in C#   \n",
       "1       [c#, .net]  In C#, how do I calculate someone's age based ...   \n",
       "2             [c#]                      Calculate relative time in C#   \n",
       "3           [html]                        Determine a user's timezone   \n",
       "4           [.net]  Difference between Math.Floor() and Math.Trunc...   \n",
       "...            ...                                                ...   \n",
       "39404  [html, css]           Prevent text from overlap table td width   \n",
       "39405    [android]  How to programmatically set the layout_align_p...   \n",
       "39406       [bash]  How to loop through a directory recursively to...   \n",
       "39407       [java]         What is the buffer size in BufferedReader?   \n",
       "39408   [c#, .net]             Difference in months between two dates   \n",
       "\n",
       "                                                    Body  nb_tags  \n",
       "0      <p>I want to use a <code>Track-Bar</code> to c...        1  \n",
       "1      <p>Given a <code>DateTime</code> representing ...        2  \n",
       "2      <p>Given a specific <code>DateTime</code> valu...        1  \n",
       "3      <p>Is there a standard way for a web server to...        1  \n",
       "4      <p>What is the difference between <a href=\"htt...        1  \n",
       "...                                                  ...      ...  \n",
       "39404  <p>How can I restrict the table <code>&lt;td&g...        2  \n",
       "39405  <p>I have a relative layout which I am creatin...        1  \n",
       "39406  <p>I need to loop through a directory recursiv...        1  \n",
       "39407  <p>What is the sense of buffer size in the con...        1  \n",
       "39408  <p>How to calculate the difference in months b...        2  \n",
       "\n",
       "[39409 rows x 4 columns]"
      ]
     },
     "execution_count": 17,
     "metadata": {},
     "output_type": "execute_result"
    }
   ],
   "source": [
    "data"
   ]
  },
  {
   "cell_type": "markdown",
   "metadata": {},
   "source": [
    "## Now lets begin the preprocessing of the text, the steps are the following : \n",
    "* Remove html markings\n",
    "* Separate text using nltk.word_tokenizer\n",
    "* Remove unwanted characters\n",
    "* Remove adjectives, adverbs and digits\n",
    "* Lematize \n",
    "* The processed document is then composed of two times the title and one time the body "
   ]
  },
  {
   "cell_type": "code",
   "execution_count": 18,
   "metadata": {},
   "outputs": [
    {
     "name": "stdout",
     "output_type": "stream",
     "text": [
      "For the moment, one question looks like this : \n",
      "\n",
      " <p>What is the difference between <a href=\"http://msdn.microsoft.com/en-us/library/9a6a2sxy.aspx\" rel=\"noreferrer\"><code>Math.Floor()</code></a> and <a href=\"http://msdn.microsoft.com/en-us/library/system.math.truncate.aspx\" rel=\"noreferrer\"><code>Math.Truncate()</code></a> in .NET?</p>\n",
      "\n"
     ]
    }
   ],
   "source": [
    "print('For the moment, one question looks like this : \\n\\n',data['Body'][4])"
   ]
  },
  {
   "cell_type": "code",
   "execution_count": 55,
   "metadata": {},
   "outputs": [],
   "source": [
    "pos_from_tag = lambda tag: ('a' if tag[0].lower() == 'j' else tag[0].lower()) if tag[0].lower() in ['n', 'r', 'v'] else 'n'\n",
    "\n",
    "def handle_body(text, \n",
    "                #tokenizer = nltk.RegexpTokenizer(r'\\w+'), \n",
    "                stop_words = stopwords.words(\"english\"), \n",
    "                lemmatizer = WordNetLemmatizer()  ):\n",
    "    \n",
    "    POS_to_rm = ['RB','RBR','RBS','JJ','JJR','JJS','CD'] #Removing adverbs and adjectives and digits\n",
    "    stop_words += ['.','€','$','?','\\'s',',',':',';','=','+','-']  \n",
    "    \n",
    "    soup = BeautifulSoup(text, 'html.parser')\n",
    "    tokens = nltk.word_tokenize( soup.get_text().lower() )\n",
    "    \n",
    "    tokens = [re.sub('[.,?!)()<>:;\\ \\\"\\'\\]\\[+-=\\{\\}\\|^*@&`’]','',token).replace('\\\\','').replace('?','') for token in tokens]\n",
    "    tokens = [token for token in tokens if token != '']\n",
    "    tags = nltk.pos_tag(tokens)\n",
    "\n",
    "    tokens = [ tokens[i] for i in range(len(tokens)) if ( (not tokens[i] in stop_words) and (not tags[i][1] in POS_to_rm ) )]\n",
    "    \n",
    "    tags = nltk.pos_tag(tokens)\n",
    "    \n",
    "    result = [lemmatizer.lemmatize(tokens[i], pos=pos_from_tag(tags[i][1])) for i in range(len(tokens))]\n",
    "    \n",
    "    return result \n",
    "\n",
    "def handle_title(text,\n",
    "                 stop_words = stopwords.words(\"english\"), \n",
    "                 lemmatizer = WordNetLemmatizer()  ): \n",
    "    \n",
    "    POS_to_rm = ['RB','RBR','RBS','JJ','JJR','JJS'] #Removing adverbs and adjectives\n",
    "    stop_words += ['.','€','$','?','\\'s',',',':',';','=','+','-']  \n",
    "    \n",
    "    tokens = re.split(' ', text.lower())\n",
    "    tokens = [re.sub('[.,?!)()<>:;\\ \\\"\\'\\]\\[+-=\\{\\}\\|^*@&`’]','',token).replace('\\\\','').replace('?','') for token in tokens]\n",
    "\n",
    "    tokens = [token for token in tokens if token != '']\n",
    "    tags = nltk.pos_tag(tokens)\n",
    "    \n",
    "    tokens = [ tokens[i] for i in range(len(tokens)) if ( (not tokens[i] in stop_words) and (not tags[i][1] in POS_to_rm ) )]\n",
    "    \n",
    "    tags = nltk.pos_tag(tokens)\n",
    "    \n",
    "    result = [lemmatizer.lemmatize(tokens[i], pos=pos_from_tag(tags[i][1])) for i in range(len(tokens))]\n",
    "    \n",
    "    return result \n",
    "    \n",
    "\n",
    "def handle_row(data):\n",
    "    documents = []\n",
    "    \n",
    "    for i in range(data.shape[0]):\n",
    "        title = handle_title(data['Title'][i])\n",
    "        body = handle_body(data['Body'][i])\n",
    "        doc = title + title + body\n",
    "        documents.append(doc)\n",
    "        \n",
    "    return documents"
   ]
  },
  {
   "cell_type": "code",
   "execution_count": 56,
   "metadata": {},
   "outputs": [],
   "source": [
    "documents = handle_row(data)"
   ]
  },
  {
   "cell_type": "code",
   "execution_count": 57,
   "metadata": {},
   "outputs": [
    {
     "name": "stderr",
     "output_type": "stream",
     "text": [
      "/Users/jeremynadal/anaconda3/envs/fieldbox/lib/python3.7/site-packages/ipykernel_launcher.py:1: SettingWithCopyWarning: \n",
      "A value is trying to be set on a copy of a slice from a DataFrame.\n",
      "Try using .loc[row_indexer,col_indexer] = value instead\n",
      "\n",
      "See the caveats in the documentation: https://pandas.pydata.org/pandas-docs/stable/user_guide/indexing.html#returning-a-view-versus-a-copy\n",
      "  \"\"\"Entry point for launching an IPython kernel.\n"
     ]
    }
   ],
   "source": [
    "data['processed_text'] = documents"
   ]
  },
  {
   "cell_type": "code",
   "execution_count": 58,
   "metadata": {},
   "outputs": [
    {
     "name": "stdout",
     "output_type": "stream",
     "text": [
      "One document is then described as follows : \n",
      "\n",
      " ['convert', 'double', 'c#', 'convert', 'double', 'c#', 'want', 'use', 'trackbar', 'change', 'form', 'opacity', 'code', 'trans', 'thisopacity', 'trans', 'build', 'application', 'give', 'error', 'type', 'decimal', 'double', 'try', 'use', 'trans', 'control', 'work', 'code', 'work', 'vbnet', 'project']\n"
     ]
    }
   ],
   "source": [
    "print('One document is then described as follows : \\n\\n',data['processed_text'][0])"
   ]
  },
  {
   "cell_type": "code",
   "execution_count": 30,
   "metadata": {},
   "outputs": [
    {
     "data": {
      "text/html": [
       "<div>\n",
       "<style scoped>\n",
       "    .dataframe tbody tr th:only-of-type {\n",
       "        vertical-align: middle;\n",
       "    }\n",
       "\n",
       "    .dataframe tbody tr th {\n",
       "        vertical-align: top;\n",
       "    }\n",
       "\n",
       "    .dataframe thead th {\n",
       "        text-align: right;\n",
       "    }\n",
       "</style>\n",
       "<table border=\"1\" class=\"dataframe\">\n",
       "  <thead>\n",
       "    <tr style=\"text-align: right;\">\n",
       "      <th></th>\n",
       "      <th>Tags</th>\n",
       "      <th>processed_text</th>\n",
       "      <th>nb_tags</th>\n",
       "    </tr>\n",
       "  </thead>\n",
       "  <tbody>\n",
       "    <tr>\n",
       "      <th>0</th>\n",
       "      <td>[c#]</td>\n",
       "      <td>[convert, double, c#, convert, double, c#, wan...</td>\n",
       "      <td>1</td>\n",
       "    </tr>\n",
       "    <tr>\n",
       "      <th>1</th>\n",
       "      <td>[c#, .net]</td>\n",
       "      <td>[c#, calculate, someone, age, base, datetime, ...</td>\n",
       "      <td>2</td>\n",
       "    </tr>\n",
       "    <tr>\n",
       "      <th>2</th>\n",
       "      <td>[c#]</td>\n",
       "      <td>[calculate, time, c#, calculate, time, c#, giv...</td>\n",
       "      <td>1</td>\n",
       "    </tr>\n",
       "    <tr>\n",
       "      <th>3</th>\n",
       "      <td>[html]</td>\n",
       "      <td>[determine, user, timezone, determine, user, t...</td>\n",
       "      <td>1</td>\n",
       "    </tr>\n",
       "    <tr>\n",
       "      <th>4</th>\n",
       "      <td>[.net]</td>\n",
       "      <td>[difference, mathfloor, mathtruncate, differen...</td>\n",
       "      <td>1</td>\n",
       "    </tr>\n",
       "    <tr>\n",
       "      <th>...</th>\n",
       "      <td>...</td>\n",
       "      <td>...</td>\n",
       "      <td>...</td>\n",
       "    </tr>\n",
       "    <tr>\n",
       "      <th>39404</th>\n",
       "      <td>[html, css]</td>\n",
       "      <td>[prevent, text, td, width, prevent, text, td, ...</td>\n",
       "      <td>2</td>\n",
       "    </tr>\n",
       "    <tr>\n",
       "      <th>39405</th>\n",
       "      <td>[android]</td>\n",
       "      <td>[set, attribute, button, layout, set, attribut...</td>\n",
       "      <td>1</td>\n",
       "    </tr>\n",
       "    <tr>\n",
       "      <th>39406</th>\n",
       "      <td>[bash]</td>\n",
       "      <td>[loop, directory, delete, file, extension, loo...</td>\n",
       "      <td>1</td>\n",
       "    </tr>\n",
       "    <tr>\n",
       "      <th>39407</th>\n",
       "      <td>[java]</td>\n",
       "      <td>[buffer, size, bufferedreader, buffer, size, b...</td>\n",
       "      <td>1</td>\n",
       "    </tr>\n",
       "    <tr>\n",
       "      <th>39408</th>\n",
       "      <td>[c#, .net]</td>\n",
       "      <td>[difference, month, two, date, difference, mon...</td>\n",
       "      <td>2</td>\n",
       "    </tr>\n",
       "  </tbody>\n",
       "</table>\n",
       "<p>39409 rows × 3 columns</p>\n",
       "</div>"
      ],
      "text/plain": [
       "              Tags                                     processed_text  nb_tags\n",
       "0             [c#]  [convert, double, c#, convert, double, c#, wan...        1\n",
       "1       [c#, .net]  [c#, calculate, someone, age, base, datetime, ...        2\n",
       "2             [c#]  [calculate, time, c#, calculate, time, c#, giv...        1\n",
       "3           [html]  [determine, user, timezone, determine, user, t...        1\n",
       "4           [.net]  [difference, mathfloor, mathtruncate, differen...        1\n",
       "...            ...                                                ...      ...\n",
       "39404  [html, css]  [prevent, text, td, width, prevent, text, td, ...        2\n",
       "39405    [android]  [set, attribute, button, layout, set, attribut...        1\n",
       "39406       [bash]  [loop, directory, delete, file, extension, loo...        1\n",
       "39407       [java]  [buffer, size, bufferedreader, buffer, size, b...        1\n",
       "39408   [c#, .net]  [difference, month, two, date, difference, mon...        2\n",
       "\n",
       "[39409 rows x 3 columns]"
      ]
     },
     "execution_count": 30,
     "metadata": {},
     "output_type": "execute_result"
    }
   ],
   "source": [
    "data_to_save = data[['Tags','processed_text','nb_tags']]\n",
    "data_to_save"
   ]
  },
  {
   "cell_type": "code",
   "execution_count": 31,
   "metadata": {},
   "outputs": [],
   "source": [
    "data_to_save.to_csv(input_dir+'processed_dataset.csv', index = False)"
   ]
  },
  {
   "cell_type": "code",
   "execution_count": null,
   "metadata": {},
   "outputs": [],
   "source": []
  }
 ],
 "metadata": {
  "kernelspec": {
   "display_name": "Python 3",
   "language": "python",
   "name": "python3"
  },
  "language_info": {
   "codemirror_mode": {
    "name": "ipython",
    "version": 3
   },
   "file_extension": ".py",
   "mimetype": "text/x-python",
   "name": "python",
   "nbconvert_exporter": "python",
   "pygments_lexer": "ipython3",
   "version": "3.7.9"
  }
 },
 "nbformat": 4,
 "nbformat_minor": 4
}
