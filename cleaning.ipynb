{
 "cells": [
  {
   "cell_type": "markdown",
   "metadata": {},
   "source": [
    "# This notebook's aim is to explore the available data. \n",
    "\n",
    "[![Open In Colab](https://colab.research.google.com/assets/colab-badge.svg)](https://colab.research.google.com/github/Jeremynadal33/adventofcode2020/blob/master/adventofcode2020.ipynb)\n",
    "\n",
    "\n",
    "First, lets import the needed libraries : "
   ]
  },
  {
   "cell_type": "code",
   "execution_count": 3,
   "metadata": {},
   "outputs": [],
   "source": [
    "import pandas as pd\n",
    "import numpy as np\n",
    "import matplotlib.pyplot as plt\n",
    "import seaborn as sns\n",
    "\n",
    "import os\n",
    "import re\n",
    "import time\n",
    "\n",
    "## My script : \n",
    "from function import *"
   ]
  },
  {
   "cell_type": "code",
   "execution_count": 21,
   "metadata": {},
   "outputs": [
    {
     "name": "stdout",
     "output_type": "stream",
     "text": [
      "showing info https://raw.githubusercontent.com/nltk/nltk_data/gh-pages/index.xml\n"
     ]
    }
   ],
   "source": [
    "# Specific libraries : \n",
    "import nltk\n",
    "nltk.download()\n",
    "from bs4 import BeautifulSoup"
   ]
  },
  {
   "cell_type": "code",
   "execution_count": 4,
   "metadata": {},
   "outputs": [],
   "source": [
    "root_dir = '/Users/jeremynadal/Documents/Formation OC IML/P5-API/'\n",
    "input_dir = root_dir + 'inputs/'\n",
    "png_dir = root_dir + 'pngs/'"
   ]
  },
  {
   "cell_type": "code",
   "execution_count": 7,
   "metadata": {},
   "outputs": [
    {
     "name": "stdout",
     "output_type": "stream",
     "text": [
      "(50000, 8)\n",
      "Id                       int64\n",
      "CreationDate    datetime64[ns]\n",
      "Tags                    object\n",
      "Score                    int64\n",
      "Title                   object\n",
      "Body                    object\n",
      "ViewCount              float64\n",
      "OwnerUserId            float64\n",
      "dtype: object\n"
     ]
    },
    {
     "data": {
      "text/html": [
       "<div>\n",
       "<style scoped>\n",
       "    .dataframe tbody tr th:only-of-type {\n",
       "        vertical-align: middle;\n",
       "    }\n",
       "\n",
       "    .dataframe tbody tr th {\n",
       "        vertical-align: top;\n",
       "    }\n",
       "\n",
       "    .dataframe thead th {\n",
       "        text-align: right;\n",
       "    }\n",
       "</style>\n",
       "<table border=\"1\" class=\"dataframe\">\n",
       "  <thead>\n",
       "    <tr style=\"text-align: right;\">\n",
       "      <th></th>\n",
       "      <th>Id</th>\n",
       "      <th>CreationDate</th>\n",
       "      <th>Tags</th>\n",
       "      <th>Score</th>\n",
       "      <th>Title</th>\n",
       "      <th>Body</th>\n",
       "      <th>ViewCount</th>\n",
       "      <th>OwnerUserId</th>\n",
       "    </tr>\n",
       "  </thead>\n",
       "  <tbody>\n",
       "    <tr>\n",
       "      <th>0</th>\n",
       "      <td>4</td>\n",
       "      <td>2008-07-31 21:42:52</td>\n",
       "      <td>&lt;c#&gt;&lt;floating-point&gt;&lt;type-conversion&gt;&lt;double&gt;&lt;...</td>\n",
       "      <td>701</td>\n",
       "      <td>How to convert decimal to double in C#</td>\n",
       "      <td>&lt;p&gt;I want to use a &lt;code&gt;Track-Bar&lt;/code&gt; to c...</td>\n",
       "      <td>54136.0</td>\n",
       "      <td>8.0</td>\n",
       "    </tr>\n",
       "    <tr>\n",
       "      <th>1</th>\n",
       "      <td>6</td>\n",
       "      <td>2008-07-31 22:08:08</td>\n",
       "      <td>&lt;html&gt;&lt;css&gt;&lt;internet-explorer-7&gt;</td>\n",
       "      <td>303</td>\n",
       "      <td>Why did the width collapse in the percentage w...</td>\n",
       "      <td>&lt;p&gt;I have an absolutely positioned &lt;code&gt;div&lt;/...</td>\n",
       "      <td>20627.0</td>\n",
       "      <td>9.0</td>\n",
       "    </tr>\n",
       "    <tr>\n",
       "      <th>2</th>\n",
       "      <td>9</td>\n",
       "      <td>2008-07-31 23:40:59</td>\n",
       "      <td>&lt;c#&gt;&lt;.net&gt;&lt;datetime&gt;</td>\n",
       "      <td>1954</td>\n",
       "      <td>In C#, how do I calculate someone's age based ...</td>\n",
       "      <td>&lt;p&gt;Given a &lt;code&gt;DateTime&lt;/code&gt; representing ...</td>\n",
       "      <td>646489.0</td>\n",
       "      <td>1.0</td>\n",
       "    </tr>\n",
       "    <tr>\n",
       "      <th>3</th>\n",
       "      <td>11</td>\n",
       "      <td>2008-07-31 23:55:37</td>\n",
       "      <td>&lt;c#&gt;&lt;datetime&gt;&lt;time&gt;&lt;datediff&gt;&lt;relative-time-s...</td>\n",
       "      <td>1563</td>\n",
       "      <td>Calculate relative time in C#</td>\n",
       "      <td>&lt;p&gt;Given a specific &lt;code&gt;DateTime&lt;/code&gt; valu...</td>\n",
       "      <td>168913.0</td>\n",
       "      <td>1.0</td>\n",
       "    </tr>\n",
       "    <tr>\n",
       "      <th>4</th>\n",
       "      <td>13</td>\n",
       "      <td>2008-08-01 00:42:38</td>\n",
       "      <td>&lt;html&gt;&lt;browser&gt;&lt;timezone&gt;&lt;user-agent&gt;&lt;timezone...</td>\n",
       "      <td>635</td>\n",
       "      <td>Determine a user's timezone</td>\n",
       "      <td>&lt;p&gt;Is there a standard way for a web server to...</td>\n",
       "      <td>214297.0</td>\n",
       "      <td>9.0</td>\n",
       "    </tr>\n",
       "  </tbody>\n",
       "</table>\n",
       "</div>"
      ],
      "text/plain": [
       "   Id        CreationDate                                               Tags  \\\n",
       "0   4 2008-07-31 21:42:52  <c#><floating-point><type-conversion><double><...   \n",
       "1   6 2008-07-31 22:08:08                   <html><css><internet-explorer-7>   \n",
       "2   9 2008-07-31 23:40:59                               <c#><.net><datetime>   \n",
       "3  11 2008-07-31 23:55:37  <c#><datetime><time><datediff><relative-time-s...   \n",
       "4  13 2008-08-01 00:42:38  <html><browser><timezone><user-agent><timezone...   \n",
       "\n",
       "   Score                                              Title  \\\n",
       "0    701             How to convert decimal to double in C#   \n",
       "1    303  Why did the width collapse in the percentage w...   \n",
       "2   1954  In C#, how do I calculate someone's age based ...   \n",
       "3   1563                      Calculate relative time in C#   \n",
       "4    635                        Determine a user's timezone   \n",
       "\n",
       "                                                Body  ViewCount  OwnerUserId  \n",
       "0  <p>I want to use a <code>Track-Bar</code> to c...    54136.0          8.0  \n",
       "1  <p>I have an absolutely positioned <code>div</...    20627.0          9.0  \n",
       "2  <p>Given a <code>DateTime</code> representing ...   646489.0          1.0  \n",
       "3  <p>Given a specific <code>DateTime</code> valu...   168913.0          1.0  \n",
       "4  <p>Is there a standard way for a web server to...   214297.0          9.0  "
      ]
     },
     "execution_count": 7,
     "metadata": {},
     "output_type": "execute_result"
    }
   ],
   "source": [
    "data = pd.read_csv(input_dir+'posts.csv',parse_dates=[1])\n",
    "\n",
    "print(data.shape)\n",
    "print(data.dtypes)\n",
    "data.head()"
   ]
  },
  {
   "cell_type": "code",
   "execution_count": 19,
   "metadata": {},
   "outputs": [
    {
     "data": {
      "text/plain": [
       "'<p>I want to use a <code>Track-Bar</code> to change a <code>Form</code>\\'s opacity.</p>\\n<p>This is my code:</p>\\n<pre class=\"lang-cs prettyprint-override\"><code>decimal trans = trackBar1.Value / 5000;\\nthis.Opacity = trans;\\n</code></pre>\\n<p>When I build the application, it gives the following error:</p>\\n<blockquote>\\n<p>Cannot implicitly convert type <code>decimal</code> to <code>double</code></p>\\n</blockquote>\\n<p>I have tried using <code>trans</code> and <code>double</code>, but then the <code>Control</code> doesn\\'t work. This code worked fine in a past VB.NET project.</p>\\n'"
      ]
     },
     "execution_count": 19,
     "metadata": {},
     "output_type": "execute_result"
    }
   ],
   "source": [
    "data['Body'][0]"
   ]
  },
  {
   "cell_type": "code",
   "execution_count": 17,
   "metadata": {},
   "outputs": [],
   "source": [
    "soup = BeautifulSoup(data['Body'][0], 'html.parser')"
   ]
  },
  {
   "cell_type": "code",
   "execution_count": 18,
   "metadata": {},
   "outputs": [
    {
     "data": {
      "text/plain": [
       "\"I want to use a Track-Bar to change a Form's opacity.\\nThis is my code:\\ndecimal trans = trackBar1.Value / 5000;\\nthis.Opacity = trans;\\n\\nWhen I build the application, it gives the following error:\\n\\nCannot implicitly convert type decimal to double\\n\\nI have tried using trans and double, but then the Control doesn't work. This code worked fine in a past VB.NET project.\\n\""
      ]
     },
     "execution_count": 18,
     "metadata": {},
     "output_type": "execute_result"
    }
   ],
   "source": [
    "soup.get_text()"
   ]
  },
  {
   "cell_type": "code",
   "execution_count": 28,
   "metadata": {},
   "outputs": [],
   "source": [
    "def handle_body(body, tokenizer = nltk.RegexpTokenizer(r'\\w+')):\n",
    "    soup = BeautifulSoup(body, 'html.parser')\n",
    "    return tokenizer.tokenize(soup.get_text().lower())"
   ]
  },
  {
   "cell_type": "code",
   "execution_count": 29,
   "metadata": {},
   "outputs": [
    {
     "data": {
      "text/plain": [
       "['i',\n",
       " 'want',\n",
       " 'to',\n",
       " 'use',\n",
       " 'a',\n",
       " 'track',\n",
       " 'bar',\n",
       " 'to',\n",
       " 'change',\n",
       " 'a',\n",
       " 'form',\n",
       " 's',\n",
       " 'opacity',\n",
       " 'this',\n",
       " 'is',\n",
       " 'my',\n",
       " 'code',\n",
       " 'decimal',\n",
       " 'trans',\n",
       " 'trackbar1',\n",
       " 'value',\n",
       " '5000',\n",
       " 'this',\n",
       " 'opacity',\n",
       " 'trans',\n",
       " 'when',\n",
       " 'i',\n",
       " 'build',\n",
       " 'the',\n",
       " 'application',\n",
       " 'it',\n",
       " 'gives',\n",
       " 'the',\n",
       " 'following',\n",
       " 'error',\n",
       " 'cannot',\n",
       " 'implicitly',\n",
       " 'convert',\n",
       " 'type',\n",
       " 'decimal',\n",
       " 'to',\n",
       " 'double',\n",
       " 'i',\n",
       " 'have',\n",
       " 'tried',\n",
       " 'using',\n",
       " 'trans',\n",
       " 'and',\n",
       " 'double',\n",
       " 'but',\n",
       " 'then',\n",
       " 'the',\n",
       " 'control',\n",
       " 'doesn',\n",
       " 't',\n",
       " 'work',\n",
       " 'this',\n",
       " 'code',\n",
       " 'worked',\n",
       " 'fine',\n",
       " 'in',\n",
       " 'a',\n",
       " 'past',\n",
       " 'vb',\n",
       " 'net',\n",
       " 'project']"
      ]
     },
     "execution_count": 29,
     "metadata": {},
     "output_type": "execute_result"
    }
   ],
   "source": [
    "handle_body(body=data['Body'][0])"
   ]
  },
  {
   "cell_type": "code",
   "execution_count": null,
   "metadata": {},
   "outputs": [],
   "source": []
  }
 ],
 "metadata": {
  "kernelspec": {
   "display_name": "Python 3",
   "language": "python",
   "name": "python3"
  },
  "language_info": {
   "codemirror_mode": {
    "name": "ipython",
    "version": 3
   },
   "file_extension": ".py",
   "mimetype": "text/x-python",
   "name": "python",
   "nbconvert_exporter": "python",
   "pygments_lexer": "ipython3",
   "version": "3.7.9"
  }
 },
 "nbformat": 4,
 "nbformat_minor": 4
}
