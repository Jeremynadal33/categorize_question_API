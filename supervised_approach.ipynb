{
 "cells": [
  {
   "cell_type": "markdown",
   "metadata": {
    "id": "XrMxmsIRGAJW"
   },
   "source": [
    "# This notebook's aim is to transform the pre-processed documents into vectors and do a supervised analysis\n",
    "\n",
    "[![Open In Colab](https://colab.research.google.com/assets/colab-badge.svg)](https://colab.research.google.com/github/Jeremynadal33/categorize_question_API/blob/master/supervised_approach.ipynb)\n",
    "\n",
    "\n",
    "## Here, are compared supervised methods : \n",
    "## We will compare the results for two different vectorization methods : Bag of Word and Tfidf\n",
    "First, import the relevant libraries : "
   ]
  },
  {
   "cell_type": "code",
   "execution_count": 1,
   "metadata": {
    "id": "N3kdYUoRGAJk"
   },
   "outputs": [],
   "source": [
    "import pandas as pd\n",
    "import numpy as np\n",
    "import matplotlib.pyplot as plt\n",
    "import seaborn as sns\n",
    "\n",
    "import os\n",
    "import re\n",
    "import time\n",
    "import datetime as datetime"
   ]
  },
  {
   "cell_type": "code",
   "execution_count": 2,
   "metadata": {
    "id": "mBx3JYn8GAJn"
   },
   "outputs": [],
   "source": [
    "# Specific libraries : \n",
    "import nltk\n",
    "from bs4 import BeautifulSoup\n",
    "\n",
    "\n",
    "from sklearn.feature_extraction.text import CountVectorizer # BoW\n",
    "from sklearn.feature_extraction.text import TfidfVectorizer # Tfidf\n",
    "\n",
    "\n",
    "from sklearn.metrics import f1_score,precision_score,recall_score\n",
    "\n",
    "from sklearn.multiclass import OneVsRestClassifier\n",
    "\n",
    "from sklearn.linear_model import LogisticRegression,SGDClassifier\n",
    "from sklearn.ensemble import RandomForestClassifier\n",
    "import xgboost\n",
    "import lightgbm\n",
    "from sklearn.model_selection import train_test_split\n",
    "from sklearn import metrics"
   ]
  },
  {
   "cell_type": "code",
   "execution_count": 3,
   "metadata": {
    "colab": {
     "base_uri": "https://localhost:8080/"
    },
    "id": "djJatlLBGO_G",
    "outputId": "075d600c-7be0-482c-f586-d723d5eaf507"
   },
   "outputs": [
    {
     "name": "stdout",
     "output_type": "stream",
     "text": [
      "Not running on CoLab\n"
     ]
    }
   ],
   "source": [
    "if 'google.colab' in str(get_ipython()):\n",
    "  print('Running on CoLab')\n",
    "  from google.colab import drive\n",
    "  drive.mount('/content/gdrive',force_remount=True)\n",
    "  !ls /content/gdrive/My\\ Drive/Formation-OC/P5-Stackoverflow\n",
    "  root_dir = '/content/gdrive/My Drive/Formation-OC/P5-Stackoverflow/'\n",
    "  input_dir = root_dir + 'inputs/'\n",
    "  png_dir = root_dir + 'pngs/'\n",
    "\n",
    "  #my script\n",
    "  %run /content/gdrive/My\\ Drive/Formation-OC/P5-Stackoverflow/function.py\n",
    "  !ls gdrive/MyDrive/Formation-OC/P5-Stackoverflow/\n",
    "else:\n",
    "  print('Not running on CoLab')\n",
    "  #my script\n",
    "  root_dir = '/Users/jeremynadal/Documents/Formation OC IML/P5-API/'\n",
    "  input_dir = root_dir + 'inputs/'\n",
    "  png_dir = root_dir + 'pngs/'\n",
    "  model_dir = root_dir +'models/'\n",
    "  from function import *"
   ]
  },
  {
   "cell_type": "code",
   "execution_count": 4,
   "metadata": {},
   "outputs": [],
   "source": [
    "data_example = pd.read_csv(input_dir+'posts.csv',nrows=100)"
   ]
  },
  {
   "cell_type": "code",
   "execution_count": 5,
   "metadata": {
    "colab": {
     "base_uri": "https://localhost:8080/",
     "height": 370
    },
    "id": "N4k0kO1NGAJq",
    "outputId": "0035c6b8-5962-49e6-dcec-db76ecbd7334"
   },
   "outputs": [
    {
     "name": "stdout",
     "output_type": "stream",
     "text": [
      "(39409, 3)\n",
      "Tags              object\n",
      "processed_text    object\n",
      "nb_tags            int64\n",
      "dtype: object\n"
     ]
    },
    {
     "data": {
      "text/html": [
       "<div>\n",
       "<style scoped>\n",
       "    .dataframe tbody tr th:only-of-type {\n",
       "        vertical-align: middle;\n",
       "    }\n",
       "\n",
       "    .dataframe tbody tr th {\n",
       "        vertical-align: top;\n",
       "    }\n",
       "\n",
       "    .dataframe thead th {\n",
       "        text-align: right;\n",
       "    }\n",
       "</style>\n",
       "<table border=\"1\" class=\"dataframe\">\n",
       "  <thead>\n",
       "    <tr style=\"text-align: right;\">\n",
       "      <th></th>\n",
       "      <th>Tags</th>\n",
       "      <th>processed_text</th>\n",
       "      <th>nb_tags</th>\n",
       "    </tr>\n",
       "  </thead>\n",
       "  <tbody>\n",
       "    <tr>\n",
       "      <th>0</th>\n",
       "      <td>['c#']</td>\n",
       "      <td>['convert', 'double', 'c#', 'convert', 'double...</td>\n",
       "      <td>1</td>\n",
       "    </tr>\n",
       "    <tr>\n",
       "      <th>1</th>\n",
       "      <td>['c#', '.net']</td>\n",
       "      <td>['c#', 'calculate', 'someone', 'age', 'base', ...</td>\n",
       "      <td>2</td>\n",
       "    </tr>\n",
       "    <tr>\n",
       "      <th>2</th>\n",
       "      <td>['c#']</td>\n",
       "      <td>['calculate', 'time', 'c#', 'calculate', 'time...</td>\n",
       "      <td>1</td>\n",
       "    </tr>\n",
       "    <tr>\n",
       "      <th>3</th>\n",
       "      <td>['html']</td>\n",
       "      <td>['determine', 'user', 'timezone', 'determine',...</td>\n",
       "      <td>1</td>\n",
       "    </tr>\n",
       "    <tr>\n",
       "      <th>4</th>\n",
       "      <td>['.net']</td>\n",
       "      <td>['difference', 'mathfloor', 'mathtruncate', 'd...</td>\n",
       "      <td>1</td>\n",
       "    </tr>\n",
       "  </tbody>\n",
       "</table>\n",
       "</div>"
      ],
      "text/plain": [
       "             Tags                                     processed_text  nb_tags\n",
       "0          ['c#']  ['convert', 'double', 'c#', 'convert', 'double...        1\n",
       "1  ['c#', '.net']  ['c#', 'calculate', 'someone', 'age', 'base', ...        2\n",
       "2          ['c#']  ['calculate', 'time', 'c#', 'calculate', 'time...        1\n",
       "3        ['html']  ['determine', 'user', 'timezone', 'determine',...        1\n",
       "4        ['.net']  ['difference', 'mathfloor', 'mathtruncate', 'd...        1"
      ]
     },
     "execution_count": 5,
     "metadata": {},
     "output_type": "execute_result"
    }
   ],
   "source": [
    "data = pd.read_csv(input_dir+'processed_dataset.csv')\n",
    "\n",
    "print(data.shape)\n",
    "print(data.dtypes)\n",
    "data.head()"
   ]
  },
  {
   "cell_type": "code",
   "execution_count": 6,
   "metadata": {
    "id": "fDArtiUEGAJu"
   },
   "outputs": [],
   "source": [
    "def reforme_tags_processed_text(data):\n",
    "    tags = []\n",
    "    processed_text = []\n",
    "    for indx in range(data.shape[0]):\n",
    "        new_tags = []\n",
    "        new_processed = []\n",
    "        \n",
    "        split = data['Tags'][indx].split(',')\n",
    "        for nb_tags in range(data['nb_tags'][indx]):    \n",
    "            to_append = re.sub('[\\[\\]\\'\\\"!*+-]','',split[nb_tags]).replace('\\\\','').replace(' ','')\n",
    "            if not to_append in ['',' '] : new_tags.append(to_append)\n",
    "        tags.append(new_tags)\n",
    "        \n",
    "        text = data['processed_text'][indx].split(',')\n",
    "        for i in range(len(text)):\n",
    "            to_append = re.sub('[\\[\\]\\'\\\"!*+-:.]','',text[i]).replace('\\\\','').replace(' ','')\n",
    "            if not to_append in ['',' '] : new_processed.append(to_append)\n",
    "        processed_text.append(new_processed)\n",
    "        \n",
    "    data['Tags'] = tags\n",
    "    data['processed_text'] = processed_text\n",
    "    return data"
   ]
  },
  {
   "cell_type": "code",
   "execution_count": 7,
   "metadata": {
    "colab": {
     "base_uri": "https://localhost:8080/",
     "height": 260
    },
    "id": "6jQYJBjrGAJv",
    "outputId": "37cab774-4d7e-44b9-edac-6edee5b3e8a5"
   },
   "outputs": [
    {
     "data": {
      "text/html": [
       "<div>\n",
       "<style scoped>\n",
       "    .dataframe tbody tr th:only-of-type {\n",
       "        vertical-align: middle;\n",
       "    }\n",
       "\n",
       "    .dataframe tbody tr th {\n",
       "        vertical-align: top;\n",
       "    }\n",
       "\n",
       "    .dataframe thead th {\n",
       "        text-align: right;\n",
       "    }\n",
       "</style>\n",
       "<table border=\"1\" class=\"dataframe\">\n",
       "  <thead>\n",
       "    <tr style=\"text-align: right;\">\n",
       "      <th></th>\n",
       "      <th>Tags</th>\n",
       "      <th>processed_text</th>\n",
       "      <th>nb_tags</th>\n",
       "    </tr>\n",
       "  </thead>\n",
       "  <tbody>\n",
       "    <tr>\n",
       "      <th>0</th>\n",
       "      <td>[c#]</td>\n",
       "      <td>[convert, double, c#, convert, double, c#, wan...</td>\n",
       "      <td>1</td>\n",
       "    </tr>\n",
       "    <tr>\n",
       "      <th>1</th>\n",
       "      <td>[c#, .net]</td>\n",
       "      <td>[c#, calculate, someone, age, base, datetime, ...</td>\n",
       "      <td>2</td>\n",
       "    </tr>\n",
       "    <tr>\n",
       "      <th>2</th>\n",
       "      <td>[c#]</td>\n",
       "      <td>[calculate, time, c#, calculate, time, c#, giv...</td>\n",
       "      <td>1</td>\n",
       "    </tr>\n",
       "    <tr>\n",
       "      <th>3</th>\n",
       "      <td>[html]</td>\n",
       "      <td>[determine, user, timezone, determine, user, t...</td>\n",
       "      <td>1</td>\n",
       "    </tr>\n",
       "    <tr>\n",
       "      <th>4</th>\n",
       "      <td>[.net]</td>\n",
       "      <td>[difference, mathfloor, mathtruncate, differen...</td>\n",
       "      <td>1</td>\n",
       "    </tr>\n",
       "  </tbody>\n",
       "</table>\n",
       "</div>"
      ],
      "text/plain": [
       "         Tags                                     processed_text  nb_tags\n",
       "0        [c#]  [convert, double, c#, convert, double, c#, wan...        1\n",
       "1  [c#, .net]  [c#, calculate, someone, age, base, datetime, ...        2\n",
       "2        [c#]  [calculate, time, c#, calculate, time, c#, giv...        1\n",
       "3      [html]  [determine, user, timezone, determine, user, t...        1\n",
       "4      [.net]  [difference, mathfloor, mathtruncate, differen...        1"
      ]
     },
     "execution_count": 7,
     "metadata": {},
     "output_type": "execute_result"
    }
   ],
   "source": [
    "data = reforme_tags_processed_text(data)\n",
    "data.head()"
   ]
  },
  {
   "cell_type": "code",
   "execution_count": 8,
   "metadata": {
    "id": "EU6qY3fsGAJx"
   },
   "outputs": [],
   "source": [
    "def get_all_tags(tags):\n",
    "    res = []\n",
    "    for i in range(len(tags)):\n",
    "        for j in range(len(tags[i])):\n",
    "            res.append(tags[i][j])\n",
    "            \n",
    "    return pd.Series(res)\n",
    "\n",
    "tags = get_all_tags(data['Tags'])"
   ]
  },
  {
   "cell_type": "code",
   "execution_count": 9,
   "metadata": {
    "id": "_W9C1sEkGAJy"
   },
   "outputs": [],
   "source": [
    "unique_tags = np.unique(tags)"
   ]
  },
  {
   "cell_type": "code",
   "execution_count": 10,
   "metadata": {},
   "outputs": [
    {
     "data": {
      "text/plain": [
       "array(['.net', 'android', 'arrays', 'asp.net', 'bash', 'c', 'c#', 'css',\n",
       "       'git', 'html', 'iphone', 'java', 'javascript', 'jquery', 'linux',\n",
       "       'mysql', 'objectivec', 'php', 'python', 'regex', 'sql',\n",
       "       'sqlserver', 'string', 'windows'], dtype=object)"
      ]
     },
     "execution_count": 10,
     "metadata": {},
     "output_type": "execute_result"
    }
   ],
   "source": [
    "unique_tags"
   ]
  },
  {
   "cell_type": "code",
   "execution_count": 11,
   "metadata": {
    "id": "yufxgaJgGAJz"
   },
   "outputs": [],
   "source": [
    "for tag in unique_tags : \n",
    "    data[tag] = 0"
   ]
  },
  {
   "cell_type": "code",
   "execution_count": 12,
   "metadata": {
    "colab": {
     "base_uri": "https://localhost:8080/"
    },
    "id": "sJ9ywIMjGAJz",
    "outputId": "156e3941-879b-4a03-fa37-c722356ecfbc"
   },
   "outputs": [
    {
     "name": "stderr",
     "output_type": "stream",
     "text": [
      "/Users/jeremynadal/anaconda3/envs/fieldbox/lib/python3.7/site-packages/ipykernel_launcher.py:3: SettingWithCopyWarning: \n",
      "A value is trying to be set on a copy of a slice from a DataFrame\n",
      "\n",
      "See the caveats in the documentation: https://pandas.pydata.org/pandas-docs/stable/user_guide/indexing.html#returning-a-view-versus-a-copy\n",
      "  This is separate from the ipykernel package so we can avoid doing imports until\n"
     ]
    }
   ],
   "source": [
    "for idx in data.index:\n",
    "    for id_tag in range(data['nb_tags'][idx]):\n",
    "        data[data['Tags'][idx][id_tag]][idx] = 1"
   ]
  },
  {
   "cell_type": "code",
   "execution_count": 13,
   "metadata": {
    "colab": {
     "base_uri": "https://localhost:8080/",
     "height": 260
    },
    "id": "qGUavCI8GAJ0",
    "outputId": "9cc62ae1-57d8-4af1-893e-b25435e0745c"
   },
   "outputs": [
    {
     "data": {
      "text/html": [
       "<div>\n",
       "<style scoped>\n",
       "    .dataframe tbody tr th:only-of-type {\n",
       "        vertical-align: middle;\n",
       "    }\n",
       "\n",
       "    .dataframe tbody tr th {\n",
       "        vertical-align: top;\n",
       "    }\n",
       "\n",
       "    .dataframe thead th {\n",
       "        text-align: right;\n",
       "    }\n",
       "</style>\n",
       "<table border=\"1\" class=\"dataframe\">\n",
       "  <thead>\n",
       "    <tr style=\"text-align: right;\">\n",
       "      <th></th>\n",
       "      <th>Tags</th>\n",
       "      <th>processed_text</th>\n",
       "      <th>nb_tags</th>\n",
       "      <th>.net</th>\n",
       "      <th>android</th>\n",
       "      <th>arrays</th>\n",
       "      <th>asp.net</th>\n",
       "      <th>bash</th>\n",
       "      <th>c</th>\n",
       "      <th>c#</th>\n",
       "      <th>...</th>\n",
       "      <th>linux</th>\n",
       "      <th>mysql</th>\n",
       "      <th>objectivec</th>\n",
       "      <th>php</th>\n",
       "      <th>python</th>\n",
       "      <th>regex</th>\n",
       "      <th>sql</th>\n",
       "      <th>sqlserver</th>\n",
       "      <th>string</th>\n",
       "      <th>windows</th>\n",
       "    </tr>\n",
       "  </thead>\n",
       "  <tbody>\n",
       "    <tr>\n",
       "      <th>0</th>\n",
       "      <td>[c#]</td>\n",
       "      <td>[convert, double, c#, convert, double, c#, wan...</td>\n",
       "      <td>1</td>\n",
       "      <td>0</td>\n",
       "      <td>0</td>\n",
       "      <td>0</td>\n",
       "      <td>0</td>\n",
       "      <td>0</td>\n",
       "      <td>0</td>\n",
       "      <td>1</td>\n",
       "      <td>...</td>\n",
       "      <td>0</td>\n",
       "      <td>0</td>\n",
       "      <td>0</td>\n",
       "      <td>0</td>\n",
       "      <td>0</td>\n",
       "      <td>0</td>\n",
       "      <td>0</td>\n",
       "      <td>0</td>\n",
       "      <td>0</td>\n",
       "      <td>0</td>\n",
       "    </tr>\n",
       "    <tr>\n",
       "      <th>1</th>\n",
       "      <td>[c#, .net]</td>\n",
       "      <td>[c#, calculate, someone, age, base, datetime, ...</td>\n",
       "      <td>2</td>\n",
       "      <td>1</td>\n",
       "      <td>0</td>\n",
       "      <td>0</td>\n",
       "      <td>0</td>\n",
       "      <td>0</td>\n",
       "      <td>0</td>\n",
       "      <td>1</td>\n",
       "      <td>...</td>\n",
       "      <td>0</td>\n",
       "      <td>0</td>\n",
       "      <td>0</td>\n",
       "      <td>0</td>\n",
       "      <td>0</td>\n",
       "      <td>0</td>\n",
       "      <td>0</td>\n",
       "      <td>0</td>\n",
       "      <td>0</td>\n",
       "      <td>0</td>\n",
       "    </tr>\n",
       "    <tr>\n",
       "      <th>2</th>\n",
       "      <td>[c#]</td>\n",
       "      <td>[calculate, time, c#, calculate, time, c#, giv...</td>\n",
       "      <td>1</td>\n",
       "      <td>0</td>\n",
       "      <td>0</td>\n",
       "      <td>0</td>\n",
       "      <td>0</td>\n",
       "      <td>0</td>\n",
       "      <td>0</td>\n",
       "      <td>1</td>\n",
       "      <td>...</td>\n",
       "      <td>0</td>\n",
       "      <td>0</td>\n",
       "      <td>0</td>\n",
       "      <td>0</td>\n",
       "      <td>0</td>\n",
       "      <td>0</td>\n",
       "      <td>0</td>\n",
       "      <td>0</td>\n",
       "      <td>0</td>\n",
       "      <td>0</td>\n",
       "    </tr>\n",
       "    <tr>\n",
       "      <th>3</th>\n",
       "      <td>[html]</td>\n",
       "      <td>[determine, user, timezone, determine, user, t...</td>\n",
       "      <td>1</td>\n",
       "      <td>0</td>\n",
       "      <td>0</td>\n",
       "      <td>0</td>\n",
       "      <td>0</td>\n",
       "      <td>0</td>\n",
       "      <td>0</td>\n",
       "      <td>0</td>\n",
       "      <td>...</td>\n",
       "      <td>0</td>\n",
       "      <td>0</td>\n",
       "      <td>0</td>\n",
       "      <td>0</td>\n",
       "      <td>0</td>\n",
       "      <td>0</td>\n",
       "      <td>0</td>\n",
       "      <td>0</td>\n",
       "      <td>0</td>\n",
       "      <td>0</td>\n",
       "    </tr>\n",
       "    <tr>\n",
       "      <th>4</th>\n",
       "      <td>[.net]</td>\n",
       "      <td>[difference, mathfloor, mathtruncate, differen...</td>\n",
       "      <td>1</td>\n",
       "      <td>1</td>\n",
       "      <td>0</td>\n",
       "      <td>0</td>\n",
       "      <td>0</td>\n",
       "      <td>0</td>\n",
       "      <td>0</td>\n",
       "      <td>0</td>\n",
       "      <td>...</td>\n",
       "      <td>0</td>\n",
       "      <td>0</td>\n",
       "      <td>0</td>\n",
       "      <td>0</td>\n",
       "      <td>0</td>\n",
       "      <td>0</td>\n",
       "      <td>0</td>\n",
       "      <td>0</td>\n",
       "      <td>0</td>\n",
       "      <td>0</td>\n",
       "    </tr>\n",
       "  </tbody>\n",
       "</table>\n",
       "<p>5 rows × 27 columns</p>\n",
       "</div>"
      ],
      "text/plain": [
       "         Tags                                     processed_text  nb_tags  \\\n",
       "0        [c#]  [convert, double, c#, convert, double, c#, wan...        1   \n",
       "1  [c#, .net]  [c#, calculate, someone, age, base, datetime, ...        2   \n",
       "2        [c#]  [calculate, time, c#, calculate, time, c#, giv...        1   \n",
       "3      [html]  [determine, user, timezone, determine, user, t...        1   \n",
       "4      [.net]  [difference, mathfloor, mathtruncate, differen...        1   \n",
       "\n",
       "   .net  android  arrays  asp.net  bash  c  c#  ...  linux  mysql  objectivec  \\\n",
       "0     0        0       0        0     0  0   1  ...      0      0           0   \n",
       "1     1        0       0        0     0  0   1  ...      0      0           0   \n",
       "2     0        0       0        0     0  0   1  ...      0      0           0   \n",
       "3     0        0       0        0     0  0   0  ...      0      0           0   \n",
       "4     1        0       0        0     0  0   0  ...      0      0           0   \n",
       "\n",
       "   php  python  regex  sql  sqlserver  string  windows  \n",
       "0    0       0      0    0          0       0        0  \n",
       "1    0       0      0    0          0       0        0  \n",
       "2    0       0      0    0          0       0        0  \n",
       "3    0       0      0    0          0       0        0  \n",
       "4    0       0      0    0          0       0        0  \n",
       "\n",
       "[5 rows x 27 columns]"
      ]
     },
     "execution_count": 13,
     "metadata": {},
     "output_type": "execute_result"
    }
   ],
   "source": [
    "data.head()"
   ]
  },
  {
   "cell_type": "markdown",
   "metadata": {
    "id": "VBSwyWbtGAJ1"
   },
   "source": [
    "## Lets separate the data into train and test for both bow and tfidf"
   ]
  },
  {
   "cell_type": "code",
   "execution_count": 15,
   "metadata": {
    "colab": {
     "base_uri": "https://localhost:8080/"
    },
    "id": "7HOiiW4gGAJ2",
    "outputId": "e9a48d94-2007-4ea4-d018-999b0edc0ab3"
   },
   "outputs": [
    {
     "name": "stdout",
     "output_type": "stream",
     "text": [
      "1000\n",
      "(39409, 1000)\n"
     ]
    }
   ],
   "source": [
    "bow_vectorizer = CountVectorizer(tokenizer = lambda x: x,\n",
    "                                 preprocessor = lambda x: x,\n",
    "                                 lowercase = False,\n",
    "                                 max_features = 1000,\n",
    "                                 binary = True,\n",
    "                                 max_df = 0.9\n",
    "                                 )  \n",
    "bow_X = bow_vectorizer.fit_transform(data['processed_text'])\n",
    "print(len(bow_vectorizer.get_feature_names()))\n",
    "print(bow_X.toarray().shape)"
   ]
  },
  {
   "cell_type": "code",
   "execution_count": 14,
   "metadata": {
    "id": "A7VQTojoGAJ3"
   },
   "outputs": [
    {
     "name": "stdout",
     "output_type": "stream",
     "text": [
      "<class 'pandas.core.frame.DataFrame'>\n",
      "RangeIndex: 39409 entries, 0 to 39408\n",
      "Data columns (total 27 columns):\n",
      " #   Column          Non-Null Count  Dtype \n",
      "---  ------          --------------  ----- \n",
      " 0   Tags            39409 non-null  object\n",
      " 1   processed_text  39409 non-null  object\n",
      " 2   nb_tags         39409 non-null  int64 \n",
      " 3   .net            39409 non-null  int64 \n",
      " 4   android         39409 non-null  int64 \n",
      " 5   arrays          39409 non-null  int64 \n",
      " 6   asp.net         39409 non-null  int64 \n",
      " 7   bash            39409 non-null  int64 \n",
      " 8   c               39409 non-null  int64 \n",
      " 9   c#              39409 non-null  int64 \n",
      " 10  css             39409 non-null  int64 \n",
      " 11  git             39409 non-null  int64 \n",
      " 12  html            39409 non-null  int64 \n",
      " 13  iphone          39409 non-null  int64 \n",
      " 14  java            39409 non-null  int64 \n",
      " 15  javascript      39409 non-null  int64 \n",
      " 16  jquery          39409 non-null  int64 \n",
      " 17  linux           39409 non-null  int64 \n",
      " 18  mysql           39409 non-null  int64 \n",
      " 19  objectivec      39409 non-null  int64 \n",
      " 20  php             39409 non-null  int64 \n",
      " 21  python          39409 non-null  int64 \n",
      " 22  regex           39409 non-null  int64 \n",
      " 23  sql             39409 non-null  int64 \n",
      " 24  sqlserver       39409 non-null  int64 \n",
      " 25  string          39409 non-null  int64 \n",
      " 26  windows         39409 non-null  int64 \n",
      "dtypes: int64(25), object(2)\n",
      "memory usage: 8.1+ MB\n"
     ]
    },
    {
     "data": {
      "text/plain": [
       "(39409, 1000)"
      ]
     },
     "execution_count": 14,
     "metadata": {},
     "output_type": "execute_result"
    }
   ],
   "source": [
    "def _nothing(x):\n",
    "    return x\n",
    "\n",
    "\n",
    "tfidf_vectorizer = TfidfVectorizer(tokenizer = lambda x: x,\n",
    "                                   preprocessor = lambda x: x,\n",
    "                                   lowercase = False,\n",
    "                                   max_features = 1000,\n",
    "                                   max_df = 0.9\n",
    "                                   )  \n",
    "tfidf_X = tfidf_vectorizer.fit_transform(data['processed_text'])\n",
    "data.info()\n",
    "tfidf_X.toarray().shape"
   ]
  },
  {
   "cell_type": "code",
   "execution_count": 19,
   "metadata": {},
   "outputs": [
    {
     "name": "stdout",
     "output_type": "stream",
     "text": [
      "<class 'pandas.core.frame.DataFrame'>\n",
      "RangeIndex: 39409 entries, 0 to 39408\n",
      "Data columns (total 1 columns):\n",
      " #   Column          Non-Null Count  Dtype \n",
      "---  ------          --------------  ----- \n",
      " 0   processed_text  39409 non-null  object\n",
      "dtypes: object(1)\n",
      "memory usage: 308.0+ KB\n"
     ]
    }
   ],
   "source": [
    "test = data[['processed_text']]\n",
    "test.info()\n",
    "test.to_csv('inputs/'+'processed_text.csv',index=False)"
   ]
  },
  {
   "cell_type": "code",
   "execution_count": 23,
   "metadata": {
    "colab": {
     "base_uri": "https://localhost:8080/"
    },
    "id": "NF3x_9YPGAJ3",
    "outputId": "c77fd415-41b5-4b76-8922-e9622f2e00bf"
   },
   "outputs": [
    {
     "name": "stdout",
     "output_type": "stream",
     "text": [
      "Train dataset : X.shape =  (31527, 1000)  Y_multi.shape =  (31527, 24)\n",
      "Test dataset : X.shape =  (7882, 1000)  Y_tags.shape =  (7882,)\n"
     ]
    }
   ],
   "source": [
    "X_train_bow, X_test_bow, y_train_multi, y_test_multi = train_test_split(bow_X.toarray(), \n",
    "                                                                     data[unique_tags], \n",
    "                                                                     test_size=0.2, \n",
    "                                                                     random_state=42)\n",
    "X_train_tfidf, X_test_tfidf, y_train_tags, y_test_tags = train_test_split(tfidf_X.toarray(), \n",
    "                                                                            data['Tags'], \n",
    "                                                                            test_size=0.2, \n",
    "                                                                            random_state=42)\n",
    "print('Train dataset : X.shape = ' , X_train_bow.shape, ' Y_multi.shape = ', y_train_multi.shape)\n",
    "print('Test dataset : X.shape = ' , X_test_bow.shape, ' Y_tags.shape = ', y_test_tags.shape)"
   ]
  },
  {
   "cell_type": "markdown",
   "metadata": {
    "id": "KkfcJq_TGAJ6"
   },
   "source": [
    "## We define some metrics to compare the different models "
   ]
  },
  {
   "cell_type": "code",
   "execution_count": 20,
   "metadata": {
    "id": "Ed9UibSZGAJ8"
   },
   "outputs": [],
   "source": [
    "def cosine_similarity(x, y):\n",
    "    x = np.array(x)\n",
    "    y = np.array(y)\n",
    "    assert x.shape == y.shape , 'x and y doesnt have same shape'\n",
    "    assert len(x.shape)==2 , 'x and y must be matrixes [nb_samp,x], if only 1 sample use : np.reshape(1,-1)'\n",
    "    cosin = []\n",
    "    for idx in range(x.shape[0]):\n",
    "        if (np.dot(x[idx], x[idx]) !=0 and np.dot(y[idx], y[idx]) != 0 ) :\n",
    "            cosin.append(np.dot(x[idx], y[idx]) / (np.sqrt(np.dot(x[idx], x[idx])) * np.sqrt(np.dot(y[idx], y[idx]))))\n",
    "        elif (np.dot(x[idx], x[idx]) ==0 and np.dot(y[idx], y[idx]) == 0 ) : \n",
    "            cosin.append(1)\n",
    "        else:\n",
    "            cosin.append(-1)\n",
    "    return np.mean(cosin)\n",
    "\n",
    "def print_metrics(y_true, pred):\n",
    "    '''Prints and return a summary of results'''\n",
    "    y_true = np.array(y_true)\n",
    "    pred = np.array(pred)\n",
    "    assert y_true.shape == pred.shape, 'arrays doesnt have same shape'\n",
    "    \n",
    "    res = [metrics.accuracy_score(y_true, pred),\n",
    "           metrics.hamming_loss(y_true,pred),\n",
    "           precision_score(y_true, pred, average='micro'),\n",
    "           recall_score(y_true, pred, average='micro'),\n",
    "           f1_score(y_true, pred, average='micro'),\n",
    "           cosine_similarity(y_true,pred)]\n",
    "    \n",
    "    print(\"Accuracy :{:.3}\\nHamming loss :{:.4}\\n\\nMicro-averaged quality metrics :\\nPrecision :{:.3}\\nRecall :{:.3}\\nF1-score :{:.3}\\nCosine similarity : {:.3}\".format(*res))\n",
    "    return res"
   ]
  },
  {
   "cell_type": "markdown",
   "metadata": {
    "id": "9SB9sS0WGAJ9"
   },
   "source": [
    "## Lets compare different models on both vectorizers (bow and tfidf)\n",
    "* SGD \n",
    "* Logistic regression \n",
    "* Random Forest\n",
    "* XGBoost \n",
    "* LightGBM\n",
    "\n",
    "Lets put results into a csv file"
   ]
  },
  {
   "cell_type": "code",
   "execution_count": 36,
   "metadata": {
    "colab": {
     "base_uri": "https://localhost:8080/",
     "height": 58
    },
    "id": "CoTnBihTIx11",
    "outputId": "396b397e-a097-4c09-ea99-3e3f3778c704"
   },
   "outputs": [
    {
     "data": {
      "text/html": [
       "<div>\n",
       "<style scoped>\n",
       "    .dataframe tbody tr th:only-of-type {\n",
       "        vertical-align: middle;\n",
       "    }\n",
       "\n",
       "    .dataframe tbody tr th {\n",
       "        vertical-align: top;\n",
       "    }\n",
       "\n",
       "    .dataframe thead th {\n",
       "        text-align: right;\n",
       "    }\n",
       "</style>\n",
       "<table border=\"1\" class=\"dataframe\">\n",
       "  <thead>\n",
       "    <tr style=\"text-align: right;\">\n",
       "      <th></th>\n",
       "      <th>model</th>\n",
       "      <th>vectorizer</th>\n",
       "      <th>acc</th>\n",
       "      <th>hamm</th>\n",
       "      <th>precision</th>\n",
       "      <th>recall</th>\n",
       "      <th>F1</th>\n",
       "      <th>cosine</th>\n",
       "      <th>tps</th>\n",
       "    </tr>\n",
       "  </thead>\n",
       "  <tbody>\n",
       "    <tr>\n",
       "      <th>0</th>\n",
       "      <td>SGD</td>\n",
       "      <td>bow</td>\n",
       "      <td>0.451789</td>\n",
       "      <td>0.029397</td>\n",
       "      <td>0.858990</td>\n",
       "      <td>0.545721</td>\n",
       "      <td>0.667424</td>\n",
       "      <td>0.272044</td>\n",
       "      <td>38.429488</td>\n",
       "    </tr>\n",
       "    <tr>\n",
       "      <th>1</th>\n",
       "      <td>SGD</td>\n",
       "      <td>tfidf</td>\n",
       "      <td>0.318066</td>\n",
       "      <td>0.036354</td>\n",
       "      <td>0.904348</td>\n",
       "      <td>0.366161</td>\n",
       "      <td>0.521267</td>\n",
       "      <td>-0.136463</td>\n",
       "      <td>32.303356</td>\n",
       "    </tr>\n",
       "    <tr>\n",
       "      <th>2</th>\n",
       "      <td>RegLog</td>\n",
       "      <td>bow</td>\n",
       "      <td>0.512687</td>\n",
       "      <td>0.026722</td>\n",
       "      <td>0.821278</td>\n",
       "      <td>0.646259</td>\n",
       "      <td>0.723332</td>\n",
       "      <td>0.488656</td>\n",
       "      <td>177.660644</td>\n",
       "    </tr>\n",
       "    <tr>\n",
       "      <th>3</th>\n",
       "      <td>RegLog</td>\n",
       "      <td>tfidf</td>\n",
       "      <td>0.493783</td>\n",
       "      <td>0.026960</td>\n",
       "      <td>0.882634</td>\n",
       "      <td>0.578093</td>\n",
       "      <td>0.698617</td>\n",
       "      <td>0.338966</td>\n",
       "      <td>116.288684</td>\n",
       "    </tr>\n",
       "    <tr>\n",
       "      <th>4</th>\n",
       "      <td>RF</td>\n",
       "      <td>bow</td>\n",
       "      <td>0.486679</td>\n",
       "      <td>0.027441</td>\n",
       "      <td>0.900796</td>\n",
       "      <td>0.553252</td>\n",
       "      <td>0.685489</td>\n",
       "      <td>0.325105</td>\n",
       "      <td>493.970196</td>\n",
       "    </tr>\n",
       "    <tr>\n",
       "      <th>5</th>\n",
       "      <td>RF</td>\n",
       "      <td>tfidf</td>\n",
       "      <td>0.515478</td>\n",
       "      <td>0.025818</td>\n",
       "      <td>0.903094</td>\n",
       "      <td>0.585134</td>\n",
       "      <td>0.710148</td>\n",
       "      <td>0.380185</td>\n",
       "      <td>1099.684074</td>\n",
       "    </tr>\n",
       "    <tr>\n",
       "      <th>6</th>\n",
       "      <td>lgbm</td>\n",
       "      <td>bow</td>\n",
       "      <td>0.541233</td>\n",
       "      <td>0.024840</td>\n",
       "      <td>0.845721</td>\n",
       "      <td>0.661027</td>\n",
       "      <td>0.742054</td>\n",
       "      <td>0.523040</td>\n",
       "      <td>270.265418</td>\n",
       "    </tr>\n",
       "    <tr>\n",
       "      <th>7</th>\n",
       "      <td>lgbm</td>\n",
       "      <td>tfidf</td>\n",
       "      <td>0.565592</td>\n",
       "      <td>0.023408</td>\n",
       "      <td>0.864179</td>\n",
       "      <td>0.672665</td>\n",
       "      <td>0.756489</td>\n",
       "      <td>0.543978</td>\n",
       "      <td>730.452619</td>\n",
       "    </tr>\n",
       "    <tr>\n",
       "      <th>8</th>\n",
       "      <td>xgboost</td>\n",
       "      <td>bow</td>\n",
       "      <td>0.533113</td>\n",
       "      <td>0.025158</td>\n",
       "      <td>0.849310</td>\n",
       "      <td>0.649878</td>\n",
       "      <td>0.736329</td>\n",
       "      <td>0.495840</td>\n",
       "      <td>7738.712713</td>\n",
       "    </tr>\n",
       "    <tr>\n",
       "      <th>9</th>\n",
       "      <td>xgboost</td>\n",
       "      <td>tfidf</td>\n",
       "      <td>0.549734</td>\n",
       "      <td>0.024127</td>\n",
       "      <td>0.860895</td>\n",
       "      <td>0.660342</td>\n",
       "      <td>0.747399</td>\n",
       "      <td>0.513890</td>\n",
       "      <td>8050.586103</td>\n",
       "    </tr>\n",
       "  </tbody>\n",
       "</table>\n",
       "</div>"
      ],
      "text/plain": [
       "     model vectorizer       acc      hamm  precision    recall        F1  \\\n",
       "0      SGD        bow  0.451789  0.029397   0.858990  0.545721  0.667424   \n",
       "1      SGD      tfidf  0.318066  0.036354   0.904348  0.366161  0.521267   \n",
       "2   RegLog        bow  0.512687  0.026722   0.821278  0.646259  0.723332   \n",
       "3   RegLog      tfidf  0.493783  0.026960   0.882634  0.578093  0.698617   \n",
       "4       RF        bow  0.486679  0.027441   0.900796  0.553252  0.685489   \n",
       "5       RF      tfidf  0.515478  0.025818   0.903094  0.585134  0.710148   \n",
       "6     lgbm        bow  0.541233  0.024840   0.845721  0.661027  0.742054   \n",
       "7     lgbm      tfidf  0.565592  0.023408   0.864179  0.672665  0.756489   \n",
       "8  xgboost        bow  0.533113  0.025158   0.849310  0.649878  0.736329   \n",
       "9  xgboost      tfidf  0.549734  0.024127   0.860895  0.660342  0.747399   \n",
       "\n",
       "     cosine          tps  \n",
       "0  0.272044    38.429488  \n",
       "1 -0.136463    32.303356  \n",
       "2  0.488656   177.660644  \n",
       "3  0.338966   116.288684  \n",
       "4  0.325105   493.970196  \n",
       "5  0.380185  1099.684074  \n",
       "6  0.523040   270.265418  \n",
       "7  0.543978   730.452619  \n",
       "8  0.495840  7738.712713  \n",
       "9  0.513890  8050.586103  "
      ]
     },
     "execution_count": 36,
     "metadata": {},
     "output_type": "execute_result"
    }
   ],
   "source": [
    "name = 'results.csv'\n",
    "if os.path.exists(input_dir+name):\n",
    "  classifier_comparison = pd.read_csv(input_dir+name)\n",
    "else : \n",
    "    classifier_comparison = pd.DataFrame(columns = ['model','vectorizer','acc','hamm','precision','recall','F1','cosine','tps'])\n",
    "classifier_comparison"
   ]
  },
  {
   "cell_type": "code",
   "execution_count": 18,
   "metadata": {
    "colab": {
     "base_uri": "https://localhost:8080/",
     "height": 298
    },
    "id": "IpYzFfXVGAJ-",
    "outputId": "7cbdb26f-e49b-4db6-f272-90b8b8b5a2f3"
   },
   "outputs": [
    {
     "name": "stdout",
     "output_type": "stream",
     "text": [
      "Accuracy :0.452\n",
      "Hamming loss :0.0294\n",
      "\n",
      "Micro-averaged quality metrics :\n",
      "Precision :0.859\n",
      "Recall :0.546\n",
      "F1-score :0.667\n",
      "Cosine similarity : 0.272\n",
      "Time taken to run this cell : 38.429488000999996\n"
     ]
    },
    {
     "data": {
      "text/html": [
       "<div>\n",
       "<style scoped>\n",
       "    .dataframe tbody tr th:only-of-type {\n",
       "        vertical-align: middle;\n",
       "    }\n",
       "\n",
       "    .dataframe tbody tr th {\n",
       "        vertical-align: top;\n",
       "    }\n",
       "\n",
       "    .dataframe thead th {\n",
       "        text-align: right;\n",
       "    }\n",
       "</style>\n",
       "<table border=\"1\" class=\"dataframe\">\n",
       "  <thead>\n",
       "    <tr style=\"text-align: right;\">\n",
       "      <th></th>\n",
       "      <th>model</th>\n",
       "      <th>vectorizer</th>\n",
       "      <th>acc</th>\n",
       "      <th>hamm</th>\n",
       "      <th>precision</th>\n",
       "      <th>recall</th>\n",
       "      <th>F1</th>\n",
       "      <th>cosine</th>\n",
       "      <th>tps</th>\n",
       "    </tr>\n",
       "  </thead>\n",
       "  <tbody>\n",
       "    <tr>\n",
       "      <th>0</th>\n",
       "      <td>SGD</td>\n",
       "      <td>bow</td>\n",
       "      <td>0.451789</td>\n",
       "      <td>0.029397</td>\n",
       "      <td>0.85899</td>\n",
       "      <td>0.545721</td>\n",
       "      <td>0.667424</td>\n",
       "      <td>0.272044</td>\n",
       "      <td>38.429488</td>\n",
       "    </tr>\n",
       "  </tbody>\n",
       "</table>\n",
       "</div>"
      ],
      "text/plain": [
       "  model vectorizer       acc      hamm  ...    recall        F1    cosine        tps\n",
       "0   SGD        bow  0.451789  0.029397  ...  0.545721  0.667424  0.272044  38.429488\n",
       "\n",
       "[1 rows x 9 columns]"
      ]
     },
     "execution_count": 18,
     "metadata": {
      "tags": []
     },
     "output_type": "execute_result"
    }
   ],
   "source": [
    "# Train SGD with bow\n",
    "start = time.process_time()\n",
    "classifier = OneVsRestClassifier(SGDClassifier(loss='log', alpha=0.001, penalty='l1'))\n",
    "classifier.fit(X_train_bow, y_train_multi)\n",
    "predictions = classifier.predict(X_test_bow)\n",
    "\n",
    "\n",
    "res = print_metrics(y_test_multi, predictions)\n",
    "tps = time.process_time() - start\n",
    "print(\"Time taken to run this cell :\", tps)\n",
    "dico = {'model':'SGD',\n",
    "      'vectorizer':'bow',\n",
    "      'acc':res[0],\n",
    "      'hamm':res[1],\n",
    "      'precision':res[2],\n",
    "      'recall':res[3],\n",
    "      'F1':res[4],\n",
    "      'cosine':res[5],\n",
    "      'tps':tps}\n",
    "classifier_comparison = classifier_comparison.append(dico,ignore_index=True)\n",
    "classifier_comparison\n"
   ]
  },
  {
   "cell_type": "code",
   "execution_count": 20,
   "metadata": {
    "colab": {
     "base_uri": "https://localhost:8080/",
     "height": 378
    },
    "id": "_5Kc4NLyKAmN",
    "outputId": "236f56f4-6c4b-4ce6-c04f-f0ba11902423"
   },
   "outputs": [
    {
     "name": "stdout",
     "output_type": "stream",
     "text": [
      "Accuracy :0.318\n",
      "Hamming loss :0.03635\n",
      "\n",
      "Micro-averaged quality metrics :\n",
      "Precision :0.904\n",
      "Recall :0.366\n",
      "F1-score :0.521\n",
      "Cosine similarity : -0.136\n",
      "Time taken to run this cell : 32.303356313999984\n"
     ]
    },
    {
     "data": {
      "text/html": [
       "<div>\n",
       "<style scoped>\n",
       "    .dataframe tbody tr th:only-of-type {\n",
       "        vertical-align: middle;\n",
       "    }\n",
       "\n",
       "    .dataframe tbody tr th {\n",
       "        vertical-align: top;\n",
       "    }\n",
       "\n",
       "    .dataframe thead th {\n",
       "        text-align: right;\n",
       "    }\n",
       "</style>\n",
       "<table border=\"1\" class=\"dataframe\">\n",
       "  <thead>\n",
       "    <tr style=\"text-align: right;\">\n",
       "      <th></th>\n",
       "      <th>model</th>\n",
       "      <th>vectorizer</th>\n",
       "      <th>acc</th>\n",
       "      <th>hamm</th>\n",
       "      <th>precision</th>\n",
       "      <th>recall</th>\n",
       "      <th>F1</th>\n",
       "      <th>cosine</th>\n",
       "      <th>tps</th>\n",
       "    </tr>\n",
       "  </thead>\n",
       "  <tbody>\n",
       "    <tr>\n",
       "      <th>0</th>\n",
       "      <td>SGD</td>\n",
       "      <td>bow</td>\n",
       "      <td>0.451789</td>\n",
       "      <td>0.029397</td>\n",
       "      <td>0.858990</td>\n",
       "      <td>0.545721</td>\n",
       "      <td>0.667424</td>\n",
       "      <td>0.272044</td>\n",
       "      <td>38.429488</td>\n",
       "    </tr>\n",
       "    <tr>\n",
       "      <th>1</th>\n",
       "      <td>RegLog</td>\n",
       "      <td>bow</td>\n",
       "      <td>0.512687</td>\n",
       "      <td>0.026722</td>\n",
       "      <td>0.821278</td>\n",
       "      <td>0.646259</td>\n",
       "      <td>0.723332</td>\n",
       "      <td>0.488656</td>\n",
       "      <td>177.660644</td>\n",
       "    </tr>\n",
       "    <tr>\n",
       "      <th>2</th>\n",
       "      <td>SGD</td>\n",
       "      <td>tfidf</td>\n",
       "      <td>0.318066</td>\n",
       "      <td>0.036354</td>\n",
       "      <td>0.904348</td>\n",
       "      <td>0.366161</td>\n",
       "      <td>0.521267</td>\n",
       "      <td>-0.136463</td>\n",
       "      <td>32.303356</td>\n",
       "    </tr>\n",
       "  </tbody>\n",
       "</table>\n",
       "</div>"
      ],
      "text/plain": [
       "    model vectorizer       acc  ...        F1    cosine         tps\n",
       "0     SGD        bow  0.451789  ...  0.667424  0.272044   38.429488\n",
       "1  RegLog        bow  0.512687  ...  0.723332  0.488656  177.660644\n",
       "2     SGD      tfidf  0.318066  ...  0.521267 -0.136463   32.303356\n",
       "\n",
       "[3 rows x 9 columns]"
      ]
     },
     "execution_count": 20,
     "metadata": {
      "tags": []
     },
     "output_type": "execute_result"
    }
   ],
   "source": [
    "# Train SGD with tfidf\n",
    "start = time.process_time()\n",
    "classifier = OneVsRestClassifier(SGDClassifier(loss='log', alpha=0.001, penalty='l1'))\n",
    "classifier.fit(X_train_tfidf, y_train_multi)\n",
    "predictions = classifier.predict(X_test_tfidf)\n",
    "\n",
    "\n",
    "res = print_metrics(y_test_multi, predictions)\n",
    "tps = time.process_time() - start\n",
    "print(\"Time taken to run this cell :\", tps)\n",
    "dico = {'model':'SGD',\n",
    "      'vectorizer':'tfidf',\n",
    "      'acc':res[0],\n",
    "      'hamm':res[1],\n",
    "      'precision':res[2],\n",
    "      'recall':res[3],\n",
    "      'F1':res[4],\n",
    "      'cosine':res[5],\n",
    "      'tps':tps}\n",
    "classifier_comparison = classifier_comparison.append(dico,ignore_index=True)\n",
    "classifier_comparison\n"
   ]
  },
  {
   "cell_type": "code",
   "execution_count": 19,
   "metadata": {
    "colab": {
     "base_uri": "https://localhost:8080/",
     "height": 338
    },
    "id": "DuYeeFGdGAJ_",
    "outputId": "1070454a-4390-4f11-911c-c03dc12a87ad"
   },
   "outputs": [
    {
     "name": "stdout",
     "output_type": "stream",
     "text": [
      "Accuracy :0.513\n",
      "Hamming loss :0.02672\n",
      "\n",
      "Micro-averaged quality metrics :\n",
      "Precision :0.821\n",
      "Recall :0.646\n",
      "F1-score :0.723\n",
      "Cosine similarity : 0.489\n",
      "Time taken to run this cell : 177.660643808\n"
     ]
    },
    {
     "data": {
      "text/html": [
       "<div>\n",
       "<style scoped>\n",
       "    .dataframe tbody tr th:only-of-type {\n",
       "        vertical-align: middle;\n",
       "    }\n",
       "\n",
       "    .dataframe tbody tr th {\n",
       "        vertical-align: top;\n",
       "    }\n",
       "\n",
       "    .dataframe thead th {\n",
       "        text-align: right;\n",
       "    }\n",
       "</style>\n",
       "<table border=\"1\" class=\"dataframe\">\n",
       "  <thead>\n",
       "    <tr style=\"text-align: right;\">\n",
       "      <th></th>\n",
       "      <th>model</th>\n",
       "      <th>vectorizer</th>\n",
       "      <th>acc</th>\n",
       "      <th>hamm</th>\n",
       "      <th>precision</th>\n",
       "      <th>recall</th>\n",
       "      <th>F1</th>\n",
       "      <th>cosine</th>\n",
       "      <th>tps</th>\n",
       "    </tr>\n",
       "  </thead>\n",
       "  <tbody>\n",
       "    <tr>\n",
       "      <th>0</th>\n",
       "      <td>SGD</td>\n",
       "      <td>bow</td>\n",
       "      <td>0.451789</td>\n",
       "      <td>0.029397</td>\n",
       "      <td>0.858990</td>\n",
       "      <td>0.545721</td>\n",
       "      <td>0.667424</td>\n",
       "      <td>0.272044</td>\n",
       "      <td>38.429488</td>\n",
       "    </tr>\n",
       "    <tr>\n",
       "      <th>1</th>\n",
       "      <td>RegLog</td>\n",
       "      <td>bow</td>\n",
       "      <td>0.512687</td>\n",
       "      <td>0.026722</td>\n",
       "      <td>0.821278</td>\n",
       "      <td>0.646259</td>\n",
       "      <td>0.723332</td>\n",
       "      <td>0.488656</td>\n",
       "      <td>177.660644</td>\n",
       "    </tr>\n",
       "  </tbody>\n",
       "</table>\n",
       "</div>"
      ],
      "text/plain": [
       "    model vectorizer       acc  ...        F1    cosine         tps\n",
       "0     SGD        bow  0.451789  ...  0.667424  0.272044   38.429488\n",
       "1  RegLog        bow  0.512687  ...  0.723332  0.488656  177.660644\n",
       "\n",
       "[2 rows x 9 columns]"
      ]
     },
     "execution_count": 19,
     "metadata": {
      "tags": []
     },
     "output_type": "execute_result"
    }
   ],
   "source": [
    "# Train RegLog with bow\n",
    "start = time.process_time()\n",
    "classifier = OneVsRestClassifier(LogisticRegression(max_iter = 1000))\n",
    "classifier.fit(X_train_bow, y_train_multi)\n",
    "predictions = classifier.predict(X_test_bow)\n",
    "\n",
    "\n",
    "res = print_metrics(y_test_multi, predictions)\n",
    "tps = time.process_time() - start\n",
    "print(\"Time taken to run this cell :\", tps)\n",
    "dico = {'model':'RegLog',\n",
    "      'vectorizer':'bow',\n",
    "      'acc':res[0],\n",
    "      'hamm':res[1],\n",
    "      'precision':res[2],\n",
    "      'recall':res[3],\n",
    "      'F1':res[4],\n",
    "      'cosine':res[5],\n",
    "      'tps':tps}\n",
    "classifier_comparison = classifier_comparison.append(dico,ignore_index=True)\n",
    "classifier_comparison"
   ]
  },
  {
   "cell_type": "code",
   "execution_count": 22,
   "metadata": {
    "colab": {
     "base_uri": "https://localhost:8080/",
     "height": 418
    },
    "id": "bmq8RFiEKnyb",
    "outputId": "f8a9b8f7-ec0d-4076-a968-1b9a864507e8"
   },
   "outputs": [
    {
     "name": "stdout",
     "output_type": "stream",
     "text": [
      "Accuracy :0.494\n",
      "Hamming loss :0.02696\n",
      "\n",
      "Micro-averaged quality metrics :\n",
      "Precision :0.883\n",
      "Recall :0.578\n",
      "F1-score :0.699\n",
      "Cosine similarity : 0.339\n",
      "Time taken to run this cell : 116.28868398600002\n"
     ]
    },
    {
     "data": {
      "text/html": [
       "<div>\n",
       "<style scoped>\n",
       "    .dataframe tbody tr th:only-of-type {\n",
       "        vertical-align: middle;\n",
       "    }\n",
       "\n",
       "    .dataframe tbody tr th {\n",
       "        vertical-align: top;\n",
       "    }\n",
       "\n",
       "    .dataframe thead th {\n",
       "        text-align: right;\n",
       "    }\n",
       "</style>\n",
       "<table border=\"1\" class=\"dataframe\">\n",
       "  <thead>\n",
       "    <tr style=\"text-align: right;\">\n",
       "      <th></th>\n",
       "      <th>model</th>\n",
       "      <th>vectorizer</th>\n",
       "      <th>acc</th>\n",
       "      <th>hamm</th>\n",
       "      <th>precision</th>\n",
       "      <th>recall</th>\n",
       "      <th>F1</th>\n",
       "      <th>cosine</th>\n",
       "      <th>tps</th>\n",
       "    </tr>\n",
       "  </thead>\n",
       "  <tbody>\n",
       "    <tr>\n",
       "      <th>0</th>\n",
       "      <td>SGD</td>\n",
       "      <td>bow</td>\n",
       "      <td>0.451789</td>\n",
       "      <td>0.029397</td>\n",
       "      <td>0.858990</td>\n",
       "      <td>0.545721</td>\n",
       "      <td>0.667424</td>\n",
       "      <td>0.272044</td>\n",
       "      <td>38.429488</td>\n",
       "    </tr>\n",
       "    <tr>\n",
       "      <th>1</th>\n",
       "      <td>RegLog</td>\n",
       "      <td>bow</td>\n",
       "      <td>0.512687</td>\n",
       "      <td>0.026722</td>\n",
       "      <td>0.821278</td>\n",
       "      <td>0.646259</td>\n",
       "      <td>0.723332</td>\n",
       "      <td>0.488656</td>\n",
       "      <td>177.660644</td>\n",
       "    </tr>\n",
       "    <tr>\n",
       "      <th>2</th>\n",
       "      <td>SGD</td>\n",
       "      <td>tfidf</td>\n",
       "      <td>0.318066</td>\n",
       "      <td>0.036354</td>\n",
       "      <td>0.904348</td>\n",
       "      <td>0.366161</td>\n",
       "      <td>0.521267</td>\n",
       "      <td>-0.136463</td>\n",
       "      <td>32.303356</td>\n",
       "    </tr>\n",
       "    <tr>\n",
       "      <th>3</th>\n",
       "      <td>RegLog</td>\n",
       "      <td>tfidf</td>\n",
       "      <td>0.493783</td>\n",
       "      <td>0.026960</td>\n",
       "      <td>0.882634</td>\n",
       "      <td>0.578093</td>\n",
       "      <td>0.698617</td>\n",
       "      <td>0.338966</td>\n",
       "      <td>116.288684</td>\n",
       "    </tr>\n",
       "  </tbody>\n",
       "</table>\n",
       "</div>"
      ],
      "text/plain": [
       "    model vectorizer       acc  ...        F1    cosine         tps\n",
       "0     SGD        bow  0.451789  ...  0.667424  0.272044   38.429488\n",
       "1  RegLog        bow  0.512687  ...  0.723332  0.488656  177.660644\n",
       "2     SGD      tfidf  0.318066  ...  0.521267 -0.136463   32.303356\n",
       "3  RegLog      tfidf  0.493783  ...  0.698617  0.338966  116.288684\n",
       "\n",
       "[4 rows x 9 columns]"
      ]
     },
     "execution_count": 22,
     "metadata": {
      "tags": []
     },
     "output_type": "execute_result"
    }
   ],
   "source": [
    "# Train RegLog with tfidf\n",
    "start = time.process_time()\n",
    "classifier = OneVsRestClassifier(LogisticRegression(max_iter = 1000))\n",
    "classifier.fit(X_train_tfidf, y_train_multi)\n",
    "predictions = classifier.predict(X_test_tfidf)\n",
    "\n",
    "\n",
    "res = print_metrics(y_test_multi, predictions)\n",
    "tps = time.process_time() - start\n",
    "print(\"Time taken to run this cell :\", tps)\n",
    "dico = {'model':'RegLog',\n",
    "      'vectorizer':'tfidf',\n",
    "      'acc':res[0],\n",
    "      'hamm':res[1],\n",
    "      'precision':res[2],\n",
    "      'recall':res[3],\n",
    "      'F1':res[4],\n",
    "      'cosine':res[5],\n",
    "      'tps':tps}\n",
    "classifier_comparison = classifier_comparison.append(dico,ignore_index=True)\n",
    "classifier_comparison"
   ]
  },
  {
   "cell_type": "code",
   "execution_count": 23,
   "metadata": {
    "id": "fiFAP3B0LI2I"
   },
   "outputs": [],
   "source": [
    "classifier_comparison.to_csv(input_dir+name, index = False)"
   ]
  },
  {
   "cell_type": "code",
   "execution_count": 24,
   "metadata": {
    "colab": {
     "base_uri": "https://localhost:8080/",
     "height": 458
    },
    "id": "ZG225B2cGAKA",
    "outputId": "f7265fad-5d51-4534-8e83-5e91e5758347"
   },
   "outputs": [
    {
     "name": "stdout",
     "output_type": "stream",
     "text": [
      "Accuracy :0.487\n",
      "Hamming loss :0.02744\n",
      "\n",
      "Micro-averaged quality metrics :\n",
      "Precision :0.901\n",
      "Recall :0.553\n",
      "F1-score :0.685\n",
      "Cosine similarity : 0.325\n",
      "Time taken to run this cell : 493.97019612\n"
     ]
    },
    {
     "data": {
      "text/html": [
       "<div>\n",
       "<style scoped>\n",
       "    .dataframe tbody tr th:only-of-type {\n",
       "        vertical-align: middle;\n",
       "    }\n",
       "\n",
       "    .dataframe tbody tr th {\n",
       "        vertical-align: top;\n",
       "    }\n",
       "\n",
       "    .dataframe thead th {\n",
       "        text-align: right;\n",
       "    }\n",
       "</style>\n",
       "<table border=\"1\" class=\"dataframe\">\n",
       "  <thead>\n",
       "    <tr style=\"text-align: right;\">\n",
       "      <th></th>\n",
       "      <th>model</th>\n",
       "      <th>vectorizer</th>\n",
       "      <th>acc</th>\n",
       "      <th>hamm</th>\n",
       "      <th>precision</th>\n",
       "      <th>recall</th>\n",
       "      <th>F1</th>\n",
       "      <th>cosine</th>\n",
       "      <th>tps</th>\n",
       "    </tr>\n",
       "  </thead>\n",
       "  <tbody>\n",
       "    <tr>\n",
       "      <th>0</th>\n",
       "      <td>SGD</td>\n",
       "      <td>bow</td>\n",
       "      <td>0.451789</td>\n",
       "      <td>0.029397</td>\n",
       "      <td>0.858990</td>\n",
       "      <td>0.545721</td>\n",
       "      <td>0.667424</td>\n",
       "      <td>0.272044</td>\n",
       "      <td>38.429488</td>\n",
       "    </tr>\n",
       "    <tr>\n",
       "      <th>1</th>\n",
       "      <td>RegLog</td>\n",
       "      <td>bow</td>\n",
       "      <td>0.512687</td>\n",
       "      <td>0.026722</td>\n",
       "      <td>0.821278</td>\n",
       "      <td>0.646259</td>\n",
       "      <td>0.723332</td>\n",
       "      <td>0.488656</td>\n",
       "      <td>177.660644</td>\n",
       "    </tr>\n",
       "    <tr>\n",
       "      <th>2</th>\n",
       "      <td>SGD</td>\n",
       "      <td>tfidf</td>\n",
       "      <td>0.318066</td>\n",
       "      <td>0.036354</td>\n",
       "      <td>0.904348</td>\n",
       "      <td>0.366161</td>\n",
       "      <td>0.521267</td>\n",
       "      <td>-0.136463</td>\n",
       "      <td>32.303356</td>\n",
       "    </tr>\n",
       "    <tr>\n",
       "      <th>3</th>\n",
       "      <td>RegLog</td>\n",
       "      <td>tfidf</td>\n",
       "      <td>0.493783</td>\n",
       "      <td>0.026960</td>\n",
       "      <td>0.882634</td>\n",
       "      <td>0.578093</td>\n",
       "      <td>0.698617</td>\n",
       "      <td>0.338966</td>\n",
       "      <td>116.288684</td>\n",
       "    </tr>\n",
       "    <tr>\n",
       "      <th>4</th>\n",
       "      <td>RF</td>\n",
       "      <td>bow</td>\n",
       "      <td>0.486679</td>\n",
       "      <td>0.027441</td>\n",
       "      <td>0.900796</td>\n",
       "      <td>0.553252</td>\n",
       "      <td>0.685489</td>\n",
       "      <td>0.325105</td>\n",
       "      <td>493.970196</td>\n",
       "    </tr>\n",
       "  </tbody>\n",
       "</table>\n",
       "</div>"
      ],
      "text/plain": [
       "    model vectorizer       acc  ...        F1    cosine         tps\n",
       "0     SGD        bow  0.451789  ...  0.667424  0.272044   38.429488\n",
       "1  RegLog        bow  0.512687  ...  0.723332  0.488656  177.660644\n",
       "2     SGD      tfidf  0.318066  ...  0.521267 -0.136463   32.303356\n",
       "3  RegLog      tfidf  0.493783  ...  0.698617  0.338966  116.288684\n",
       "4      RF        bow  0.486679  ...  0.685489  0.325105  493.970196\n",
       "\n",
       "[5 rows x 9 columns]"
      ]
     },
     "execution_count": 24,
     "metadata": {
      "tags": []
     },
     "output_type": "execute_result"
    }
   ],
   "source": [
    "# Train RandomForest with bow\n",
    "start = time.process_time()\n",
    "classifier = OneVsRestClassifier(RandomForestClassifier(random_state=42))\n",
    "classifier.fit(X_train_bow, y_train_multi)\n",
    "predictions = classifier.predict(X_test_bow)\n",
    "\n",
    "\n",
    "res = print_metrics(y_test_multi, predictions)\n",
    "tps = time.process_time() - start\n",
    "print(\"Time taken to run this cell :\", tps)\n",
    "dico = {'model':'RF',\n",
    "      'vectorizer':'bow',\n",
    "      'acc':res[0],\n",
    "      'hamm':res[1],\n",
    "      'precision':res[2],\n",
    "      'recall':res[3],\n",
    "      'F1':res[4],\n",
    "      'cosine':res[5],\n",
    "      'tps':tps}\n",
    "classifier_comparison = classifier_comparison.append(dico,ignore_index=True)\n",
    "classifier_comparison"
   ]
  },
  {
   "cell_type": "code",
   "execution_count": 25,
   "metadata": {
    "colab": {
     "base_uri": "https://localhost:8080/",
     "height": 498
    },
    "id": "IAL6FsXOLC6x",
    "outputId": "631d6824-a292-4da6-fbbc-1f1f2710389b"
   },
   "outputs": [
    {
     "name": "stdout",
     "output_type": "stream",
     "text": [
      "Accuracy :0.515\n",
      "Hamming loss :0.02582\n",
      "\n",
      "Micro-averaged quality metrics :\n",
      "Precision :0.903\n",
      "Recall :0.585\n",
      "F1-score :0.71\n",
      "Cosine similarity : 0.38\n",
      "Time taken to run this cell : 1099.6840743859998\n"
     ]
    },
    {
     "data": {
      "text/html": [
       "<div>\n",
       "<style scoped>\n",
       "    .dataframe tbody tr th:only-of-type {\n",
       "        vertical-align: middle;\n",
       "    }\n",
       "\n",
       "    .dataframe tbody tr th {\n",
       "        vertical-align: top;\n",
       "    }\n",
       "\n",
       "    .dataframe thead th {\n",
       "        text-align: right;\n",
       "    }\n",
       "</style>\n",
       "<table border=\"1\" class=\"dataframe\">\n",
       "  <thead>\n",
       "    <tr style=\"text-align: right;\">\n",
       "      <th></th>\n",
       "      <th>model</th>\n",
       "      <th>vectorizer</th>\n",
       "      <th>acc</th>\n",
       "      <th>hamm</th>\n",
       "      <th>precision</th>\n",
       "      <th>recall</th>\n",
       "      <th>F1</th>\n",
       "      <th>cosine</th>\n",
       "      <th>tps</th>\n",
       "    </tr>\n",
       "  </thead>\n",
       "  <tbody>\n",
       "    <tr>\n",
       "      <th>0</th>\n",
       "      <td>SGD</td>\n",
       "      <td>bow</td>\n",
       "      <td>0.451789</td>\n",
       "      <td>0.029397</td>\n",
       "      <td>0.858990</td>\n",
       "      <td>0.545721</td>\n",
       "      <td>0.667424</td>\n",
       "      <td>0.272044</td>\n",
       "      <td>38.429488</td>\n",
       "    </tr>\n",
       "    <tr>\n",
       "      <th>1</th>\n",
       "      <td>RegLog</td>\n",
       "      <td>bow</td>\n",
       "      <td>0.512687</td>\n",
       "      <td>0.026722</td>\n",
       "      <td>0.821278</td>\n",
       "      <td>0.646259</td>\n",
       "      <td>0.723332</td>\n",
       "      <td>0.488656</td>\n",
       "      <td>177.660644</td>\n",
       "    </tr>\n",
       "    <tr>\n",
       "      <th>2</th>\n",
       "      <td>SGD</td>\n",
       "      <td>tfidf</td>\n",
       "      <td>0.318066</td>\n",
       "      <td>0.036354</td>\n",
       "      <td>0.904348</td>\n",
       "      <td>0.366161</td>\n",
       "      <td>0.521267</td>\n",
       "      <td>-0.136463</td>\n",
       "      <td>32.303356</td>\n",
       "    </tr>\n",
       "    <tr>\n",
       "      <th>3</th>\n",
       "      <td>RegLog</td>\n",
       "      <td>tfidf</td>\n",
       "      <td>0.493783</td>\n",
       "      <td>0.026960</td>\n",
       "      <td>0.882634</td>\n",
       "      <td>0.578093</td>\n",
       "      <td>0.698617</td>\n",
       "      <td>0.338966</td>\n",
       "      <td>116.288684</td>\n",
       "    </tr>\n",
       "    <tr>\n",
       "      <th>4</th>\n",
       "      <td>RF</td>\n",
       "      <td>bow</td>\n",
       "      <td>0.486679</td>\n",
       "      <td>0.027441</td>\n",
       "      <td>0.900796</td>\n",
       "      <td>0.553252</td>\n",
       "      <td>0.685489</td>\n",
       "      <td>0.325105</td>\n",
       "      <td>493.970196</td>\n",
       "    </tr>\n",
       "    <tr>\n",
       "      <th>5</th>\n",
       "      <td>RF</td>\n",
       "      <td>tfidf</td>\n",
       "      <td>0.515478</td>\n",
       "      <td>0.025818</td>\n",
       "      <td>0.903094</td>\n",
       "      <td>0.585134</td>\n",
       "      <td>0.710148</td>\n",
       "      <td>0.380185</td>\n",
       "      <td>1099.684074</td>\n",
       "    </tr>\n",
       "  </tbody>\n",
       "</table>\n",
       "</div>"
      ],
      "text/plain": [
       "    model vectorizer       acc  ...        F1    cosine          tps\n",
       "0     SGD        bow  0.451789  ...  0.667424  0.272044    38.429488\n",
       "1  RegLog        bow  0.512687  ...  0.723332  0.488656   177.660644\n",
       "2     SGD      tfidf  0.318066  ...  0.521267 -0.136463    32.303356\n",
       "3  RegLog      tfidf  0.493783  ...  0.698617  0.338966   116.288684\n",
       "4      RF        bow  0.486679  ...  0.685489  0.325105   493.970196\n",
       "5      RF      tfidf  0.515478  ...  0.710148  0.380185  1099.684074\n",
       "\n",
       "[6 rows x 9 columns]"
      ]
     },
     "execution_count": 25,
     "metadata": {
      "tags": []
     },
     "output_type": "execute_result"
    }
   ],
   "source": [
    "# Train RandomForest with tfidf\n",
    "start = time.process_time()\n",
    "classifier = OneVsRestClassifier(RandomForestClassifier(random_state=42))\n",
    "classifier.fit(X_train_tfidf, y_train_multi)\n",
    "predictions = classifier.predict(X_test_tfidf)\n",
    "\n",
    "\n",
    "res = print_metrics(y_test_multi, predictions)\n",
    "tps = time.process_time() - start\n",
    "print(\"Time taken to run this cell :\", tps)\n",
    "dico = {'model':'RF',\n",
    "      'vectorizer':'tfidf',\n",
    "      'acc':res[0],\n",
    "      'hamm':res[1],\n",
    "      'precision':res[2],\n",
    "      'recall':res[3],\n",
    "      'F1':res[4],\n",
    "      'cosine':res[5],\n",
    "      'tps':tps}\n",
    "classifier_comparison = classifier_comparison.append(dico,ignore_index=True)\n",
    "classifier_comparison"
   ]
  },
  {
   "cell_type": "code",
   "execution_count": 26,
   "metadata": {
    "id": "rQ5Odt4NN2qd"
   },
   "outputs": [],
   "source": [
    "classifier_comparison.to_csv(input_dir+name, index = False)"
   ]
  },
  {
   "cell_type": "code",
   "execution_count": 18,
   "metadata": {
    "colab": {
     "base_uri": "https://localhost:8080/",
     "height": 290
    },
    "id": "f-enIo84GAKB",
    "outputId": "1315ef3b-5e9e-487b-9461-8d4bd0383024"
   },
   "outputs": [
    {
     "name": "stdout",
     "output_type": "stream",
     "text": [
      "Accuracy :0.541\n",
      "Hamming loss :0.02484\n",
      "\n",
      "Micro-averaged quality metrics :\n",
      "Precision :0.846\n",
      "Recall :0.661\n",
      "F1-score :0.742\n",
      "Cosine similarity : 0.523\n",
      "Time taken to run this cell : 270.26541799999995\n"
     ]
    },
    {
     "data": {
      "text/html": [
       "<div>\n",
       "<style scoped>\n",
       "    .dataframe tbody tr th:only-of-type {\n",
       "        vertical-align: middle;\n",
       "    }\n",
       "\n",
       "    .dataframe tbody tr th {\n",
       "        vertical-align: top;\n",
       "    }\n",
       "\n",
       "    .dataframe thead th {\n",
       "        text-align: right;\n",
       "    }\n",
       "</style>\n",
       "<table border=\"1\" class=\"dataframe\">\n",
       "  <thead>\n",
       "    <tr style=\"text-align: right;\">\n",
       "      <th></th>\n",
       "      <th>Unnamed: 0</th>\n",
       "      <th>model</th>\n",
       "      <th>vectorizer</th>\n",
       "      <th>acc</th>\n",
       "      <th>hamm</th>\n",
       "      <th>precision</th>\n",
       "      <th>recall</th>\n",
       "      <th>F1</th>\n",
       "      <th>cosine</th>\n",
       "      <th>tps</th>\n",
       "    </tr>\n",
       "  </thead>\n",
       "  <tbody>\n",
       "    <tr>\n",
       "      <th>0</th>\n",
       "      <td>0.0</td>\n",
       "      <td>SGD</td>\n",
       "      <td>bow</td>\n",
       "      <td>0.451789</td>\n",
       "      <td>0.029397</td>\n",
       "      <td>0.858990</td>\n",
       "      <td>0.545721</td>\n",
       "      <td>0.667424</td>\n",
       "      <td>0.272044</td>\n",
       "      <td>38.429488</td>\n",
       "    </tr>\n",
       "    <tr>\n",
       "      <th>1</th>\n",
       "      <td>1.0</td>\n",
       "      <td>RegLog</td>\n",
       "      <td>bow</td>\n",
       "      <td>0.512687</td>\n",
       "      <td>0.026722</td>\n",
       "      <td>0.821278</td>\n",
       "      <td>0.646259</td>\n",
       "      <td>0.723332</td>\n",
       "      <td>0.488656</td>\n",
       "      <td>177.660644</td>\n",
       "    </tr>\n",
       "    <tr>\n",
       "      <th>2</th>\n",
       "      <td>2.0</td>\n",
       "      <td>SGD</td>\n",
       "      <td>tfidf</td>\n",
       "      <td>0.318066</td>\n",
       "      <td>0.036354</td>\n",
       "      <td>0.904348</td>\n",
       "      <td>0.366161</td>\n",
       "      <td>0.521267</td>\n",
       "      <td>-0.136463</td>\n",
       "      <td>32.303356</td>\n",
       "    </tr>\n",
       "    <tr>\n",
       "      <th>3</th>\n",
       "      <td>3.0</td>\n",
       "      <td>RegLog</td>\n",
       "      <td>tfidf</td>\n",
       "      <td>0.493783</td>\n",
       "      <td>0.026960</td>\n",
       "      <td>0.882634</td>\n",
       "      <td>0.578093</td>\n",
       "      <td>0.698617</td>\n",
       "      <td>0.338966</td>\n",
       "      <td>116.288684</td>\n",
       "    </tr>\n",
       "    <tr>\n",
       "      <th>4</th>\n",
       "      <td>4.0</td>\n",
       "      <td>RF</td>\n",
       "      <td>bow</td>\n",
       "      <td>0.486679</td>\n",
       "      <td>0.027441</td>\n",
       "      <td>0.900796</td>\n",
       "      <td>0.553252</td>\n",
       "      <td>0.685489</td>\n",
       "      <td>0.325105</td>\n",
       "      <td>493.970196</td>\n",
       "    </tr>\n",
       "    <tr>\n",
       "      <th>5</th>\n",
       "      <td>5.0</td>\n",
       "      <td>RF</td>\n",
       "      <td>tfidf</td>\n",
       "      <td>0.515478</td>\n",
       "      <td>0.025818</td>\n",
       "      <td>0.903094</td>\n",
       "      <td>0.585134</td>\n",
       "      <td>0.710148</td>\n",
       "      <td>0.380185</td>\n",
       "      <td>1099.684074</td>\n",
       "    </tr>\n",
       "    <tr>\n",
       "      <th>6</th>\n",
       "      <td>NaN</td>\n",
       "      <td>lgbm</td>\n",
       "      <td>bow</td>\n",
       "      <td>0.541233</td>\n",
       "      <td>0.024840</td>\n",
       "      <td>0.845721</td>\n",
       "      <td>0.661027</td>\n",
       "      <td>0.742054</td>\n",
       "      <td>0.523040</td>\n",
       "      <td>270.265418</td>\n",
       "    </tr>\n",
       "  </tbody>\n",
       "</table>\n",
       "</div>"
      ],
      "text/plain": [
       "   Unnamed: 0   model vectorizer       acc      hamm  precision    recall  \\\n",
       "0         0.0     SGD        bow  0.451789  0.029397   0.858990  0.545721   \n",
       "1         1.0  RegLog        bow  0.512687  0.026722   0.821278  0.646259   \n",
       "2         2.0     SGD      tfidf  0.318066  0.036354   0.904348  0.366161   \n",
       "3         3.0  RegLog      tfidf  0.493783  0.026960   0.882634  0.578093   \n",
       "4         4.0      RF        bow  0.486679  0.027441   0.900796  0.553252   \n",
       "5         5.0      RF      tfidf  0.515478  0.025818   0.903094  0.585134   \n",
       "6         NaN    lgbm        bow  0.541233  0.024840   0.845721  0.661027   \n",
       "\n",
       "         F1    cosine          tps  \n",
       "0  0.667424  0.272044    38.429488  \n",
       "1  0.723332  0.488656   177.660644  \n",
       "2  0.521267 -0.136463    32.303356  \n",
       "3  0.698617  0.338966   116.288684  \n",
       "4  0.685489  0.325105   493.970196  \n",
       "5  0.710148  0.380185  1099.684074  \n",
       "6  0.742054  0.523040   270.265418  "
      ]
     },
     "execution_count": 18,
     "metadata": {},
     "output_type": "execute_result"
    }
   ],
   "source": [
    "start = time.process_time()\n",
    "classifier = OneVsRestClassifier(lightgbm.LGBMClassifier(random_state=42))\n",
    "classifier.fit(X_train_bow, y_train_multi)\n",
    "predictions = classifier.predict(X_test_bow)\n",
    "\n",
    "\n",
    "res = print_metrics(y_test_multi, predictions)\n",
    "tps = time.process_time() - start\n",
    "print(\"Time taken to run this cell :\", tps)\n",
    "dico = {'model':'lgbm',\n",
    "      'vectorizer':'bow',\n",
    "      'acc':res[0],\n",
    "      'hamm':res[1],\n",
    "      'precision':res[2],\n",
    "      'recall':res[3],\n",
    "      'F1':res[4],\n",
    "      'cosine':res[5],\n",
    "      'tps':tps}\n",
    "classifier_comparison = classifier_comparison.append(dico,ignore_index=True)\n",
    "classifier_comparison"
   ]
  },
  {
   "cell_type": "code",
   "execution_count": 23,
   "metadata": {},
   "outputs": [],
   "source": [
    "classifier_comparison.to_csv(input_dir+name, index = False)"
   ]
  },
  {
   "cell_type": "code",
   "execution_count": 57,
   "metadata": {},
   "outputs": [
    {
     "name": "stdout",
     "output_type": "stream",
     "text": [
      "Accuracy :0.566\n",
      "Hamming loss :0.02341\n",
      "\n",
      "Micro-averaged quality metrics :\n",
      "Precision :0.864\n",
      "Recall :0.673\n",
      "F1-score :0.756\n",
      "Cosine similarity : 0.544\n",
      "Time taken to run this cell : 738.3291649999992\n"
     ]
    },
    {
     "data": {
      "text/html": [
       "<div>\n",
       "<style scoped>\n",
       "    .dataframe tbody tr th:only-of-type {\n",
       "        vertical-align: middle;\n",
       "    }\n",
       "\n",
       "    .dataframe tbody tr th {\n",
       "        vertical-align: top;\n",
       "    }\n",
       "\n",
       "    .dataframe thead th {\n",
       "        text-align: right;\n",
       "    }\n",
       "</style>\n",
       "<table border=\"1\" class=\"dataframe\">\n",
       "  <thead>\n",
       "    <tr style=\"text-align: right;\">\n",
       "      <th></th>\n",
       "      <th>model</th>\n",
       "      <th>vectorizer</th>\n",
       "      <th>acc</th>\n",
       "      <th>hamm</th>\n",
       "      <th>precision</th>\n",
       "      <th>recall</th>\n",
       "      <th>F1</th>\n",
       "      <th>cosine</th>\n",
       "      <th>tps</th>\n",
       "    </tr>\n",
       "  </thead>\n",
       "  <tbody>\n",
       "    <tr>\n",
       "      <th>0</th>\n",
       "      <td>SGD</td>\n",
       "      <td>bow</td>\n",
       "      <td>0.451789</td>\n",
       "      <td>0.029397</td>\n",
       "      <td>0.858990</td>\n",
       "      <td>0.545721</td>\n",
       "      <td>0.667424</td>\n",
       "      <td>0.272044</td>\n",
       "      <td>38.429488</td>\n",
       "    </tr>\n",
       "    <tr>\n",
       "      <th>1</th>\n",
       "      <td>SGD</td>\n",
       "      <td>tfidf</td>\n",
       "      <td>0.318066</td>\n",
       "      <td>0.036354</td>\n",
       "      <td>0.904348</td>\n",
       "      <td>0.366161</td>\n",
       "      <td>0.521267</td>\n",
       "      <td>-0.136463</td>\n",
       "      <td>32.303356</td>\n",
       "    </tr>\n",
       "    <tr>\n",
       "      <th>2</th>\n",
       "      <td>RegLog</td>\n",
       "      <td>bow</td>\n",
       "      <td>0.512687</td>\n",
       "      <td>0.026722</td>\n",
       "      <td>0.821278</td>\n",
       "      <td>0.646259</td>\n",
       "      <td>0.723332</td>\n",
       "      <td>0.488656</td>\n",
       "      <td>177.660644</td>\n",
       "    </tr>\n",
       "    <tr>\n",
       "      <th>3</th>\n",
       "      <td>RegLog</td>\n",
       "      <td>tfidf</td>\n",
       "      <td>0.493783</td>\n",
       "      <td>0.026960</td>\n",
       "      <td>0.882634</td>\n",
       "      <td>0.578093</td>\n",
       "      <td>0.698617</td>\n",
       "      <td>0.338966</td>\n",
       "      <td>116.288684</td>\n",
       "    </tr>\n",
       "    <tr>\n",
       "      <th>4</th>\n",
       "      <td>RF</td>\n",
       "      <td>bow</td>\n",
       "      <td>0.486679</td>\n",
       "      <td>0.027441</td>\n",
       "      <td>0.900796</td>\n",
       "      <td>0.553252</td>\n",
       "      <td>0.685489</td>\n",
       "      <td>0.325105</td>\n",
       "      <td>493.970196</td>\n",
       "    </tr>\n",
       "    <tr>\n",
       "      <th>5</th>\n",
       "      <td>RF</td>\n",
       "      <td>tfidf</td>\n",
       "      <td>0.515478</td>\n",
       "      <td>0.025818</td>\n",
       "      <td>0.903094</td>\n",
       "      <td>0.585134</td>\n",
       "      <td>0.710148</td>\n",
       "      <td>0.380185</td>\n",
       "      <td>1099.684074</td>\n",
       "    </tr>\n",
       "    <tr>\n",
       "      <th>6</th>\n",
       "      <td>lgbm</td>\n",
       "      <td>bow</td>\n",
       "      <td>0.541233</td>\n",
       "      <td>0.024840</td>\n",
       "      <td>0.845721</td>\n",
       "      <td>0.661027</td>\n",
       "      <td>0.742054</td>\n",
       "      <td>0.523040</td>\n",
       "      <td>270.265418</td>\n",
       "    </tr>\n",
       "    <tr>\n",
       "      <th>7</th>\n",
       "      <td>lgbm</td>\n",
       "      <td>tfidf</td>\n",
       "      <td>0.565592</td>\n",
       "      <td>0.023408</td>\n",
       "      <td>0.864179</td>\n",
       "      <td>0.672665</td>\n",
       "      <td>0.756489</td>\n",
       "      <td>0.543978</td>\n",
       "      <td>730.452619</td>\n",
       "    </tr>\n",
       "    <tr>\n",
       "      <th>8</th>\n",
       "      <td>xgboost</td>\n",
       "      <td>bow</td>\n",
       "      <td>0.533113</td>\n",
       "      <td>0.025158</td>\n",
       "      <td>0.849310</td>\n",
       "      <td>0.649878</td>\n",
       "      <td>0.736329</td>\n",
       "      <td>0.495840</td>\n",
       "      <td>7738.712713</td>\n",
       "    </tr>\n",
       "    <tr>\n",
       "      <th>9</th>\n",
       "      <td>xgboost</td>\n",
       "      <td>tfidf</td>\n",
       "      <td>0.549734</td>\n",
       "      <td>0.024127</td>\n",
       "      <td>0.860895</td>\n",
       "      <td>0.660342</td>\n",
       "      <td>0.747399</td>\n",
       "      <td>0.513890</td>\n",
       "      <td>8050.586103</td>\n",
       "    </tr>\n",
       "  </tbody>\n",
       "</table>\n",
       "</div>"
      ],
      "text/plain": [
       "     model vectorizer       acc      hamm  precision    recall        F1  \\\n",
       "0      SGD        bow  0.451789  0.029397   0.858990  0.545721  0.667424   \n",
       "1      SGD      tfidf  0.318066  0.036354   0.904348  0.366161  0.521267   \n",
       "2   RegLog        bow  0.512687  0.026722   0.821278  0.646259  0.723332   \n",
       "3   RegLog      tfidf  0.493783  0.026960   0.882634  0.578093  0.698617   \n",
       "4       RF        bow  0.486679  0.027441   0.900796  0.553252  0.685489   \n",
       "5       RF      tfidf  0.515478  0.025818   0.903094  0.585134  0.710148   \n",
       "6     lgbm        bow  0.541233  0.024840   0.845721  0.661027  0.742054   \n",
       "7     lgbm      tfidf  0.565592  0.023408   0.864179  0.672665  0.756489   \n",
       "8  xgboost        bow  0.533113  0.025158   0.849310  0.649878  0.736329   \n",
       "9  xgboost      tfidf  0.549734  0.024127   0.860895  0.660342  0.747399   \n",
       "\n",
       "     cosine          tps  \n",
       "0  0.272044    38.429488  \n",
       "1 -0.136463    32.303356  \n",
       "2  0.488656   177.660644  \n",
       "3  0.338966   116.288684  \n",
       "4  0.325105   493.970196  \n",
       "5  0.380185  1099.684074  \n",
       "6  0.523040   270.265418  \n",
       "7  0.543978   730.452619  \n",
       "8  0.495840  7738.712713  \n",
       "9  0.513890  8050.586103  "
      ]
     },
     "execution_count": 57,
     "metadata": {},
     "output_type": "execute_result"
    }
   ],
   "source": [
    "start = time.process_time()\n",
    "classifier = OneVsRestClassifier(lightgbm.LGBMClassifier(random_state=42))\n",
    "classifier.fit(X_train_tfidf, y_train_multi)\n",
    "predictions = classifier.predict(X_test_tfidf)\n",
    "\n",
    "\n",
    "res = print_metrics(y_test_multi, predictions)\n",
    "tps = time.process_time() - start\n",
    "print(\"Time taken to run this cell :\", tps)\n",
    "dico = {'model':'lgbm',\n",
    "      'vectorizer':'tfidf',\n",
    "      'acc':res[0],\n",
    "      'hamm':res[1],\n",
    "      'precision':res[2],\n",
    "      'recall':res[3],\n",
    "      'F1':res[4],\n",
    "      'cosine':res[5],\n",
    "      'tps':tps}\n",
    "#classifier_comparison = classifier_comparison.append(dico,ignore_index=True)\n",
    "classifier_comparison"
   ]
  },
  {
   "cell_type": "code",
   "execution_count": 27,
   "metadata": {},
   "outputs": [
    {
     "name": "stdout",
     "output_type": "stream",
     "text": [
      "Accuracy :0.533\n",
      "Hamming loss :0.02516\n",
      "\n",
      "Micro-averaged quality metrics :\n",
      "Precision :0.849\n",
      "Recall :0.65\n",
      "F1-score :0.736\n",
      "Cosine similarity : 0.496\n",
      "Time taken to run this cell : 7738.712713000001\n"
     ]
    },
    {
     "data": {
      "text/html": [
       "<div>\n",
       "<style scoped>\n",
       "    .dataframe tbody tr th:only-of-type {\n",
       "        vertical-align: middle;\n",
       "    }\n",
       "\n",
       "    .dataframe tbody tr th {\n",
       "        vertical-align: top;\n",
       "    }\n",
       "\n",
       "    .dataframe thead th {\n",
       "        text-align: right;\n",
       "    }\n",
       "</style>\n",
       "<table border=\"1\" class=\"dataframe\">\n",
       "  <thead>\n",
       "    <tr style=\"text-align: right;\">\n",
       "      <th></th>\n",
       "      <th>model</th>\n",
       "      <th>vectorizer</th>\n",
       "      <th>acc</th>\n",
       "      <th>hamm</th>\n",
       "      <th>precision</th>\n",
       "      <th>recall</th>\n",
       "      <th>F1</th>\n",
       "      <th>cosine</th>\n",
       "      <th>tps</th>\n",
       "    </tr>\n",
       "  </thead>\n",
       "  <tbody>\n",
       "    <tr>\n",
       "      <th>0</th>\n",
       "      <td>SGD</td>\n",
       "      <td>bow</td>\n",
       "      <td>0.451789</td>\n",
       "      <td>0.029397</td>\n",
       "      <td>0.858990</td>\n",
       "      <td>0.545721</td>\n",
       "      <td>0.667424</td>\n",
       "      <td>0.272044</td>\n",
       "      <td>38.429488</td>\n",
       "    </tr>\n",
       "    <tr>\n",
       "      <th>1</th>\n",
       "      <td>RegLog</td>\n",
       "      <td>bow</td>\n",
       "      <td>0.512687</td>\n",
       "      <td>0.026722</td>\n",
       "      <td>0.821278</td>\n",
       "      <td>0.646259</td>\n",
       "      <td>0.723332</td>\n",
       "      <td>0.488656</td>\n",
       "      <td>177.660644</td>\n",
       "    </tr>\n",
       "    <tr>\n",
       "      <th>2</th>\n",
       "      <td>SGD</td>\n",
       "      <td>tfidf</td>\n",
       "      <td>0.318066</td>\n",
       "      <td>0.036354</td>\n",
       "      <td>0.904348</td>\n",
       "      <td>0.366161</td>\n",
       "      <td>0.521267</td>\n",
       "      <td>-0.136463</td>\n",
       "      <td>32.303356</td>\n",
       "    </tr>\n",
       "    <tr>\n",
       "      <th>3</th>\n",
       "      <td>RegLog</td>\n",
       "      <td>tfidf</td>\n",
       "      <td>0.493783</td>\n",
       "      <td>0.026960</td>\n",
       "      <td>0.882634</td>\n",
       "      <td>0.578093</td>\n",
       "      <td>0.698617</td>\n",
       "      <td>0.338966</td>\n",
       "      <td>116.288684</td>\n",
       "    </tr>\n",
       "    <tr>\n",
       "      <th>4</th>\n",
       "      <td>RF</td>\n",
       "      <td>bow</td>\n",
       "      <td>0.486679</td>\n",
       "      <td>0.027441</td>\n",
       "      <td>0.900796</td>\n",
       "      <td>0.553252</td>\n",
       "      <td>0.685489</td>\n",
       "      <td>0.325105</td>\n",
       "      <td>493.970196</td>\n",
       "    </tr>\n",
       "    <tr>\n",
       "      <th>5</th>\n",
       "      <td>RF</td>\n",
       "      <td>tfidf</td>\n",
       "      <td>0.515478</td>\n",
       "      <td>0.025818</td>\n",
       "      <td>0.903094</td>\n",
       "      <td>0.585134</td>\n",
       "      <td>0.710148</td>\n",
       "      <td>0.380185</td>\n",
       "      <td>1099.684074</td>\n",
       "    </tr>\n",
       "    <tr>\n",
       "      <th>6</th>\n",
       "      <td>lgbm</td>\n",
       "      <td>bow</td>\n",
       "      <td>0.541233</td>\n",
       "      <td>0.024840</td>\n",
       "      <td>0.845721</td>\n",
       "      <td>0.661027</td>\n",
       "      <td>0.742054</td>\n",
       "      <td>0.523040</td>\n",
       "      <td>270.265418</td>\n",
       "    </tr>\n",
       "    <tr>\n",
       "      <th>7</th>\n",
       "      <td>lgbm</td>\n",
       "      <td>tfidf</td>\n",
       "      <td>0.565592</td>\n",
       "      <td>0.023408</td>\n",
       "      <td>0.864179</td>\n",
       "      <td>0.672665</td>\n",
       "      <td>0.756489</td>\n",
       "      <td>0.543978</td>\n",
       "      <td>730.452619</td>\n",
       "    </tr>\n",
       "    <tr>\n",
       "      <th>8</th>\n",
       "      <td>xgboost</td>\n",
       "      <td>bow</td>\n",
       "      <td>0.533113</td>\n",
       "      <td>0.025158</td>\n",
       "      <td>0.849310</td>\n",
       "      <td>0.649878</td>\n",
       "      <td>0.736329</td>\n",
       "      <td>0.495840</td>\n",
       "      <td>7738.712713</td>\n",
       "    </tr>\n",
       "  </tbody>\n",
       "</table>\n",
       "</div>"
      ],
      "text/plain": [
       "     model vectorizer       acc      hamm  precision    recall        F1  \\\n",
       "0      SGD        bow  0.451789  0.029397   0.858990  0.545721  0.667424   \n",
       "1   RegLog        bow  0.512687  0.026722   0.821278  0.646259  0.723332   \n",
       "2      SGD      tfidf  0.318066  0.036354   0.904348  0.366161  0.521267   \n",
       "3   RegLog      tfidf  0.493783  0.026960   0.882634  0.578093  0.698617   \n",
       "4       RF        bow  0.486679  0.027441   0.900796  0.553252  0.685489   \n",
       "5       RF      tfidf  0.515478  0.025818   0.903094  0.585134  0.710148   \n",
       "6     lgbm        bow  0.541233  0.024840   0.845721  0.661027  0.742054   \n",
       "7     lgbm      tfidf  0.565592  0.023408   0.864179  0.672665  0.756489   \n",
       "8  xgboost        bow  0.533113  0.025158   0.849310  0.649878  0.736329   \n",
       "\n",
       "     cosine          tps  \n",
       "0  0.272044    38.429488  \n",
       "1  0.488656   177.660644  \n",
       "2 -0.136463    32.303356  \n",
       "3  0.338966   116.288684  \n",
       "4  0.325105   493.970196  \n",
       "5  0.380185  1099.684074  \n",
       "6  0.523040   270.265418  \n",
       "7  0.543978   730.452619  \n",
       "8  0.495840  7738.712713  "
      ]
     },
     "execution_count": 27,
     "metadata": {},
     "output_type": "execute_result"
    }
   ],
   "source": [
    "start = time.process_time()\n",
    "classifier = OneVsRestClassifier(xgboost.XGBClassifier(random_state=42))\n",
    "classifier.fit(X_train_bow, y_train_multi)\n",
    "predictions = classifier.predict(X_test_bow)\n",
    "\n",
    "\n",
    "res = print_metrics(y_test_multi, predictions)\n",
    "tps = time.process_time() - start\n",
    "print(\"Time taken to run this cell :\", tps)\n",
    "dico = {'model':'xgboost',\n",
    "      'vectorizer':'bow',\n",
    "      'acc':res[0],\n",
    "      'hamm':res[1],\n",
    "      'precision':res[2],\n",
    "      'recall':res[3],\n",
    "      'F1':res[4],\n",
    "      'cosine':res[5],\n",
    "      'tps':tps}\n",
    "classifier_comparison = classifier_comparison.append(dico,ignore_index=True)\n",
    "classifier_comparison"
   ]
  },
  {
   "cell_type": "code",
   "execution_count": 28,
   "metadata": {},
   "outputs": [
    {
     "name": "stdout",
     "output_type": "stream",
     "text": [
      "Accuracy :0.55\n",
      "Hamming loss :0.02413\n",
      "\n",
      "Micro-averaged quality metrics :\n",
      "Precision :0.861\n",
      "Recall :0.66\n",
      "F1-score :0.747\n",
      "Cosine similarity : 0.514\n",
      "Time taken to run this cell : 8050.586103\n"
     ]
    },
    {
     "data": {
      "text/html": [
       "<div>\n",
       "<style scoped>\n",
       "    .dataframe tbody tr th:only-of-type {\n",
       "        vertical-align: middle;\n",
       "    }\n",
       "\n",
       "    .dataframe tbody tr th {\n",
       "        vertical-align: top;\n",
       "    }\n",
       "\n",
       "    .dataframe thead th {\n",
       "        text-align: right;\n",
       "    }\n",
       "</style>\n",
       "<table border=\"1\" class=\"dataframe\">\n",
       "  <thead>\n",
       "    <tr style=\"text-align: right;\">\n",
       "      <th></th>\n",
       "      <th>model</th>\n",
       "      <th>vectorizer</th>\n",
       "      <th>acc</th>\n",
       "      <th>hamm</th>\n",
       "      <th>precision</th>\n",
       "      <th>recall</th>\n",
       "      <th>F1</th>\n",
       "      <th>cosine</th>\n",
       "      <th>tps</th>\n",
       "    </tr>\n",
       "  </thead>\n",
       "  <tbody>\n",
       "    <tr>\n",
       "      <th>0</th>\n",
       "      <td>SGD</td>\n",
       "      <td>bow</td>\n",
       "      <td>0.451789</td>\n",
       "      <td>0.029397</td>\n",
       "      <td>0.858990</td>\n",
       "      <td>0.545721</td>\n",
       "      <td>0.667424</td>\n",
       "      <td>0.272044</td>\n",
       "      <td>38.429488</td>\n",
       "    </tr>\n",
       "    <tr>\n",
       "      <th>1</th>\n",
       "      <td>RegLog</td>\n",
       "      <td>bow</td>\n",
       "      <td>0.512687</td>\n",
       "      <td>0.026722</td>\n",
       "      <td>0.821278</td>\n",
       "      <td>0.646259</td>\n",
       "      <td>0.723332</td>\n",
       "      <td>0.488656</td>\n",
       "      <td>177.660644</td>\n",
       "    </tr>\n",
       "    <tr>\n",
       "      <th>2</th>\n",
       "      <td>SGD</td>\n",
       "      <td>tfidf</td>\n",
       "      <td>0.318066</td>\n",
       "      <td>0.036354</td>\n",
       "      <td>0.904348</td>\n",
       "      <td>0.366161</td>\n",
       "      <td>0.521267</td>\n",
       "      <td>-0.136463</td>\n",
       "      <td>32.303356</td>\n",
       "    </tr>\n",
       "    <tr>\n",
       "      <th>3</th>\n",
       "      <td>RegLog</td>\n",
       "      <td>tfidf</td>\n",
       "      <td>0.493783</td>\n",
       "      <td>0.026960</td>\n",
       "      <td>0.882634</td>\n",
       "      <td>0.578093</td>\n",
       "      <td>0.698617</td>\n",
       "      <td>0.338966</td>\n",
       "      <td>116.288684</td>\n",
       "    </tr>\n",
       "    <tr>\n",
       "      <th>4</th>\n",
       "      <td>RF</td>\n",
       "      <td>bow</td>\n",
       "      <td>0.486679</td>\n",
       "      <td>0.027441</td>\n",
       "      <td>0.900796</td>\n",
       "      <td>0.553252</td>\n",
       "      <td>0.685489</td>\n",
       "      <td>0.325105</td>\n",
       "      <td>493.970196</td>\n",
       "    </tr>\n",
       "    <tr>\n",
       "      <th>5</th>\n",
       "      <td>RF</td>\n",
       "      <td>tfidf</td>\n",
       "      <td>0.515478</td>\n",
       "      <td>0.025818</td>\n",
       "      <td>0.903094</td>\n",
       "      <td>0.585134</td>\n",
       "      <td>0.710148</td>\n",
       "      <td>0.380185</td>\n",
       "      <td>1099.684074</td>\n",
       "    </tr>\n",
       "    <tr>\n",
       "      <th>6</th>\n",
       "      <td>lgbm</td>\n",
       "      <td>bow</td>\n",
       "      <td>0.541233</td>\n",
       "      <td>0.024840</td>\n",
       "      <td>0.845721</td>\n",
       "      <td>0.661027</td>\n",
       "      <td>0.742054</td>\n",
       "      <td>0.523040</td>\n",
       "      <td>270.265418</td>\n",
       "    </tr>\n",
       "    <tr>\n",
       "      <th>7</th>\n",
       "      <td>lgbm</td>\n",
       "      <td>tfidf</td>\n",
       "      <td>0.565592</td>\n",
       "      <td>0.023408</td>\n",
       "      <td>0.864179</td>\n",
       "      <td>0.672665</td>\n",
       "      <td>0.756489</td>\n",
       "      <td>0.543978</td>\n",
       "      <td>730.452619</td>\n",
       "    </tr>\n",
       "    <tr>\n",
       "      <th>8</th>\n",
       "      <td>xgboost</td>\n",
       "      <td>bow</td>\n",
       "      <td>0.533113</td>\n",
       "      <td>0.025158</td>\n",
       "      <td>0.849310</td>\n",
       "      <td>0.649878</td>\n",
       "      <td>0.736329</td>\n",
       "      <td>0.495840</td>\n",
       "      <td>7738.712713</td>\n",
       "    </tr>\n",
       "    <tr>\n",
       "      <th>9</th>\n",
       "      <td>xgboost</td>\n",
       "      <td>tfidf</td>\n",
       "      <td>0.549734</td>\n",
       "      <td>0.024127</td>\n",
       "      <td>0.860895</td>\n",
       "      <td>0.660342</td>\n",
       "      <td>0.747399</td>\n",
       "      <td>0.513890</td>\n",
       "      <td>8050.586103</td>\n",
       "    </tr>\n",
       "  </tbody>\n",
       "</table>\n",
       "</div>"
      ],
      "text/plain": [
       "     model vectorizer       acc      hamm  precision    recall        F1  \\\n",
       "0      SGD        bow  0.451789  0.029397   0.858990  0.545721  0.667424   \n",
       "1   RegLog        bow  0.512687  0.026722   0.821278  0.646259  0.723332   \n",
       "2      SGD      tfidf  0.318066  0.036354   0.904348  0.366161  0.521267   \n",
       "3   RegLog      tfidf  0.493783  0.026960   0.882634  0.578093  0.698617   \n",
       "4       RF        bow  0.486679  0.027441   0.900796  0.553252  0.685489   \n",
       "5       RF      tfidf  0.515478  0.025818   0.903094  0.585134  0.710148   \n",
       "6     lgbm        bow  0.541233  0.024840   0.845721  0.661027  0.742054   \n",
       "7     lgbm      tfidf  0.565592  0.023408   0.864179  0.672665  0.756489   \n",
       "8  xgboost        bow  0.533113  0.025158   0.849310  0.649878  0.736329   \n",
       "9  xgboost      tfidf  0.549734  0.024127   0.860895  0.660342  0.747399   \n",
       "\n",
       "     cosine          tps  \n",
       "0  0.272044    38.429488  \n",
       "1  0.488656   177.660644  \n",
       "2 -0.136463    32.303356  \n",
       "3  0.338966   116.288684  \n",
       "4  0.325105   493.970196  \n",
       "5  0.380185  1099.684074  \n",
       "6  0.523040   270.265418  \n",
       "7  0.543978   730.452619  \n",
       "8  0.495840  7738.712713  \n",
       "9  0.513890  8050.586103  "
      ]
     },
     "execution_count": 28,
     "metadata": {},
     "output_type": "execute_result"
    }
   ],
   "source": [
    "start = time.process_time()\n",
    "classifier = OneVsRestClassifier(xgboost.XGBClassifier(random_state=42))\n",
    "classifier.fit(X_train_tfidf, y_train_multi)\n",
    "predictions = classifier.predict(X_test_tfidf)\n",
    "\n",
    "\n",
    "res = print_metrics(y_test_multi, predictions)\n",
    "tps = time.process_time() - start\n",
    "print(\"Time taken to run this cell :\", tps)\n",
    "dico = {'model':'xgboost',\n",
    "      'vectorizer':'tfidf',\n",
    "      'acc':res[0],\n",
    "      'hamm':res[1],\n",
    "      'precision':res[2],\n",
    "      'recall':res[3],\n",
    "      'F1':res[4],\n",
    "      'cosine':res[5],\n",
    "      'tps':tps}\n",
    "classifier_comparison = classifier_comparison.append(dico,ignore_index=True)\n",
    "classifier_comparison"
   ]
  },
  {
   "cell_type": "code",
   "execution_count": 29,
   "metadata": {},
   "outputs": [],
   "source": [
    "classifier_comparison.to_csv(input_dir+name, index = False)"
   ]
  },
  {
   "cell_type": "code",
   "execution_count": 61,
   "metadata": {},
   "outputs": [
    {
     "data": {
      "text/plain": [
       "['/Users/jeremynadal/Documents/Formation OC IML/P5-API/models/lightgbm_tfidf.bin']"
      ]
     },
     "execution_count": 61,
     "metadata": {},
     "output_type": "execute_result"
    }
   ],
   "source": [
    "import joblib\n",
    "\n",
    "joblib.dump(classifier, model_dir + 'lightgbm_tfidf.bin')"
   ]
  },
  {
   "cell_type": "code",
   "execution_count": 33,
   "metadata": {},
   "outputs": [
    {
     "name": "stdout",
     "output_type": "stream",
     "text": [
      "Accuracy :0.55\n",
      "Hamming loss :0.02413\n",
      "\n",
      "Micro-averaged quality metrics :\n",
      "Precision :0.861\n",
      "Recall :0.66\n",
      "F1-score :0.747\n",
      "Cosine similarity : 0.514\n"
     ]
    }
   ],
   "source": [
    "test = joblib.load(model_dir + 'xgboost_tfidf.bin')\n",
    "predictions = test.predict(X_test_tfidf)\n",
    "\n",
    "res = print_metrics(y_test_multi, predictions)"
   ]
  },
  {
   "cell_type": "code",
   "execution_count": 34,
   "metadata": {},
   "outputs": [],
   "source": [
    "import pickle \n",
    "\n",
    "pickle.dump(classifier, open(model_dir+'xgboost_tfidf_pickle.pkl','wb'))"
   ]
  },
  {
   "cell_type": "code",
   "execution_count": 35,
   "metadata": {},
   "outputs": [
    {
     "name": "stdout",
     "output_type": "stream",
     "text": [
      "Accuracy :0.55\n",
      "Hamming loss :0.02413\n",
      "\n",
      "Micro-averaged quality metrics :\n",
      "Precision :0.861\n",
      "Recall :0.66\n",
      "F1-score :0.747\n",
      "Cosine similarity : 0.514\n"
     ]
    }
   ],
   "source": [
    "test = pickle.load(open(model_dir+'xgboost_tfidf_pickle.pkl','rb'))\n",
    "predictions = test.predict(X_test_tfidf)\n",
    "\n",
    "res = print_metrics(y_test_multi, predictions)"
   ]
  },
  {
   "cell_type": "markdown",
   "metadata": {
    "id": "8krqBdXVGAKD"
   },
   "source": [
    "## Lets create a function that is able to predict tags directly from a new sentence or a title/body pairs"
   ]
  },
  {
   "cell_type": "code",
   "execution_count": 106,
   "metadata": {
    "id": "82tBvjS3GAKD"
   },
   "outputs": [],
   "source": [
    "pos_from_tag = lambda tag: ('a' if tag[0].lower() == 'j' else tag[0].lower()) if tag[0].lower() in ['n', 'r', 'v'] else 'n'\n",
    "\n",
    "def handle_body(text, \n",
    "                #tokenizer = nltk.RegexpTokenizer(r'\\w+'), \n",
    "                stop_words = nltk.corpus.stopwords.words(\"english\"), \n",
    "                lemmatizer = nltk.stem.WordNetLemmatizer()  ):\n",
    "    \n",
    "    POS_to_rm = ['RB','RBR','RBS','JJ','JJR','JJS','CD'] #Removing adverbs and adjectives and digits\n",
    "    stop_words += ['.','€','$','?','\\'s',',',':',';','=','+','-']  \n",
    "    \n",
    "    soup = BeautifulSoup(text, 'html.parser')\n",
    "    tokens = nltk.word_tokenize( soup.get_text().lower() )\n",
    "    \n",
    "    tokens = [re.sub('[.,?!)()<>:;\\ \\\"\\'\\]\\[+-=\\{\\}\\|^*@&`’]','',token).replace('\\\\','').replace('?','') for token in tokens]\n",
    "    tokens = [token for token in tokens if token != '']\n",
    "    tags = nltk.pos_tag(tokens)\n",
    "\n",
    "    tokens = [ tokens[i] for i in range(len(tokens)) if ( (not tokens[i] in stop_words) and (not tags[i][1] in POS_to_rm ) )]\n",
    "    \n",
    "    tags = nltk.pos_tag(tokens)\n",
    "    \n",
    "    result = [lemmatizer.lemmatize(tokens[i], pos=pos_from_tag(tags[i][1])) for i in range(len(tokens))]\n",
    "    \n",
    "    return result \n",
    "\n",
    "def handle_title(text,\n",
    "                 stop_words = nltk.corpus.stopwords.words(\"english\"), \n",
    "                 lemmatizer = nltk.stem.WordNetLemmatizer()  ): \n",
    "    \n",
    "    POS_to_rm = ['RB','RBR','RBS','JJ','JJR','JJS'] #Removing adverbs and adjectives\n",
    "    stop_words += ['.','€','$','?','\\'s',',',':',';','=','+','-']  \n",
    "    \n",
    "    tokens = re.split(' ', text.lower())\n",
    "    tokens = [re.sub('[.,?!)()<>:;\\ \\\"\\'\\]\\[=\\{\\}\\|^*@&`’]','',token).replace('\\\\','').replace('?','') for token in tokens]\n",
    "\n",
    "    tokens = [token for token in tokens if token != '']\n",
    "    tags = nltk.pos_tag(tokens)\n",
    "    \n",
    "    tokens = [ tokens[i] for i in range(len(tokens)) if ( (not tokens[i] in stop_words) and (not tags[i][1] in POS_to_rm ) )]\n",
    "    \n",
    "    tags = nltk.pos_tag(tokens)\n",
    "    \n",
    "    result = [lemmatizer.lemmatize(tokens[i], pos=pos_from_tag(tags[i][1])) for i in range(len(tokens))]\n",
    "    \n",
    "    return result \n",
    "\n",
    "def preprocess_text(body, title = None):\n",
    "    body = handle_body(body)\n",
    "    if title :\n",
    "        title = handle_title(title)\n",
    "        body = title + title + body\n",
    "    return body\n",
    "\n",
    "\n",
    "def predict_new_sentence(text, vectorizer, model, all_tags, title = None):\n",
    "    all_tags = np.array(all_tags)\n",
    "    text = np.array(preprocess_text(text, title=title)).reshape(1, -1)\n",
    "    print(text)\n",
    "    text = vectorizer.transform(text)\n",
    "    print(text)\n",
    "    pred = model.predict(text)\n",
    "    \n",
    "    assert pred[0].shape == all_tags.shape, 'the passed tags doesnot have same shape as model output'\n",
    "    idx = [idx for idx in range(len(all_tags)) if pred[0][idx]==1]\n",
    "    return all_tags[idx]\n"
   ]
  },
  {
   "cell_type": "code",
   "execution_count": 54,
   "metadata": {},
   "outputs": [
    {
     "data": {
      "text/plain": [
       "['/Users/jeremynadal/Documents/Formation OC IML/P5-API/models/vectorizer_tfidf.bin']"
      ]
     },
     "execution_count": 54,
     "metadata": {},
     "output_type": "execute_result"
    }
   ],
   "source": [
    "joblib.dump(tfidf_vectorizer, model_dir + 'vectorizer_tfidf.bin')\n",
    "#with open('vectorizer.pk', 'wb') as fin:\n",
    "#    pickle.dump(tfidf_vectorizer, fin)"
   ]
  },
  {
   "cell_type": "code",
   "execution_count": 55,
   "metadata": {},
   "outputs": [],
   "source": [
    "test = joblib.load(model_dir + 'vectorizer_tfidf.bin')"
   ]
  },
  {
   "cell_type": "code",
   "execution_count": 107,
   "metadata": {
    "id": "NRaHZEUiGAKE",
    "outputId": "51a2fc04-550a-49a4-d081-dd8bad135a57"
   },
   "outputs": [
    {
     "name": "stdout",
     "output_type": "stream",
     "text": [
      "[['c++' 'c++' 'hi' 'name' 'jack' 'love' 'potato' 'c']]\n"
     ]
    },
    {
     "ename": "TypeError",
     "evalue": "cannot use a string pattern on a bytes-like object",
     "output_type": "error",
     "traceback": [
      "\u001b[0;31m---------------------------------------------------------------------------\u001b[0m",
      "\u001b[0;31mTypeError\u001b[0m                                 Traceback (most recent call last)",
      "\u001b[0;32m<ipython-input-107-b026985b0401>\u001b[0m in \u001b[0;36m<module>\u001b[0;34m\u001b[0m\n\u001b[1;32m      1\u001b[0m \u001b[0mtext\u001b[0m \u001b[0;34m=\u001b[0m \u001b[0;34m'Hi, my name is Jack and I love potatoes c++'\u001b[0m\u001b[0;34m\u001b[0m\u001b[0;34m\u001b[0m\u001b[0m\n\u001b[1;32m      2\u001b[0m \u001b[0mtitle\u001b[0m \u001b[0;34m=\u001b[0m \u001b[0;34m'c++'\u001b[0m\u001b[0;34m\u001b[0m\u001b[0;34m\u001b[0m\u001b[0m\n\u001b[0;32m----> 3\u001b[0;31m \u001b[0mpredict_new_sentence\u001b[0m\u001b[0;34m(\u001b[0m\u001b[0mtext\u001b[0m\u001b[0;34m,\u001b[0m \u001b[0mtfidf_vectorizer\u001b[0m\u001b[0;34m,\u001b[0m \u001b[0mclassifier\u001b[0m\u001b[0;34m,\u001b[0m \u001b[0munique_tags\u001b[0m\u001b[0;34m,\u001b[0m \u001b[0mtitle\u001b[0m\u001b[0;34m=\u001b[0m\u001b[0mtitle\u001b[0m \u001b[0;34m)\u001b[0m\u001b[0;34m\u001b[0m\u001b[0;34m\u001b[0m\u001b[0m\n\u001b[0m",
      "\u001b[0;32m<ipython-input-106-08e0374c1e4c>\u001b[0m in \u001b[0;36mpredict_new_sentence\u001b[0;34m(text, vectorizer, model, all_tags, title)\u001b[0m\n\u001b[1;32m     57\u001b[0m     \u001b[0mtext\u001b[0m \u001b[0;34m=\u001b[0m \u001b[0mnp\u001b[0m\u001b[0;34m.\u001b[0m\u001b[0marray\u001b[0m\u001b[0;34m(\u001b[0m\u001b[0mpreprocess_text\u001b[0m\u001b[0;34m(\u001b[0m\u001b[0mtext\u001b[0m\u001b[0;34m,\u001b[0m \u001b[0mtitle\u001b[0m\u001b[0;34m=\u001b[0m\u001b[0mtitle\u001b[0m\u001b[0;34m)\u001b[0m\u001b[0;34m)\u001b[0m\u001b[0;34m.\u001b[0m\u001b[0mreshape\u001b[0m\u001b[0;34m(\u001b[0m\u001b[0;36m1\u001b[0m\u001b[0;34m,\u001b[0m \u001b[0;34m-\u001b[0m\u001b[0;36m1\u001b[0m\u001b[0;34m)\u001b[0m\u001b[0;34m\u001b[0m\u001b[0;34m\u001b[0m\u001b[0m\n\u001b[1;32m     58\u001b[0m     \u001b[0mprint\u001b[0m\u001b[0;34m(\u001b[0m\u001b[0mtext\u001b[0m\u001b[0;34m)\u001b[0m\u001b[0;34m\u001b[0m\u001b[0;34m\u001b[0m\u001b[0m\n\u001b[0;32m---> 59\u001b[0;31m     \u001b[0mtext\u001b[0m \u001b[0;34m=\u001b[0m \u001b[0mvectorizer\u001b[0m\u001b[0;34m.\u001b[0m\u001b[0mtransform\u001b[0m\u001b[0;34m(\u001b[0m\u001b[0mtext\u001b[0m\u001b[0;34m)\u001b[0m\u001b[0;34m\u001b[0m\u001b[0;34m\u001b[0m\u001b[0m\n\u001b[0m\u001b[1;32m     60\u001b[0m     \u001b[0mprint\u001b[0m\u001b[0;34m(\u001b[0m\u001b[0mtext\u001b[0m\u001b[0;34m)\u001b[0m\u001b[0;34m\u001b[0m\u001b[0;34m\u001b[0m\u001b[0m\n\u001b[1;32m     61\u001b[0m     \u001b[0mpred\u001b[0m \u001b[0;34m=\u001b[0m \u001b[0mmodel\u001b[0m\u001b[0;34m.\u001b[0m\u001b[0mpredict\u001b[0m\u001b[0;34m(\u001b[0m\u001b[0mtext\u001b[0m\u001b[0;34m)\u001b[0m\u001b[0;34m\u001b[0m\u001b[0;34m\u001b[0m\u001b[0m\n",
      "\u001b[0;32m~/anaconda3/envs/fieldbox/lib/python3.7/site-packages/sklearn/feature_extraction/text.py\u001b[0m in \u001b[0;36mtransform\u001b[0;34m(self, raw_documents, copy)\u001b[0m\n\u001b[1;32m   1896\u001b[0m                    \"be removed in 0.24.\")\n\u001b[1;32m   1897\u001b[0m             \u001b[0mwarnings\u001b[0m\u001b[0;34m.\u001b[0m\u001b[0mwarn\u001b[0m\u001b[0;34m(\u001b[0m\u001b[0mmsg\u001b[0m\u001b[0;34m,\u001b[0m \u001b[0mFutureWarning\u001b[0m\u001b[0;34m)\u001b[0m\u001b[0;34m\u001b[0m\u001b[0;34m\u001b[0m\u001b[0m\n\u001b[0;32m-> 1898\u001b[0;31m         \u001b[0mX\u001b[0m \u001b[0;34m=\u001b[0m \u001b[0msuper\u001b[0m\u001b[0;34m(\u001b[0m\u001b[0;34m)\u001b[0m\u001b[0;34m.\u001b[0m\u001b[0mtransform\u001b[0m\u001b[0;34m(\u001b[0m\u001b[0mraw_documents\u001b[0m\u001b[0;34m)\u001b[0m\u001b[0;34m\u001b[0m\u001b[0;34m\u001b[0m\u001b[0m\n\u001b[0m\u001b[1;32m   1899\u001b[0m         \u001b[0;32mreturn\u001b[0m \u001b[0mself\u001b[0m\u001b[0;34m.\u001b[0m\u001b[0m_tfidf\u001b[0m\u001b[0;34m.\u001b[0m\u001b[0mtransform\u001b[0m\u001b[0;34m(\u001b[0m\u001b[0mX\u001b[0m\u001b[0;34m,\u001b[0m \u001b[0mcopy\u001b[0m\u001b[0;34m=\u001b[0m\u001b[0;32mFalse\u001b[0m\u001b[0;34m)\u001b[0m\u001b[0;34m\u001b[0m\u001b[0;34m\u001b[0m\u001b[0m\n\u001b[1;32m   1900\u001b[0m \u001b[0;34m\u001b[0m\u001b[0m\n",
      "\u001b[0;32m~/anaconda3/envs/fieldbox/lib/python3.7/site-packages/sklearn/feature_extraction/text.py\u001b[0m in \u001b[0;36mtransform\u001b[0;34m(self, raw_documents)\u001b[0m\n\u001b[1;32m   1268\u001b[0m \u001b[0;34m\u001b[0m\u001b[0m\n\u001b[1;32m   1269\u001b[0m         \u001b[0;31m# use the same matrix-building strategy as fit_transform\u001b[0m\u001b[0;34m\u001b[0m\u001b[0;34m\u001b[0m\u001b[0;34m\u001b[0m\u001b[0m\n\u001b[0;32m-> 1270\u001b[0;31m         \u001b[0m_\u001b[0m\u001b[0;34m,\u001b[0m \u001b[0mX\u001b[0m \u001b[0;34m=\u001b[0m \u001b[0mself\u001b[0m\u001b[0;34m.\u001b[0m\u001b[0m_count_vocab\u001b[0m\u001b[0;34m(\u001b[0m\u001b[0mraw_documents\u001b[0m\u001b[0;34m,\u001b[0m \u001b[0mfixed_vocab\u001b[0m\u001b[0;34m=\u001b[0m\u001b[0;32mTrue\u001b[0m\u001b[0;34m)\u001b[0m\u001b[0;34m\u001b[0m\u001b[0;34m\u001b[0m\u001b[0m\n\u001b[0m\u001b[1;32m   1271\u001b[0m         \u001b[0;32mif\u001b[0m \u001b[0mself\u001b[0m\u001b[0;34m.\u001b[0m\u001b[0mbinary\u001b[0m\u001b[0;34m:\u001b[0m\u001b[0;34m\u001b[0m\u001b[0;34m\u001b[0m\u001b[0m\n\u001b[1;32m   1272\u001b[0m             \u001b[0mX\u001b[0m\u001b[0;34m.\u001b[0m\u001b[0mdata\u001b[0m\u001b[0;34m.\u001b[0m\u001b[0mfill\u001b[0m\u001b[0;34m(\u001b[0m\u001b[0;36m1\u001b[0m\u001b[0;34m)\u001b[0m\u001b[0;34m\u001b[0m\u001b[0;34m\u001b[0m\u001b[0m\n",
      "\u001b[0;32m~/anaconda3/envs/fieldbox/lib/python3.7/site-packages/sklearn/feature_extraction/text.py\u001b[0m in \u001b[0;36m_count_vocab\u001b[0;34m(self, raw_documents, fixed_vocab)\u001b[0m\n\u001b[1;32m   1129\u001b[0m         \u001b[0;32mfor\u001b[0m \u001b[0mdoc\u001b[0m \u001b[0;32min\u001b[0m \u001b[0mraw_documents\u001b[0m\u001b[0;34m:\u001b[0m\u001b[0;34m\u001b[0m\u001b[0;34m\u001b[0m\u001b[0m\n\u001b[1;32m   1130\u001b[0m             \u001b[0mfeature_counter\u001b[0m \u001b[0;34m=\u001b[0m \u001b[0;34m{\u001b[0m\u001b[0;34m}\u001b[0m\u001b[0;34m\u001b[0m\u001b[0;34m\u001b[0m\u001b[0m\n\u001b[0;32m-> 1131\u001b[0;31m             \u001b[0;32mfor\u001b[0m \u001b[0mfeature\u001b[0m \u001b[0;32min\u001b[0m \u001b[0manalyze\u001b[0m\u001b[0;34m(\u001b[0m\u001b[0mdoc\u001b[0m\u001b[0;34m)\u001b[0m\u001b[0;34m:\u001b[0m\u001b[0;34m\u001b[0m\u001b[0;34m\u001b[0m\u001b[0m\n\u001b[0m\u001b[1;32m   1132\u001b[0m                 \u001b[0;32mtry\u001b[0m\u001b[0;34m:\u001b[0m\u001b[0;34m\u001b[0m\u001b[0;34m\u001b[0m\u001b[0m\n\u001b[1;32m   1133\u001b[0m                     \u001b[0mfeature_idx\u001b[0m \u001b[0;34m=\u001b[0m \u001b[0mvocabulary\u001b[0m\u001b[0;34m[\u001b[0m\u001b[0mfeature\u001b[0m\u001b[0;34m]\u001b[0m\u001b[0;34m\u001b[0m\u001b[0;34m\u001b[0m\u001b[0m\n",
      "\u001b[0;32m~/anaconda3/envs/fieldbox/lib/python3.7/site-packages/sklearn/feature_extraction/text.py\u001b[0m in \u001b[0;36m_analyze\u001b[0;34m(doc, analyzer, tokenizer, ngrams, preprocessor, decoder, stop_words)\u001b[0m\n\u001b[1;32m    103\u001b[0m             \u001b[0mdoc\u001b[0m \u001b[0;34m=\u001b[0m \u001b[0mpreprocessor\u001b[0m\u001b[0;34m(\u001b[0m\u001b[0mdoc\u001b[0m\u001b[0;34m)\u001b[0m\u001b[0;34m\u001b[0m\u001b[0;34m\u001b[0m\u001b[0m\n\u001b[1;32m    104\u001b[0m         \u001b[0;32mif\u001b[0m \u001b[0mtokenizer\u001b[0m \u001b[0;32mis\u001b[0m \u001b[0;32mnot\u001b[0m \u001b[0;32mNone\u001b[0m\u001b[0;34m:\u001b[0m\u001b[0;34m\u001b[0m\u001b[0;34m\u001b[0m\u001b[0m\n\u001b[0;32m--> 105\u001b[0;31m             \u001b[0mdoc\u001b[0m \u001b[0;34m=\u001b[0m \u001b[0mtokenizer\u001b[0m\u001b[0;34m(\u001b[0m\u001b[0mdoc\u001b[0m\u001b[0;34m)\u001b[0m\u001b[0;34m\u001b[0m\u001b[0;34m\u001b[0m\u001b[0m\n\u001b[0m\u001b[1;32m    106\u001b[0m         \u001b[0;32mif\u001b[0m \u001b[0mngrams\u001b[0m \u001b[0;32mis\u001b[0m \u001b[0;32mnot\u001b[0m \u001b[0;32mNone\u001b[0m\u001b[0;34m:\u001b[0m\u001b[0;34m\u001b[0m\u001b[0;34m\u001b[0m\u001b[0m\n\u001b[1;32m    107\u001b[0m             \u001b[0;32mif\u001b[0m \u001b[0mstop_words\u001b[0m \u001b[0;32mis\u001b[0m \u001b[0;32mnot\u001b[0m \u001b[0;32mNone\u001b[0m\u001b[0;34m:\u001b[0m\u001b[0;34m\u001b[0m\u001b[0;34m\u001b[0m\u001b[0m\n",
      "\u001b[0;31mTypeError\u001b[0m: cannot use a string pattern on a bytes-like object"
     ]
    }
   ],
   "source": [
    "text = 'Hi, my name is Jack and I love potatoes c++'\n",
    "title = 'c++'\n",
    "predict_new_sentence(text, tfidf_vectorizer, classifier, unique_tags, title=title )"
   ]
  },
  {
   "cell_type": "code",
   "execution_count": 58,
   "metadata": {
    "id": "xaG6ikJBGAKF",
    "outputId": "c6b98116-63da-4af6-c08c-c160e6e0d0ec"
   },
   "outputs": [
    {
     "data": {
      "text/plain": [
       "['/Users/jeremynadal/Documents/Formation OC IML/P5-API/models/unique_tags.bin']"
      ]
     },
     "execution_count": 58,
     "metadata": {},
     "output_type": "execute_result"
    }
   ],
   "source": [
    "joblib.dump(unique_tags, model_dir + 'unique_tags.bin')"
   ]
  },
  {
   "cell_type": "code",
   "execution_count": 60,
   "metadata": {},
   "outputs": [
    {
     "data": {
      "text/plain": [
       "'.net'"
      ]
     },
     "execution_count": 60,
     "metadata": {},
     "output_type": "execute_result"
    }
   ],
   "source": [
    "test = joblib.load(model_dir + 'unique_tags.bin')\n",
    "test[0]"
   ]
  },
  {
   "cell_type": "code",
   "execution_count": null,
   "metadata": {
    "id": "dungkO-oGAKF",
    "outputId": "edc6a557-8431-491d-a7bd-d2477695de14"
   },
   "outputs": [
    {
     "data": {
      "text/plain": [
       "array([0, 0, 0, 0, 0, 0, 1, 0, 0, 0, 0, 0, 0, 0, 0, 0, 0, 0, 0, 0, 0, 1,\n",
       "       0, 0])"
      ]
     },
     "execution_count": 82,
     "metadata": {
      "tags": []
     },
     "output_type": "execute_result"
    }
   ],
   "source": [
    "from sklearn.preprocessing import MultiLabelBinarizer\n",
    "mlb = MultiLabelBinarizer()\n",
    "test = mlb.fit_transform(y_train_tags)\n",
    "test[0]"
   ]
  },
  {
   "cell_type": "code",
   "execution_count": 63,
   "metadata": {
    "id": "7mB9I-g4GAKG",
    "outputId": "fc79ff28-7b7b-428a-f1d3-7610b567f417"
   },
   "outputs": [
    {
     "name": "stderr",
     "output_type": "stream",
     "text": [
      "/Users/jeremynadal/anaconda3/envs/fieldbox/lib/python3.7/site-packages/bs4/dammit.py:329: FutureWarning: elementwise comparison failed; returning scalar instead, but in the future will perform elementwise comparison\n",
      "  if (len(data) >= 4) and (data[:2] == b'\\xfe\\xff') \\\n",
      "/Users/jeremynadal/anaconda3/envs/fieldbox/lib/python3.7/site-packages/bs4/dammit.py:333: FutureWarning: elementwise comparison failed; returning scalar instead, but in the future will perform elementwise comparison\n",
      "  elif (len(data) >= 4) and (data[:2] == b'\\xff\\xfe') \\\n",
      "/Users/jeremynadal/anaconda3/envs/fieldbox/lib/python3.7/site-packages/bs4/dammit.py:337: FutureWarning: elementwise comparison failed; returning scalar instead, but in the future will perform elementwise comparison\n",
      "  elif data[:3] == b'\\xef\\xbb\\xbf':\n",
      "/Users/jeremynadal/anaconda3/envs/fieldbox/lib/python3.7/site-packages/bs4/dammit.py:340: FutureWarning: elementwise comparison failed; returning scalar instead, but in the future will perform elementwise comparison\n",
      "  elif data[:4] == b'\\x00\\x00\\xfe\\xff':\n",
      "/Users/jeremynadal/anaconda3/envs/fieldbox/lib/python3.7/site-packages/bs4/dammit.py:343: FutureWarning: elementwise comparison failed; returning scalar instead, but in the future will perform elementwise comparison\n",
      "  elif data[:4] == b'\\xff\\xfe\\x00\\x00':\n",
      "/Users/jeremynadal/anaconda3/envs/fieldbox/lib/python3.7/site-packages/bs4/dammit.py:434: FutureWarning: elementwise comparison failed; returning scalar instead, but in the future will perform elementwise comparison\n",
      "  if isinstance(markup, str) or markup == '':\n"
     ]
    },
    {
     "ename": "TypeError",
     "evalue": "cannot use a string pattern on a bytes-like object",
     "output_type": "error",
     "traceback": [
      "\u001b[0;31m---------------------------------------------------------------------------\u001b[0m",
      "\u001b[0;31mTypeError\u001b[0m                                 Traceback (most recent call last)",
      "\u001b[0;32m<ipython-input-63-ef04f513076c>\u001b[0m in \u001b[0;36m<module>\u001b[0;34m\u001b[0m\n\u001b[0;32m----> 1\u001b[0;31m \u001b[0mpredict_new_sentence\u001b[0m\u001b[0;34m(\u001b[0m\u001b[0mX_train_tfidf\u001b[0m\u001b[0;34m[\u001b[0m\u001b[0;36m0\u001b[0m\u001b[0;34m]\u001b[0m\u001b[0;34m,\u001b[0m\u001b[0mtfidf_vectorizer\u001b[0m\u001b[0;34m,\u001b[0m\u001b[0mclassifier\u001b[0m\u001b[0;34m,\u001b[0m\u001b[0munique_tags\u001b[0m\u001b[0;34m)\u001b[0m\u001b[0;34m\u001b[0m\u001b[0;34m\u001b[0m\u001b[0m\n\u001b[0m",
      "\u001b[0;32m<ipython-input-52-08e0374c1e4c>\u001b[0m in \u001b[0;36mpredict_new_sentence\u001b[0;34m(text, vectorizer, model, all_tags, title)\u001b[0m\n\u001b[1;32m     55\u001b[0m \u001b[0;32mdef\u001b[0m \u001b[0mpredict_new_sentence\u001b[0m\u001b[0;34m(\u001b[0m\u001b[0mtext\u001b[0m\u001b[0;34m,\u001b[0m \u001b[0mvectorizer\u001b[0m\u001b[0;34m,\u001b[0m \u001b[0mmodel\u001b[0m\u001b[0;34m,\u001b[0m \u001b[0mall_tags\u001b[0m\u001b[0;34m,\u001b[0m \u001b[0mtitle\u001b[0m \u001b[0;34m=\u001b[0m \u001b[0;32mNone\u001b[0m\u001b[0;34m)\u001b[0m\u001b[0;34m:\u001b[0m\u001b[0;34m\u001b[0m\u001b[0;34m\u001b[0m\u001b[0m\n\u001b[1;32m     56\u001b[0m     \u001b[0mall_tags\u001b[0m \u001b[0;34m=\u001b[0m \u001b[0mnp\u001b[0m\u001b[0;34m.\u001b[0m\u001b[0marray\u001b[0m\u001b[0;34m(\u001b[0m\u001b[0mall_tags\u001b[0m\u001b[0;34m)\u001b[0m\u001b[0;34m\u001b[0m\u001b[0;34m\u001b[0m\u001b[0m\n\u001b[0;32m---> 57\u001b[0;31m     \u001b[0mtext\u001b[0m \u001b[0;34m=\u001b[0m \u001b[0mnp\u001b[0m\u001b[0;34m.\u001b[0m\u001b[0marray\u001b[0m\u001b[0;34m(\u001b[0m\u001b[0mpreprocess_text\u001b[0m\u001b[0;34m(\u001b[0m\u001b[0mtext\u001b[0m\u001b[0;34m,\u001b[0m \u001b[0mtitle\u001b[0m\u001b[0;34m=\u001b[0m\u001b[0mtitle\u001b[0m\u001b[0;34m)\u001b[0m\u001b[0;34m)\u001b[0m\u001b[0;34m.\u001b[0m\u001b[0mreshape\u001b[0m\u001b[0;34m(\u001b[0m\u001b[0;36m1\u001b[0m\u001b[0;34m,\u001b[0m \u001b[0;34m-\u001b[0m\u001b[0;36m1\u001b[0m\u001b[0;34m)\u001b[0m\u001b[0;34m\u001b[0m\u001b[0;34m\u001b[0m\u001b[0m\n\u001b[0m\u001b[1;32m     58\u001b[0m     \u001b[0mprint\u001b[0m\u001b[0;34m(\u001b[0m\u001b[0mtext\u001b[0m\u001b[0;34m)\u001b[0m\u001b[0;34m\u001b[0m\u001b[0;34m\u001b[0m\u001b[0m\n\u001b[1;32m     59\u001b[0m     \u001b[0mtext\u001b[0m \u001b[0;34m=\u001b[0m \u001b[0mvectorizer\u001b[0m\u001b[0;34m.\u001b[0m\u001b[0mtransform\u001b[0m\u001b[0;34m(\u001b[0m\u001b[0mtext\u001b[0m\u001b[0;34m)\u001b[0m\u001b[0;34m\u001b[0m\u001b[0;34m\u001b[0m\u001b[0m\n",
      "\u001b[0;32m<ipython-input-52-08e0374c1e4c>\u001b[0m in \u001b[0;36mpreprocess_text\u001b[0;34m(body, title)\u001b[0m\n\u001b[1;32m     46\u001b[0m \u001b[0;34m\u001b[0m\u001b[0m\n\u001b[1;32m     47\u001b[0m \u001b[0;32mdef\u001b[0m \u001b[0mpreprocess_text\u001b[0m\u001b[0;34m(\u001b[0m\u001b[0mbody\u001b[0m\u001b[0;34m,\u001b[0m \u001b[0mtitle\u001b[0m \u001b[0;34m=\u001b[0m \u001b[0;32mNone\u001b[0m\u001b[0;34m)\u001b[0m\u001b[0;34m:\u001b[0m\u001b[0;34m\u001b[0m\u001b[0;34m\u001b[0m\u001b[0m\n\u001b[0;32m---> 48\u001b[0;31m     \u001b[0mbody\u001b[0m \u001b[0;34m=\u001b[0m \u001b[0mhandle_body\u001b[0m\u001b[0;34m(\u001b[0m\u001b[0mbody\u001b[0m\u001b[0;34m)\u001b[0m\u001b[0;34m\u001b[0m\u001b[0;34m\u001b[0m\u001b[0m\n\u001b[0m\u001b[1;32m     49\u001b[0m     \u001b[0;32mif\u001b[0m \u001b[0mtitle\u001b[0m \u001b[0;34m:\u001b[0m\u001b[0;34m\u001b[0m\u001b[0;34m\u001b[0m\u001b[0m\n\u001b[1;32m     50\u001b[0m         \u001b[0mtitle\u001b[0m \u001b[0;34m=\u001b[0m \u001b[0mhandle_title\u001b[0m\u001b[0;34m(\u001b[0m\u001b[0mtitle\u001b[0m\u001b[0;34m)\u001b[0m\u001b[0;34m\u001b[0m\u001b[0;34m\u001b[0m\u001b[0m\n",
      "\u001b[0;32m<ipython-input-52-08e0374c1e4c>\u001b[0m in \u001b[0;36mhandle_body\u001b[0;34m(text, stop_words, lemmatizer)\u001b[0m\n\u001b[1;32m      9\u001b[0m     \u001b[0mstop_words\u001b[0m \u001b[0;34m+=\u001b[0m \u001b[0;34m[\u001b[0m\u001b[0;34m'.'\u001b[0m\u001b[0;34m,\u001b[0m\u001b[0;34m'€'\u001b[0m\u001b[0;34m,\u001b[0m\u001b[0;34m'$'\u001b[0m\u001b[0;34m,\u001b[0m\u001b[0;34m'?'\u001b[0m\u001b[0;34m,\u001b[0m\u001b[0;34m'\\'s'\u001b[0m\u001b[0;34m,\u001b[0m\u001b[0;34m','\u001b[0m\u001b[0;34m,\u001b[0m\u001b[0;34m':'\u001b[0m\u001b[0;34m,\u001b[0m\u001b[0;34m';'\u001b[0m\u001b[0;34m,\u001b[0m\u001b[0;34m'='\u001b[0m\u001b[0;34m,\u001b[0m\u001b[0;34m'+'\u001b[0m\u001b[0;34m,\u001b[0m\u001b[0;34m'-'\u001b[0m\u001b[0;34m]\u001b[0m\u001b[0;34m\u001b[0m\u001b[0;34m\u001b[0m\u001b[0m\n\u001b[1;32m     10\u001b[0m \u001b[0;34m\u001b[0m\u001b[0m\n\u001b[0;32m---> 11\u001b[0;31m     \u001b[0msoup\u001b[0m \u001b[0;34m=\u001b[0m \u001b[0mBeautifulSoup\u001b[0m\u001b[0;34m(\u001b[0m\u001b[0mtext\u001b[0m\u001b[0;34m,\u001b[0m \u001b[0;34m'html.parser'\u001b[0m\u001b[0;34m)\u001b[0m\u001b[0;34m\u001b[0m\u001b[0;34m\u001b[0m\u001b[0m\n\u001b[0m\u001b[1;32m     12\u001b[0m     \u001b[0mtokens\u001b[0m \u001b[0;34m=\u001b[0m \u001b[0mnltk\u001b[0m\u001b[0;34m.\u001b[0m\u001b[0mword_tokenize\u001b[0m\u001b[0;34m(\u001b[0m \u001b[0msoup\u001b[0m\u001b[0;34m.\u001b[0m\u001b[0mget_text\u001b[0m\u001b[0;34m(\u001b[0m\u001b[0;34m)\u001b[0m\u001b[0;34m.\u001b[0m\u001b[0mlower\u001b[0m\u001b[0;34m(\u001b[0m\u001b[0;34m)\u001b[0m \u001b[0;34m)\u001b[0m\u001b[0;34m\u001b[0m\u001b[0;34m\u001b[0m\u001b[0m\n\u001b[1;32m     13\u001b[0m \u001b[0;34m\u001b[0m\u001b[0m\n",
      "\u001b[0;32m~/anaconda3/envs/fieldbox/lib/python3.7/site-packages/bs4/__init__.py\u001b[0m in \u001b[0;36m__init__\u001b[0;34m(self, markup, features, builder, parse_only, from_encoding, exclude_encodings, element_classes, **kwargs)\u001b[0m\n\u001b[1;32m    343\u001b[0m          \u001b[0mself\u001b[0m\u001b[0;34m.\u001b[0m\u001b[0mcontains_replacement_characters\u001b[0m\u001b[0;34m)\u001b[0m \u001b[0;32min\u001b[0m \u001b[0;34m(\u001b[0m\u001b[0;34m\u001b[0m\u001b[0;34m\u001b[0m\u001b[0m\n\u001b[1;32m    344\u001b[0m              self.builder.prepare_markup(\n\u001b[0;32m--> 345\u001b[0;31m                  markup, from_encoding, exclude_encodings=exclude_encodings)):\n\u001b[0m\u001b[1;32m    346\u001b[0m             \u001b[0mself\u001b[0m\u001b[0;34m.\u001b[0m\u001b[0mreset\u001b[0m\u001b[0;34m(\u001b[0m\u001b[0;34m)\u001b[0m\u001b[0;34m\u001b[0m\u001b[0;34m\u001b[0m\u001b[0m\n\u001b[1;32m    347\u001b[0m             \u001b[0;32mtry\u001b[0m\u001b[0;34m:\u001b[0m\u001b[0;34m\u001b[0m\u001b[0;34m\u001b[0m\u001b[0m\n",
      "\u001b[0;32m~/anaconda3/envs/fieldbox/lib/python3.7/site-packages/bs4/builder/_htmlparser.py\u001b[0m in \u001b[0;36mprepare_markup\u001b[0;34m(self, markup, user_specified_encoding, document_declared_encoding, exclude_encodings)\u001b[0m\n\u001b[1;32m    362\u001b[0m         \u001b[0mtry_encodings\u001b[0m \u001b[0;34m=\u001b[0m \u001b[0;34m[\u001b[0m\u001b[0muser_specified_encoding\u001b[0m\u001b[0;34m,\u001b[0m \u001b[0mdocument_declared_encoding\u001b[0m\u001b[0;34m]\u001b[0m\u001b[0;34m\u001b[0m\u001b[0;34m\u001b[0m\u001b[0m\n\u001b[1;32m    363\u001b[0m         dammit = UnicodeDammit(markup, try_encodings, is_html=True,\n\u001b[0;32m--> 364\u001b[0;31m                                exclude_encodings=exclude_encodings)\n\u001b[0m\u001b[1;32m    365\u001b[0m         yield (dammit.markup, dammit.original_encoding,\n\u001b[1;32m    366\u001b[0m                \u001b[0mdammit\u001b[0m\u001b[0;34m.\u001b[0m\u001b[0mdeclared_html_encoding\u001b[0m\u001b[0;34m,\u001b[0m\u001b[0;34m\u001b[0m\u001b[0;34m\u001b[0m\u001b[0m\n",
      "\u001b[0;32m~/anaconda3/envs/fieldbox/lib/python3.7/site-packages/bs4/dammit.py\u001b[0m in \u001b[0;36m__init__\u001b[0;34m(self, markup, override_encodings, smart_quotes_to, is_html, exclude_encodings)\u001b[0m\n\u001b[1;32m    443\u001b[0m \u001b[0;34m\u001b[0m\u001b[0m\n\u001b[1;32m    444\u001b[0m         \u001b[0mu\u001b[0m \u001b[0;34m=\u001b[0m \u001b[0;32mNone\u001b[0m\u001b[0;34m\u001b[0m\u001b[0;34m\u001b[0m\u001b[0m\n\u001b[0;32m--> 445\u001b[0;31m         \u001b[0;32mfor\u001b[0m \u001b[0mencoding\u001b[0m \u001b[0;32min\u001b[0m \u001b[0mself\u001b[0m\u001b[0;34m.\u001b[0m\u001b[0mdetector\u001b[0m\u001b[0;34m.\u001b[0m\u001b[0mencodings\u001b[0m\u001b[0;34m:\u001b[0m\u001b[0;34m\u001b[0m\u001b[0;34m\u001b[0m\u001b[0m\n\u001b[0m\u001b[1;32m    446\u001b[0m             \u001b[0mmarkup\u001b[0m \u001b[0;34m=\u001b[0m \u001b[0mself\u001b[0m\u001b[0;34m.\u001b[0m\u001b[0mdetector\u001b[0m\u001b[0;34m.\u001b[0m\u001b[0mmarkup\u001b[0m\u001b[0;34m\u001b[0m\u001b[0;34m\u001b[0m\u001b[0m\n\u001b[1;32m    447\u001b[0m             \u001b[0mu\u001b[0m \u001b[0;34m=\u001b[0m \u001b[0mself\u001b[0m\u001b[0;34m.\u001b[0m\u001b[0m_convert_from\u001b[0m\u001b[0;34m(\u001b[0m\u001b[0mencoding\u001b[0m\u001b[0;34m)\u001b[0m\u001b[0;34m\u001b[0m\u001b[0;34m\u001b[0m\u001b[0m\n",
      "\u001b[0;32m~/anaconda3/envs/fieldbox/lib/python3.7/site-packages/bs4/dammit.py\u001b[0m in \u001b[0;36mencodings\u001b[0;34m(self)\u001b[0m\n\u001b[1;32m    300\u001b[0m         \u001b[0;32mif\u001b[0m \u001b[0mself\u001b[0m\u001b[0;34m.\u001b[0m\u001b[0mdeclared_encoding\u001b[0m \u001b[0;32mis\u001b[0m \u001b[0;32mNone\u001b[0m\u001b[0;34m:\u001b[0m\u001b[0;34m\u001b[0m\u001b[0;34m\u001b[0m\u001b[0m\n\u001b[1;32m    301\u001b[0m             self.declared_encoding = self.find_declared_encoding(\n\u001b[0;32m--> 302\u001b[0;31m                 self.markup, self.is_html)\n\u001b[0m\u001b[1;32m    303\u001b[0m         \u001b[0;32mif\u001b[0m \u001b[0mself\u001b[0m\u001b[0;34m.\u001b[0m\u001b[0m_usable\u001b[0m\u001b[0;34m(\u001b[0m\u001b[0mself\u001b[0m\u001b[0;34m.\u001b[0m\u001b[0mdeclared_encoding\u001b[0m\u001b[0;34m,\u001b[0m \u001b[0mtried\u001b[0m\u001b[0;34m)\u001b[0m\u001b[0;34m:\u001b[0m\u001b[0;34m\u001b[0m\u001b[0;34m\u001b[0m\u001b[0m\n\u001b[1;32m    304\u001b[0m             \u001b[0;32myield\u001b[0m \u001b[0mself\u001b[0m\u001b[0;34m.\u001b[0m\u001b[0mdeclared_encoding\u001b[0m\u001b[0;34m\u001b[0m\u001b[0;34m\u001b[0m\u001b[0m\n",
      "\u001b[0;32m~/anaconda3/envs/fieldbox/lib/python3.7/site-packages/bs4/dammit.py\u001b[0m in \u001b[0;36mfind_declared_encoding\u001b[0;34m(cls, markup, is_html, search_entire_document)\u001b[0m\n\u001b[1;32m    376\u001b[0m         \u001b[0mhtml_re\u001b[0m \u001b[0;34m=\u001b[0m \u001b[0mres\u001b[0m\u001b[0;34m[\u001b[0m\u001b[0;34m'html'\u001b[0m\u001b[0;34m]\u001b[0m\u001b[0;34m\u001b[0m\u001b[0;34m\u001b[0m\u001b[0m\n\u001b[1;32m    377\u001b[0m         \u001b[0mdeclared_encoding\u001b[0m \u001b[0;34m=\u001b[0m \u001b[0;32mNone\u001b[0m\u001b[0;34m\u001b[0m\u001b[0;34m\u001b[0m\u001b[0m\n\u001b[0;32m--> 378\u001b[0;31m         \u001b[0mdeclared_encoding_match\u001b[0m \u001b[0;34m=\u001b[0m \u001b[0mxml_re\u001b[0m\u001b[0;34m.\u001b[0m\u001b[0msearch\u001b[0m\u001b[0;34m(\u001b[0m\u001b[0mmarkup\u001b[0m\u001b[0;34m,\u001b[0m \u001b[0mendpos\u001b[0m\u001b[0;34m=\u001b[0m\u001b[0mxml_endpos\u001b[0m\u001b[0;34m)\u001b[0m\u001b[0;34m\u001b[0m\u001b[0;34m\u001b[0m\u001b[0m\n\u001b[0m\u001b[1;32m    379\u001b[0m         \u001b[0;32mif\u001b[0m \u001b[0;32mnot\u001b[0m \u001b[0mdeclared_encoding_match\u001b[0m \u001b[0;32mand\u001b[0m \u001b[0mis_html\u001b[0m\u001b[0;34m:\u001b[0m\u001b[0;34m\u001b[0m\u001b[0;34m\u001b[0m\u001b[0m\n\u001b[1;32m    380\u001b[0m             \u001b[0mdeclared_encoding_match\u001b[0m \u001b[0;34m=\u001b[0m \u001b[0mhtml_re\u001b[0m\u001b[0;34m.\u001b[0m\u001b[0msearch\u001b[0m\u001b[0;34m(\u001b[0m\u001b[0mmarkup\u001b[0m\u001b[0;34m,\u001b[0m \u001b[0mendpos\u001b[0m\u001b[0;34m=\u001b[0m\u001b[0mhtml_endpos\u001b[0m\u001b[0;34m)\u001b[0m\u001b[0;34m\u001b[0m\u001b[0;34m\u001b[0m\u001b[0m\n",
      "\u001b[0;31mTypeError\u001b[0m: cannot use a string pattern on a bytes-like object"
     ]
    }
   ],
   "source": [
    "predict_new_sentence(X_train_tfidf[0],tfidf_vectorizer,classifier,unique_tags)"
   ]
  },
  {
   "cell_type": "code",
   "execution_count": 85,
   "metadata": {
    "id": "6IwoIbJIGAKG"
   },
   "outputs": [
    {
     "name": "stdout",
     "output_type": "stream",
     "text": [
      "<p>How do you expose a LINQ query as an ASMX web service? Usually, from the business tier, I can return a typed <code>DataSet</code> or <code>DataTable</code> which can be serialized for transport over ASMX.</p>\n",
      "\n",
      "<p>How can I do the same for a LINQ query? Is there a way to populate a typed <code>DataSet</code> or <code>DataTable</code> via a LINQ query?</p>\n",
      "\n",
      "<pre><code>public static MyDataTable CallMySproc()\n",
      "{\n",
      "    string conn = \"...\";\n",
      "\n",
      "    MyDatabaseDataContext db = new MyDatabaseDataContext(conn);\n",
      "    MyDataTable dt = new MyDataTable();\n",
      "\n",
      "    // execute a sproc via LINQ\n",
      "    var query = from dr\n",
      "                in db.MySproc().AsEnumerable\n",
      "                select dr;\n",
      "\n",
      "    // copy LINQ query resultset into a DataTable -this does not work !    \n",
      "    dt = query.CopyToDataTable();\n",
      "\n",
      "    return dt;\n",
      "}\n",
      "</code></pre>\n",
      "\n",
      "<p>How can I get the result set of a LINQ query into a <code>DataSet</code> or <code>DataTable</code>? Alternatively, is the LINQ query serializable so that I can expose it as an ASMX web service?</p>\n",
      "\n",
      "<c#><linq><web-services><.net-3.5>\n"
     ]
    }
   ],
   "source": [
    "id = 5\n",
    "print(data_example['Body'][id])\n",
    "print(data_example['Tags'][id])"
   ]
  },
  {
   "cell_type": "code",
   "execution_count": 82,
   "metadata": {},
   "outputs": [
    {
     "data": {
      "text/plain": [
       "array(['.net', 'android', 'arrays', 'asp.net', 'bash', 'c', 'c#', 'css',\n",
       "       'git', 'html', 'iphone', 'java', 'javascript', 'jquery', 'linux',\n",
       "       'mysql', 'objectivec', 'php', 'python', 'regex', 'sql',\n",
       "       'sqlserver', 'string', 'windows'], dtype=object)"
      ]
     },
     "execution_count": 82,
     "metadata": {},
     "output_type": "execute_result"
    }
   ],
   "source": [
    "unique_tags"
   ]
  },
  {
   "cell_type": "code",
   "execution_count": 89,
   "metadata": {},
   "outputs": [
    {
     "ename": "KeyError",
     "evalue": "False",
     "output_type": "error",
     "traceback": [
      "\u001b[0;31m---------------------------------------------------------------------------\u001b[0m",
      "\u001b[0;31mKeyError\u001b[0m                                  Traceback (most recent call last)",
      "\u001b[0;32m~/anaconda3/envs/fieldbox/lib/python3.7/site-packages/pandas/core/indexes/base.py\u001b[0m in \u001b[0;36mget_loc\u001b[0;34m(self, key, method, tolerance)\u001b[0m\n\u001b[1;32m   2645\u001b[0m             \u001b[0;32mtry\u001b[0m\u001b[0;34m:\u001b[0m\u001b[0;34m\u001b[0m\u001b[0;34m\u001b[0m\u001b[0m\n\u001b[0;32m-> 2646\u001b[0;31m                 \u001b[0;32mreturn\u001b[0m \u001b[0mself\u001b[0m\u001b[0;34m.\u001b[0m\u001b[0m_engine\u001b[0m\u001b[0;34m.\u001b[0m\u001b[0mget_loc\u001b[0m\u001b[0;34m(\u001b[0m\u001b[0mkey\u001b[0m\u001b[0;34m)\u001b[0m\u001b[0;34m\u001b[0m\u001b[0;34m\u001b[0m\u001b[0m\n\u001b[0m\u001b[1;32m   2647\u001b[0m             \u001b[0;32mexcept\u001b[0m \u001b[0mKeyError\u001b[0m\u001b[0;34m:\u001b[0m\u001b[0;34m\u001b[0m\u001b[0;34m\u001b[0m\u001b[0m\n",
      "\u001b[0;32mpandas/_libs/index.pyx\u001b[0m in \u001b[0;36mpandas._libs.index.IndexEngine.get_loc\u001b[0;34m()\u001b[0m\n",
      "\u001b[0;32mpandas/_libs/index.pyx\u001b[0m in \u001b[0;36mpandas._libs.index.IndexEngine.get_loc\u001b[0;34m()\u001b[0m\n",
      "\u001b[0;32mpandas/_libs/hashtable_class_helper.pxi\u001b[0m in \u001b[0;36mpandas._libs.hashtable.PyObjectHashTable.get_item\u001b[0;34m()\u001b[0m\n",
      "\u001b[0;32mpandas/_libs/hashtable_class_helper.pxi\u001b[0m in \u001b[0;36mpandas._libs.hashtable.PyObjectHashTable.get_item\u001b[0;34m()\u001b[0m\n",
      "\u001b[0;31mKeyError\u001b[0m: False",
      "\nDuring handling of the above exception, another exception occurred:\n",
      "\u001b[0;31mKeyError\u001b[0m                                  Traceback (most recent call last)",
      "\u001b[0;32m<ipython-input-89-996638321390>\u001b[0m in \u001b[0;36m<module>\u001b[0;34m\u001b[0m\n\u001b[0;32m----> 1\u001b[0;31m \u001b[0mdata_example\u001b[0m\u001b[0;34m[\u001b[0m\u001b[0mdata_example\u001b[0m\u001b[0;34m[\u001b[0m\u001b[0;34m'python'\u001b[0m \u001b[0;32min\u001b[0m \u001b[0mdata\u001b[0m\u001b[0;34m[\u001b[0m\u001b[0;34m:\u001b[0m\u001b[0;36m100\u001b[0m\u001b[0;34m]\u001b[0m\u001b[0;34m[\u001b[0m\u001b[0;34m'Tags'\u001b[0m\u001b[0;34m]\u001b[0m\u001b[0;34m]\u001b[0m\u001b[0;34m]\u001b[0m\u001b[0;34m\u001b[0m\u001b[0;34m\u001b[0m\u001b[0m\n\u001b[0m",
      "\u001b[0;32m~/anaconda3/envs/fieldbox/lib/python3.7/site-packages/pandas/core/frame.py\u001b[0m in \u001b[0;36m__getitem__\u001b[0;34m(self, key)\u001b[0m\n\u001b[1;32m   2798\u001b[0m             \u001b[0;32mif\u001b[0m \u001b[0mself\u001b[0m\u001b[0;34m.\u001b[0m\u001b[0mcolumns\u001b[0m\u001b[0;34m.\u001b[0m\u001b[0mnlevels\u001b[0m \u001b[0;34m>\u001b[0m \u001b[0;36m1\u001b[0m\u001b[0;34m:\u001b[0m\u001b[0;34m\u001b[0m\u001b[0;34m\u001b[0m\u001b[0m\n\u001b[1;32m   2799\u001b[0m                 \u001b[0;32mreturn\u001b[0m \u001b[0mself\u001b[0m\u001b[0;34m.\u001b[0m\u001b[0m_getitem_multilevel\u001b[0m\u001b[0;34m(\u001b[0m\u001b[0mkey\u001b[0m\u001b[0;34m)\u001b[0m\u001b[0;34m\u001b[0m\u001b[0;34m\u001b[0m\u001b[0m\n\u001b[0;32m-> 2800\u001b[0;31m             \u001b[0mindexer\u001b[0m \u001b[0;34m=\u001b[0m \u001b[0mself\u001b[0m\u001b[0;34m.\u001b[0m\u001b[0mcolumns\u001b[0m\u001b[0;34m.\u001b[0m\u001b[0mget_loc\u001b[0m\u001b[0;34m(\u001b[0m\u001b[0mkey\u001b[0m\u001b[0;34m)\u001b[0m\u001b[0;34m\u001b[0m\u001b[0;34m\u001b[0m\u001b[0m\n\u001b[0m\u001b[1;32m   2801\u001b[0m             \u001b[0;32mif\u001b[0m \u001b[0mis_integer\u001b[0m\u001b[0;34m(\u001b[0m\u001b[0mindexer\u001b[0m\u001b[0;34m)\u001b[0m\u001b[0;34m:\u001b[0m\u001b[0;34m\u001b[0m\u001b[0;34m\u001b[0m\u001b[0m\n\u001b[1;32m   2802\u001b[0m                 \u001b[0mindexer\u001b[0m \u001b[0;34m=\u001b[0m \u001b[0;34m[\u001b[0m\u001b[0mindexer\u001b[0m\u001b[0;34m]\u001b[0m\u001b[0;34m\u001b[0m\u001b[0;34m\u001b[0m\u001b[0m\n",
      "\u001b[0;32m~/anaconda3/envs/fieldbox/lib/python3.7/site-packages/pandas/core/indexes/base.py\u001b[0m in \u001b[0;36mget_loc\u001b[0;34m(self, key, method, tolerance)\u001b[0m\n\u001b[1;32m   2646\u001b[0m                 \u001b[0;32mreturn\u001b[0m \u001b[0mself\u001b[0m\u001b[0;34m.\u001b[0m\u001b[0m_engine\u001b[0m\u001b[0;34m.\u001b[0m\u001b[0mget_loc\u001b[0m\u001b[0;34m(\u001b[0m\u001b[0mkey\u001b[0m\u001b[0;34m)\u001b[0m\u001b[0;34m\u001b[0m\u001b[0;34m\u001b[0m\u001b[0m\n\u001b[1;32m   2647\u001b[0m             \u001b[0;32mexcept\u001b[0m \u001b[0mKeyError\u001b[0m\u001b[0;34m:\u001b[0m\u001b[0;34m\u001b[0m\u001b[0;34m\u001b[0m\u001b[0m\n\u001b[0;32m-> 2648\u001b[0;31m                 \u001b[0;32mreturn\u001b[0m \u001b[0mself\u001b[0m\u001b[0;34m.\u001b[0m\u001b[0m_engine\u001b[0m\u001b[0;34m.\u001b[0m\u001b[0mget_loc\u001b[0m\u001b[0;34m(\u001b[0m\u001b[0mself\u001b[0m\u001b[0;34m.\u001b[0m\u001b[0m_maybe_cast_indexer\u001b[0m\u001b[0;34m(\u001b[0m\u001b[0mkey\u001b[0m\u001b[0;34m)\u001b[0m\u001b[0;34m)\u001b[0m\u001b[0;34m\u001b[0m\u001b[0;34m\u001b[0m\u001b[0m\n\u001b[0m\u001b[1;32m   2649\u001b[0m         \u001b[0mindexer\u001b[0m \u001b[0;34m=\u001b[0m \u001b[0mself\u001b[0m\u001b[0;34m.\u001b[0m\u001b[0mget_indexer\u001b[0m\u001b[0;34m(\u001b[0m\u001b[0;34m[\u001b[0m\u001b[0mkey\u001b[0m\u001b[0;34m]\u001b[0m\u001b[0;34m,\u001b[0m \u001b[0mmethod\u001b[0m\u001b[0;34m=\u001b[0m\u001b[0mmethod\u001b[0m\u001b[0;34m,\u001b[0m \u001b[0mtolerance\u001b[0m\u001b[0;34m=\u001b[0m\u001b[0mtolerance\u001b[0m\u001b[0;34m)\u001b[0m\u001b[0;34m\u001b[0m\u001b[0;34m\u001b[0m\u001b[0m\n\u001b[1;32m   2650\u001b[0m         \u001b[0;32mif\u001b[0m \u001b[0mindexer\u001b[0m\u001b[0;34m.\u001b[0m\u001b[0mndim\u001b[0m \u001b[0;34m>\u001b[0m \u001b[0;36m1\u001b[0m \u001b[0;32mor\u001b[0m \u001b[0mindexer\u001b[0m\u001b[0;34m.\u001b[0m\u001b[0msize\u001b[0m \u001b[0;34m>\u001b[0m \u001b[0;36m1\u001b[0m\u001b[0;34m:\u001b[0m\u001b[0;34m\u001b[0m\u001b[0;34m\u001b[0m\u001b[0m\n",
      "\u001b[0;32mpandas/_libs/index.pyx\u001b[0m in \u001b[0;36mpandas._libs.index.IndexEngine.get_loc\u001b[0;34m()\u001b[0m\n",
      "\u001b[0;32mpandas/_libs/index.pyx\u001b[0m in \u001b[0;36mpandas._libs.index.IndexEngine.get_loc\u001b[0;34m()\u001b[0m\n",
      "\u001b[0;32mpandas/_libs/hashtable_class_helper.pxi\u001b[0m in \u001b[0;36mpandas._libs.hashtable.PyObjectHashTable.get_item\u001b[0;34m()\u001b[0m\n",
      "\u001b[0;32mpandas/_libs/hashtable_class_helper.pxi\u001b[0m in \u001b[0;36mpandas._libs.hashtable.PyObjectHashTable.get_item\u001b[0;34m()\u001b[0m\n",
      "\u001b[0;31mKeyError\u001b[0m: False"
     ]
    }
   ],
   "source": [
    "data_example[data_example['python' in data[:100]['Tags']]]"
   ]
  },
  {
   "cell_type": "markdown",
   "metadata": {},
   "source": [
    "## Lets do a grid search over lightgbm hyperparameters\n"
   ]
  },
  {
   "cell_type": "code",
   "execution_count": 59,
   "metadata": {},
   "outputs": [],
   "source": [
    "from scipy.stats import randint as sp_randint\n",
    "from scipy.stats import uniform as sp_uniform\n",
    "\n",
    "\n",
    "param_test ={'estimator__num_leaves': sp_randint(6, 50), \n",
    "             'estimator__min_child_samples': sp_randint(100, 500), \n",
    "             'estimator__min_child_weight': [1e-5, 1e-3, 1e-2, 1e-1, 1, 1e1, 1e2, 1e3, 1e4],\n",
    "             'estimator__subsample': sp_uniform(loc=0.2, scale=0.8), \n",
    "             'estimator__reg_alpha': [0, 1e-1, 1, 2, 5, 7, 10, 50, 100],\n",
    "             'estimator__reg_lambda': [0, 1e-1, 1, 5, 10, 20, 50, 100]}\n"
   ]
  },
  {
   "cell_type": "code",
   "execution_count": 68,
   "metadata": {},
   "outputs": [],
   "source": [
    "import lightgbm as lgb\n",
    "from sklearn.model_selection import RandomizedSearchCV\n",
    "\n",
    "#n_estimators is set to a \"large value\". The actual number of trees build will depend on early stopping and 400 define only the absolute maximum\n",
    "classifier = OneVsRestClassifier(lightgbm.LGBMClassifier(random_state=42,n_estimators = 100))\n",
    "\n",
    "randomized_search = RandomizedSearchCV(estimator=classifier, \n",
    "                                       param_distributions=param_test, \n",
    "                                       n_iter=20,\n",
    "                                       scoring='f1_micro',\n",
    "                                       cv=2,\n",
    "                                       refit=True,\n",
    "                                       random_state=42,\n",
    "                                       verbose=True)"
   ]
  },
  {
   "cell_type": "code",
   "execution_count": 57,
   "metadata": {},
   "outputs": [
    {
     "data": {
      "text/plain": [
       "dict_keys(['estimator__boosting_type', 'estimator__class_weight', 'estimator__colsample_bytree', 'estimator__importance_type', 'estimator__learning_rate', 'estimator__max_depth', 'estimator__min_child_samples', 'estimator__min_child_weight', 'estimator__min_split_gain', 'estimator__n_estimators', 'estimator__n_jobs', 'estimator__num_leaves', 'estimator__objective', 'estimator__random_state', 'estimator__reg_alpha', 'estimator__reg_lambda', 'estimator__silent', 'estimator__subsample', 'estimator__subsample_for_bin', 'estimator__subsample_freq', 'estimator', 'n_jobs'])"
      ]
     },
     "execution_count": 57,
     "metadata": {},
     "output_type": "execute_result"
    }
   ],
   "source": [
    "classifier.get_params().keys()"
   ]
  },
  {
   "cell_type": "code",
   "execution_count": null,
   "metadata": {},
   "outputs": [
    {
     "name": "stdout",
     "output_type": "stream",
     "text": [
      "Fitting 2 folds for each of 20 candidates, totalling 40 fits\n"
     ]
    },
    {
     "name": "stderr",
     "output_type": "stream",
     "text": [
      "[Parallel(n_jobs=1)]: Using backend SequentialBackend with 1 concurrent workers.\n"
     ]
    }
   ],
   "source": [
    "start = time.process_time()\n",
    "\n",
    "\n",
    "randomized_search.fit(X_train_tfidf, y_train_multi)\n",
    "print('Best score reached: {} with params: {} '.format(randomized_search.best_score_, randomized_search.best_params_))\n",
    "\n",
    "\n",
    "#res = print_metrics(y_test_multi, predictions)\n",
    "tps = time.process_time() - start\n",
    "print(\"Time taken to run this cell :\", tps)"
   ]
  },
  {
   "cell_type": "code",
   "execution_count": null,
   "metadata": {},
   "outputs": [],
   "source": []
  }
 ],
 "metadata": {
  "colab": {
   "name": "supervised_approach.ipynb",
   "provenance": []
  },
  "kernelspec": {
   "display_name": "Python 3",
   "language": "python",
   "name": "python3"
  },
  "language_info": {
   "codemirror_mode": {
    "name": "ipython",
    "version": 3
   },
   "file_extension": ".py",
   "mimetype": "text/x-python",
   "name": "python",
   "nbconvert_exporter": "python",
   "pygments_lexer": "ipython3",
   "version": "3.7.9"
  }
 },
 "nbformat": 4,
 "nbformat_minor": 1
}
