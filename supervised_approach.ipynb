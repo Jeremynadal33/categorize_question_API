{
  "nbformat": 4,
  "nbformat_minor": 0,
  "metadata": {
    "kernelspec": {
      "display_name": "Python 3",
      "language": "python",
      "name": "python3"
    },
    "language_info": {
      "codemirror_mode": {
        "name": "ipython",
        "version": 3
      },
      "file_extension": ".py",
      "mimetype": "text/x-python",
      "name": "python",
      "nbconvert_exporter": "python",
      "pygments_lexer": "ipython3",
      "version": "3.7.9"
    },
    "colab": {
      "name": "supervised_approach.ipynb",
      "provenance": []
    }
  },
  "cells": [
    {
      "cell_type": "markdown",
      "metadata": {
        "id": "XrMxmsIRGAJW"
      },
      "source": [
        "# This notebook's aim is to transform the pre-processed documents into vectors and do a supervised analysis\n",
        "\n",
        "[![Open In Colab](https://colab.research.google.com/assets/colab-badge.svg)](https://colab.research.google.com/github/Jeremynadal33/categorize_question_API/blob/master/supervised_approach.ipynb)\n",
        "\n",
        "\n",
        "## Here, are compared supervised methods : \n",
        "## We will compare the results for two different vectorization methods : Bag of Word and Tfidf\n",
        "First, import the relevant libraries : "
      ]
    },
    {
      "cell_type": "code",
      "metadata": {
        "id": "N3kdYUoRGAJk"
      },
      "source": [
        "import pandas as pd\n",
        "import numpy as np\n",
        "import matplotlib.pyplot as plt\n",
        "import seaborn as sns\n",
        "\n",
        "import os\n",
        "import re\n",
        "import time\n",
        "import datetime as datetime\n",
        "\n",
        "## My script : \n",
        "#from function import *"
      ],
      "execution_count": 1,
      "outputs": []
    },
    {
      "cell_type": "code",
      "metadata": {
        "id": "mBx3JYn8GAJn"
      },
      "source": [
        "# Specific libraries : \n",
        "import nltk\n",
        "from bs4 import BeautifulSoup\n",
        "\n",
        "\n",
        "from sklearn.feature_extraction.text import CountVectorizer # BoW\n",
        "from sklearn.feature_extraction.text import TfidfVectorizer # Tfidf\n",
        "\n",
        "\n",
        "from sklearn.metrics import f1_score,precision_score,recall_score\n",
        "\n",
        "from sklearn.multiclass import OneVsRestClassifier\n",
        "\n",
        "from sklearn.linear_model import LogisticRegression,SGDClassifier\n",
        "from sklearn.ensemble import RandomForestClassifier\n",
        "import xgboost\n",
        "import lightgbm\n",
        "from sklearn.model_selection import train_test_split\n",
        "from sklearn import metrics"
      ],
      "execution_count": 2,
      "outputs": []
    },
    {
      "cell_type": "code",
      "metadata": {
        "id": "djJatlLBGO_G",
        "outputId": "075d600c-7be0-482c-f586-d723d5eaf507",
        "colab": {
          "base_uri": "https://localhost:8080/"
        }
      },
      "source": [
        "if 'google.colab' in str(get_ipython()):\n",
        "  print('Running on CoLab')\n",
        "  from google.colab import drive\n",
        "  drive.mount('/content/gdrive',force_remount=True)\n",
        "  !ls /content/gdrive/My\\ Drive/Formation-OC/P5-Stackoverflow\n",
        "  root_dir = '/content/gdrive/My Drive/Formation-OC/P5-Stackoverflow/'\n",
        "  input_dir = root_dir + 'inputs/'\n",
        "  png_dir = root_dir + 'pngs/'\n",
        "\n",
        "  #my script\n",
        "  %run /content/gdrive/My\\ Drive/Formation-OC/P5-Stackoverflow/function.py\n",
        "else:\n",
        "  print('Not running on CoLab')\n",
        "  #my script\n",
        "  root_dir = '/Users/jeremynadal/Documents/Formation OC IML/P5-API/'\n",
        "  input_dir = root_dir + 'inputs/'\n",
        "  png_dir = root_dir + 'pngs/'\n",
        "  from function import *"
      ],
      "execution_count": 3,
      "outputs": [
        {
          "output_type": "stream",
          "text": [
            "Running on CoLab\n",
            "Mounted at /content/gdrive\n",
            "function.py  inputs  P5_presentation.pptx  pngs\n"
          ],
          "name": "stdout"
        }
      ]
    },
    {
      "cell_type": "code",
      "metadata": {
        "id": "FtjdCsYoGAJo",
        "outputId": "214fef19-3df6-424e-bdad-c9c331f9ab30",
        "colab": {
          "base_uri": "https://localhost:8080/"
        }
      },
      "source": [
        "!ls gdrive/MyDrive/Formation-OC/P5-Stackoverflow/"
      ],
      "execution_count": 13,
      "outputs": [
        {
          "output_type": "stream",
          "text": [
            "function.py  inputs  P5_presentation.pptx  pngs\n"
          ],
          "name": "stdout"
        }
      ]
    },
    {
      "cell_type": "code",
      "metadata": {
        "id": "N4k0kO1NGAJq",
        "outputId": "0035c6b8-5962-49e6-dcec-db76ecbd7334",
        "colab": {
          "base_uri": "https://localhost:8080/",
          "height": 370
        }
      },
      "source": [
        "data = pd.read_csv(input_dir+'processed_dataset.csv')\n",
        "\n",
        "print(data.shape)\n",
        "print(data.dtypes)\n",
        "data.head()"
      ],
      "execution_count": 4,
      "outputs": [
        {
          "output_type": "stream",
          "text": [
            "(39409, 3)\n",
            "Tags              object\n",
            "processed_text    object\n",
            "nb_tags            int64\n",
            "dtype: object\n"
          ],
          "name": "stdout"
        },
        {
          "output_type": "execute_result",
          "data": {
            "text/html": [
              "<div>\n",
              "<style scoped>\n",
              "    .dataframe tbody tr th:only-of-type {\n",
              "        vertical-align: middle;\n",
              "    }\n",
              "\n",
              "    .dataframe tbody tr th {\n",
              "        vertical-align: top;\n",
              "    }\n",
              "\n",
              "    .dataframe thead th {\n",
              "        text-align: right;\n",
              "    }\n",
              "</style>\n",
              "<table border=\"1\" class=\"dataframe\">\n",
              "  <thead>\n",
              "    <tr style=\"text-align: right;\">\n",
              "      <th></th>\n",
              "      <th>Tags</th>\n",
              "      <th>processed_text</th>\n",
              "      <th>nb_tags</th>\n",
              "    </tr>\n",
              "  </thead>\n",
              "  <tbody>\n",
              "    <tr>\n",
              "      <th>0</th>\n",
              "      <td>['c#']</td>\n",
              "      <td>['convert', 'double', 'c#', 'convert', 'double...</td>\n",
              "      <td>1</td>\n",
              "    </tr>\n",
              "    <tr>\n",
              "      <th>1</th>\n",
              "      <td>['c#', '.net']</td>\n",
              "      <td>['c#', 'calculate', 'someone', 'age', 'base', ...</td>\n",
              "      <td>2</td>\n",
              "    </tr>\n",
              "    <tr>\n",
              "      <th>2</th>\n",
              "      <td>['c#']</td>\n",
              "      <td>['calculate', 'time', 'c#', 'calculate', 'time...</td>\n",
              "      <td>1</td>\n",
              "    </tr>\n",
              "    <tr>\n",
              "      <th>3</th>\n",
              "      <td>['html']</td>\n",
              "      <td>['determine', 'user', 'timezone', 'determine',...</td>\n",
              "      <td>1</td>\n",
              "    </tr>\n",
              "    <tr>\n",
              "      <th>4</th>\n",
              "      <td>['.net']</td>\n",
              "      <td>['difference', 'mathfloor', 'mathtruncate', 'd...</td>\n",
              "      <td>1</td>\n",
              "    </tr>\n",
              "  </tbody>\n",
              "</table>\n",
              "</div>"
            ],
            "text/plain": [
              "             Tags                                     processed_text  nb_tags\n",
              "0          ['c#']  ['convert', 'double', 'c#', 'convert', 'double...        1\n",
              "1  ['c#', '.net']  ['c#', 'calculate', 'someone', 'age', 'base', ...        2\n",
              "2          ['c#']  ['calculate', 'time', 'c#', 'calculate', 'time...        1\n",
              "3        ['html']  ['determine', 'user', 'timezone', 'determine',...        1\n",
              "4        ['.net']  ['difference', 'mathfloor', 'mathtruncate', 'd...        1"
            ]
          },
          "metadata": {
            "tags": []
          },
          "execution_count": 4
        }
      ]
    },
    {
      "cell_type": "code",
      "metadata": {
        "id": "fDArtiUEGAJu"
      },
      "source": [
        "def reforme_tags_processed_text(data):\n",
        "    tags = []\n",
        "    processed_text = []\n",
        "    for indx in range(data.shape[0]):\n",
        "        new_tags = []\n",
        "        new_processed = []\n",
        "        \n",
        "        split = data['Tags'][indx].split(',')\n",
        "        for nb_tags in range(data['nb_tags'][indx]):    \n",
        "            to_append = re.sub('[\\[\\]\\'\\\"!*+-]','',split[nb_tags]).replace('\\\\','').replace(' ','')\n",
        "            if not to_append in ['',' '] : new_tags.append(to_append)\n",
        "        tags.append(new_tags)\n",
        "        \n",
        "        text = data['processed_text'][indx].split(',')\n",
        "        for i in range(len(text)):\n",
        "            to_append = re.sub('[\\[\\]\\'\\\"!*+-:.]','',text[i]).replace('\\\\','').replace(' ','')\n",
        "            if not to_append in ['',' '] : new_processed.append(to_append)\n",
        "        processed_text.append(new_processed)\n",
        "        \n",
        "    data['Tags'] = tags\n",
        "    data['processed_text'] = processed_text\n",
        "    return data"
      ],
      "execution_count": 5,
      "outputs": []
    },
    {
      "cell_type": "code",
      "metadata": {
        "id": "6jQYJBjrGAJv",
        "outputId": "37cab774-4d7e-44b9-edac-6edee5b3e8a5",
        "colab": {
          "base_uri": "https://localhost:8080/",
          "height": 260
        }
      },
      "source": [
        "data = reforme_tags_processed_text(data)\n",
        "data.head()"
      ],
      "execution_count": 6,
      "outputs": [
        {
          "output_type": "execute_result",
          "data": {
            "text/html": [
              "<div>\n",
              "<style scoped>\n",
              "    .dataframe tbody tr th:only-of-type {\n",
              "        vertical-align: middle;\n",
              "    }\n",
              "\n",
              "    .dataframe tbody tr th {\n",
              "        vertical-align: top;\n",
              "    }\n",
              "\n",
              "    .dataframe thead th {\n",
              "        text-align: right;\n",
              "    }\n",
              "</style>\n",
              "<table border=\"1\" class=\"dataframe\">\n",
              "  <thead>\n",
              "    <tr style=\"text-align: right;\">\n",
              "      <th></th>\n",
              "      <th>Tags</th>\n",
              "      <th>processed_text</th>\n",
              "      <th>nb_tags</th>\n",
              "    </tr>\n",
              "  </thead>\n",
              "  <tbody>\n",
              "    <tr>\n",
              "      <th>0</th>\n",
              "      <td>[c#]</td>\n",
              "      <td>[convert, double, c#, convert, double, c#, wan...</td>\n",
              "      <td>1</td>\n",
              "    </tr>\n",
              "    <tr>\n",
              "      <th>1</th>\n",
              "      <td>[c#, .net]</td>\n",
              "      <td>[c#, calculate, someone, age, base, datetime, ...</td>\n",
              "      <td>2</td>\n",
              "    </tr>\n",
              "    <tr>\n",
              "      <th>2</th>\n",
              "      <td>[c#]</td>\n",
              "      <td>[calculate, time, c#, calculate, time, c#, giv...</td>\n",
              "      <td>1</td>\n",
              "    </tr>\n",
              "    <tr>\n",
              "      <th>3</th>\n",
              "      <td>[html]</td>\n",
              "      <td>[determine, user, timezone, determine, user, t...</td>\n",
              "      <td>1</td>\n",
              "    </tr>\n",
              "    <tr>\n",
              "      <th>4</th>\n",
              "      <td>[.net]</td>\n",
              "      <td>[difference, mathfloor, mathtruncate, differen...</td>\n",
              "      <td>1</td>\n",
              "    </tr>\n",
              "  </tbody>\n",
              "</table>\n",
              "</div>"
            ],
            "text/plain": [
              "         Tags                                     processed_text  nb_tags\n",
              "0        [c#]  [convert, double, c#, convert, double, c#, wan...        1\n",
              "1  [c#, .net]  [c#, calculate, someone, age, base, datetime, ...        2\n",
              "2        [c#]  [calculate, time, c#, calculate, time, c#, giv...        1\n",
              "3      [html]  [determine, user, timezone, determine, user, t...        1\n",
              "4      [.net]  [difference, mathfloor, mathtruncate, differen...        1"
            ]
          },
          "metadata": {
            "tags": []
          },
          "execution_count": 6
        }
      ]
    },
    {
      "cell_type": "code",
      "metadata": {
        "id": "EU6qY3fsGAJx"
      },
      "source": [
        "def get_all_tags(tags):\n",
        "    res = []\n",
        "    for i in range(len(tags)):\n",
        "        for j in range(len(tags[i])):\n",
        "            res.append(tags[i][j])\n",
        "            \n",
        "    return pd.Series(res)\n",
        "\n",
        "tags = get_all_tags(data['Tags'])"
      ],
      "execution_count": 7,
      "outputs": []
    },
    {
      "cell_type": "code",
      "metadata": {
        "id": "_W9C1sEkGAJy"
      },
      "source": [
        "unique_tags = np.unique(tags)"
      ],
      "execution_count": 8,
      "outputs": []
    },
    {
      "cell_type": "code",
      "metadata": {
        "id": "yufxgaJgGAJz"
      },
      "source": [
        "for tag in unique_tags : \n",
        "    data[tag] = 0"
      ],
      "execution_count": 9,
      "outputs": []
    },
    {
      "cell_type": "code",
      "metadata": {
        "id": "sJ9ywIMjGAJz",
        "outputId": "156e3941-879b-4a03-fa37-c722356ecfbc",
        "colab": {
          "base_uri": "https://localhost:8080/"
        }
      },
      "source": [
        "for idx in data.index:\n",
        "    for id_tag in range(data['nb_tags'][idx]):\n",
        "        data[data['Tags'][idx][id_tag]][idx] = 1"
      ],
      "execution_count": 10,
      "outputs": [
        {
          "output_type": "stream",
          "text": [
            "/usr/local/lib/python3.6/dist-packages/ipykernel_launcher.py:3: SettingWithCopyWarning: \n",
            "A value is trying to be set on a copy of a slice from a DataFrame\n",
            "\n",
            "See the caveats in the documentation: https://pandas.pydata.org/pandas-docs/stable/user_guide/indexing.html#returning-a-view-versus-a-copy\n",
            "  This is separate from the ipykernel package so we can avoid doing imports until\n"
          ],
          "name": "stderr"
        }
      ]
    },
    {
      "cell_type": "code",
      "metadata": {
        "id": "qGUavCI8GAJ0",
        "outputId": "9cc62ae1-57d8-4af1-893e-b25435e0745c",
        "colab": {
          "base_uri": "https://localhost:8080/",
          "height": 260
        }
      },
      "source": [
        "data.head()"
      ],
      "execution_count": 11,
      "outputs": [
        {
          "output_type": "execute_result",
          "data": {
            "text/html": [
              "<div>\n",
              "<style scoped>\n",
              "    .dataframe tbody tr th:only-of-type {\n",
              "        vertical-align: middle;\n",
              "    }\n",
              "\n",
              "    .dataframe tbody tr th {\n",
              "        vertical-align: top;\n",
              "    }\n",
              "\n",
              "    .dataframe thead th {\n",
              "        text-align: right;\n",
              "    }\n",
              "</style>\n",
              "<table border=\"1\" class=\"dataframe\">\n",
              "  <thead>\n",
              "    <tr style=\"text-align: right;\">\n",
              "      <th></th>\n",
              "      <th>Tags</th>\n",
              "      <th>processed_text</th>\n",
              "      <th>nb_tags</th>\n",
              "      <th>.net</th>\n",
              "      <th>android</th>\n",
              "      <th>arrays</th>\n",
              "      <th>asp.net</th>\n",
              "      <th>bash</th>\n",
              "      <th>c</th>\n",
              "      <th>c#</th>\n",
              "      <th>css</th>\n",
              "      <th>git</th>\n",
              "      <th>html</th>\n",
              "      <th>iphone</th>\n",
              "      <th>java</th>\n",
              "      <th>javascript</th>\n",
              "      <th>jquery</th>\n",
              "      <th>linux</th>\n",
              "      <th>mysql</th>\n",
              "      <th>objectivec</th>\n",
              "      <th>php</th>\n",
              "      <th>python</th>\n",
              "      <th>regex</th>\n",
              "      <th>sql</th>\n",
              "      <th>sqlserver</th>\n",
              "      <th>string</th>\n",
              "      <th>windows</th>\n",
              "    </tr>\n",
              "  </thead>\n",
              "  <tbody>\n",
              "    <tr>\n",
              "      <th>0</th>\n",
              "      <td>[c#]</td>\n",
              "      <td>[convert, double, c#, convert, double, c#, wan...</td>\n",
              "      <td>1</td>\n",
              "      <td>0</td>\n",
              "      <td>0</td>\n",
              "      <td>0</td>\n",
              "      <td>0</td>\n",
              "      <td>0</td>\n",
              "      <td>0</td>\n",
              "      <td>1</td>\n",
              "      <td>0</td>\n",
              "      <td>0</td>\n",
              "      <td>0</td>\n",
              "      <td>0</td>\n",
              "      <td>0</td>\n",
              "      <td>0</td>\n",
              "      <td>0</td>\n",
              "      <td>0</td>\n",
              "      <td>0</td>\n",
              "      <td>0</td>\n",
              "      <td>0</td>\n",
              "      <td>0</td>\n",
              "      <td>0</td>\n",
              "      <td>0</td>\n",
              "      <td>0</td>\n",
              "      <td>0</td>\n",
              "      <td>0</td>\n",
              "    </tr>\n",
              "    <tr>\n",
              "      <th>1</th>\n",
              "      <td>[c#, .net]</td>\n",
              "      <td>[c#, calculate, someone, age, base, datetime, ...</td>\n",
              "      <td>2</td>\n",
              "      <td>1</td>\n",
              "      <td>0</td>\n",
              "      <td>0</td>\n",
              "      <td>0</td>\n",
              "      <td>0</td>\n",
              "      <td>0</td>\n",
              "      <td>1</td>\n",
              "      <td>0</td>\n",
              "      <td>0</td>\n",
              "      <td>0</td>\n",
              "      <td>0</td>\n",
              "      <td>0</td>\n",
              "      <td>0</td>\n",
              "      <td>0</td>\n",
              "      <td>0</td>\n",
              "      <td>0</td>\n",
              "      <td>0</td>\n",
              "      <td>0</td>\n",
              "      <td>0</td>\n",
              "      <td>0</td>\n",
              "      <td>0</td>\n",
              "      <td>0</td>\n",
              "      <td>0</td>\n",
              "      <td>0</td>\n",
              "    </tr>\n",
              "    <tr>\n",
              "      <th>2</th>\n",
              "      <td>[c#]</td>\n",
              "      <td>[calculate, time, c#, calculate, time, c#, giv...</td>\n",
              "      <td>1</td>\n",
              "      <td>0</td>\n",
              "      <td>0</td>\n",
              "      <td>0</td>\n",
              "      <td>0</td>\n",
              "      <td>0</td>\n",
              "      <td>0</td>\n",
              "      <td>1</td>\n",
              "      <td>0</td>\n",
              "      <td>0</td>\n",
              "      <td>0</td>\n",
              "      <td>0</td>\n",
              "      <td>0</td>\n",
              "      <td>0</td>\n",
              "      <td>0</td>\n",
              "      <td>0</td>\n",
              "      <td>0</td>\n",
              "      <td>0</td>\n",
              "      <td>0</td>\n",
              "      <td>0</td>\n",
              "      <td>0</td>\n",
              "      <td>0</td>\n",
              "      <td>0</td>\n",
              "      <td>0</td>\n",
              "      <td>0</td>\n",
              "    </tr>\n",
              "    <tr>\n",
              "      <th>3</th>\n",
              "      <td>[html]</td>\n",
              "      <td>[determine, user, timezone, determine, user, t...</td>\n",
              "      <td>1</td>\n",
              "      <td>0</td>\n",
              "      <td>0</td>\n",
              "      <td>0</td>\n",
              "      <td>0</td>\n",
              "      <td>0</td>\n",
              "      <td>0</td>\n",
              "      <td>0</td>\n",
              "      <td>0</td>\n",
              "      <td>0</td>\n",
              "      <td>1</td>\n",
              "      <td>0</td>\n",
              "      <td>0</td>\n",
              "      <td>0</td>\n",
              "      <td>0</td>\n",
              "      <td>0</td>\n",
              "      <td>0</td>\n",
              "      <td>0</td>\n",
              "      <td>0</td>\n",
              "      <td>0</td>\n",
              "      <td>0</td>\n",
              "      <td>0</td>\n",
              "      <td>0</td>\n",
              "      <td>0</td>\n",
              "      <td>0</td>\n",
              "    </tr>\n",
              "    <tr>\n",
              "      <th>4</th>\n",
              "      <td>[.net]</td>\n",
              "      <td>[difference, mathfloor, mathtruncate, differen...</td>\n",
              "      <td>1</td>\n",
              "      <td>1</td>\n",
              "      <td>0</td>\n",
              "      <td>0</td>\n",
              "      <td>0</td>\n",
              "      <td>0</td>\n",
              "      <td>0</td>\n",
              "      <td>0</td>\n",
              "      <td>0</td>\n",
              "      <td>0</td>\n",
              "      <td>0</td>\n",
              "      <td>0</td>\n",
              "      <td>0</td>\n",
              "      <td>0</td>\n",
              "      <td>0</td>\n",
              "      <td>0</td>\n",
              "      <td>0</td>\n",
              "      <td>0</td>\n",
              "      <td>0</td>\n",
              "      <td>0</td>\n",
              "      <td>0</td>\n",
              "      <td>0</td>\n",
              "      <td>0</td>\n",
              "      <td>0</td>\n",
              "      <td>0</td>\n",
              "    </tr>\n",
              "  </tbody>\n",
              "</table>\n",
              "</div>"
            ],
            "text/plain": [
              "         Tags  ... windows\n",
              "0        [c#]  ...       0\n",
              "1  [c#, .net]  ...       0\n",
              "2        [c#]  ...       0\n",
              "3      [html]  ...       0\n",
              "4      [.net]  ...       0\n",
              "\n",
              "[5 rows x 27 columns]"
            ]
          },
          "metadata": {
            "tags": []
          },
          "execution_count": 11
        }
      ]
    },
    {
      "cell_type": "markdown",
      "metadata": {
        "id": "VBSwyWbtGAJ1"
      },
      "source": [
        "## Lets separate the data into train and test for both bow and tfidf"
      ]
    },
    {
      "cell_type": "code",
      "metadata": {
        "id": "7HOiiW4gGAJ2",
        "outputId": "e9a48d94-2007-4ea4-d018-999b0edc0ab3",
        "colab": {
          "base_uri": "https://localhost:8080/"
        }
      },
      "source": [
        "bow_vectorizer = CountVectorizer(tokenizer = lambda x: x,\n",
        "                                 preprocessor = lambda x: x,\n",
        "                                 lowercase = False,\n",
        "                                 max_features = 1000,\n",
        "                                 binary = True,\n",
        "                                 max_df = 0.9\n",
        "                                 )  \n",
        "bow_X = bow_vectorizer.fit_transform(data['processed_text'])\n",
        "print(len(bow_vectorizer.get_feature_names()))\n",
        "print(bow_X.toarray().shape)"
      ],
      "execution_count": 12,
      "outputs": [
        {
          "output_type": "stream",
          "text": [
            "1000\n",
            "(39409, 1000)\n"
          ],
          "name": "stdout"
        }
      ]
    },
    {
      "cell_type": "code",
      "metadata": {
        "id": "A7VQTojoGAJ3"
      },
      "source": [
        "tfidf_vectorizer = TfidfVectorizer(tokenizer = lambda x: x,\n",
        "                                   preprocessor = lambda x: x,\n",
        "                                   lowercase = False,\n",
        "                                   max_features = 1000,\n",
        "                                   max_df = 0.9\n",
        "                                   )  \n",
        "tfidf_X = tfidf_vectorizer.fit_transform(data['processed_text'])\n"
      ],
      "execution_count": 13,
      "outputs": []
    },
    {
      "cell_type": "code",
      "metadata": {
        "id": "NF3x_9YPGAJ3",
        "outputId": "c77fd415-41b5-4b76-8922-e9622f2e00bf",
        "colab": {
          "base_uri": "https://localhost:8080/"
        }
      },
      "source": [
        "X_train_bow, X_test_bow, y_train_multi, y_test_multi = train_test_split(bow_X.toarray(), \n",
        "                                                                     data[unique_tags], \n",
        "                                                                     test_size=0.2, \n",
        "                                                                     random_state=42)\n",
        "X_train_tfidf, X_test_tfidf, y_train_tags, y_test_tags = train_test_split(tfidf_X.toarray(), \n",
        "                                                                            data['Tags'], \n",
        "                                                                            test_size=0.2, \n",
        "                                                                            random_state=42)\n",
        "print('Train dataset : X.shape = ' , X_train_bow.shape, ' Y.shape = ', y_train_tags.shape)\n",
        "print('Test dataset : X.shape = ' , X_test_bow.shape, ' Y.shape = ', y_test_tags.shape)"
      ],
      "execution_count": 15,
      "outputs": [
        {
          "output_type": "stream",
          "text": [
            "Train dataset : X.shape =  (31527, 1000)  Y.shape =  (31527,)\n",
            "Test dataset : X.shape =  (7882, 1000)  Y.shape =  (7882,)\n"
          ],
          "name": "stdout"
        }
      ]
    },
    {
      "cell_type": "markdown",
      "metadata": {
        "id": "KkfcJq_TGAJ6"
      },
      "source": [
        "## We define some metrics to compare the different models "
      ]
    },
    {
      "cell_type": "code",
      "metadata": {
        "id": "Ed9UibSZGAJ8"
      },
      "source": [
        "def cosine_similarity(x, y):\n",
        "    x = np.array(x)\n",
        "    y = np.array(y)\n",
        "    assert x.shape == y.shape , 'x and y doesnt have same shape'\n",
        "    assert len(x.shape)==2 , 'x and y must be matrixes [nb_samp,x], if only 1 sample use : np.reshape(1,-1)'\n",
        "    cosin = []\n",
        "    for idx in range(x.shape[0]):\n",
        "        if (np.dot(x[idx], x[idx]) !=0 and np.dot(y[idx], y[idx]) != 0 ) :\n",
        "            cosin.append(np.dot(x[idx], y[idx]) / (np.sqrt(np.dot(x[idx], x[idx])) * np.sqrt(np.dot(y[idx], y[idx]))))\n",
        "        elif (np.dot(x[idx], x[idx]) ==0 and np.dot(y[idx], y[idx]) == 0 ) : \n",
        "            cosin.append(1)\n",
        "        else:\n",
        "            cosin.append(-1)\n",
        "    return np.mean(cosin)\n",
        "\n",
        "def print_metrics(y_true, pred):\n",
        "    '''Prints and return a summary of results'''\n",
        "    y_true = np.array(y_true)\n",
        "    pred = np.array(pred)\n",
        "    assert y_true.shape == pred.shape, 'arrays doesnt have same shape'\n",
        "    \n",
        "    res = [metrics.accuracy_score(y_true, pred),\n",
        "           metrics.hamming_loss(y_true,pred),\n",
        "           precision_score(y_true, pred, average='micro'),\n",
        "           recall_score(y_true, pred, average='micro'),\n",
        "           f1_score(y_true, pred, average='micro'),\n",
        "           cosine_similarity(y_true,pred)]\n",
        "    \n",
        "    print(\"Accuracy :{:.3}\\nHamming loss :{:.4}\\n\\nMicro-averaged quality metrics :\\nPrecision :{:.3}\\nRecall :{:.3}\\nF1-score :{:.3}\\nCosine similarity : {:.3}\".format(*res))\n",
        "    return res"
      ],
      "execution_count": 16,
      "outputs": []
    },
    {
      "cell_type": "markdown",
      "metadata": {
        "id": "9SB9sS0WGAJ9"
      },
      "source": [
        "## Lets compare different models on both vectorizers (bow and tfidf)\n",
        "* SGD \n",
        "* Logistic regression \n",
        "* Random Forest\n",
        "* XGBoost \n",
        "* LightGBM\n",
        "\n",
        "Lets put results into a csv file"
      ]
    },
    {
      "cell_type": "code",
      "metadata": {
        "id": "CoTnBihTIx11",
        "outputId": "396b397e-a097-4c09-ea99-3e3f3778c704",
        "colab": {
          "base_uri": "https://localhost:8080/",
          "height": 58
        }
      },
      "source": [
        "name = 'results.csv'\n",
        "if os.path.exists(input_dir+name):\n",
        "  classifier_comparison = pd.read_csv(input_dir+name)\n",
        "else : \n",
        "    classifier_comparison = pd.DataFrame(columns = ['model','vectorizer','acc','hamm','precision','recall','F1','cosine','tps'])\n",
        "classifier_comparison"
      ],
      "execution_count": 17,
      "outputs": [
        {
          "output_type": "execute_result",
          "data": {
            "text/html": [
              "<div>\n",
              "<style scoped>\n",
              "    .dataframe tbody tr th:only-of-type {\n",
              "        vertical-align: middle;\n",
              "    }\n",
              "\n",
              "    .dataframe tbody tr th {\n",
              "        vertical-align: top;\n",
              "    }\n",
              "\n",
              "    .dataframe thead th {\n",
              "        text-align: right;\n",
              "    }\n",
              "</style>\n",
              "<table border=\"1\" class=\"dataframe\">\n",
              "  <thead>\n",
              "    <tr style=\"text-align: right;\">\n",
              "      <th></th>\n",
              "      <th>model</th>\n",
              "      <th>vectorizer</th>\n",
              "      <th>acc</th>\n",
              "      <th>hamm</th>\n",
              "      <th>precision</th>\n",
              "      <th>recall</th>\n",
              "      <th>F1</th>\n",
              "      <th>cosine</th>\n",
              "      <th>tps</th>\n",
              "    </tr>\n",
              "  </thead>\n",
              "  <tbody>\n",
              "  </tbody>\n",
              "</table>\n",
              "</div>"
            ],
            "text/plain": [
              "Empty DataFrame\n",
              "Columns: [model, vectorizer, acc, hamm, precision, recall, F1, cosine, tps]\n",
              "Index: []"
            ]
          },
          "metadata": {
            "tags": []
          },
          "execution_count": 17
        }
      ]
    },
    {
      "cell_type": "code",
      "metadata": {
        "id": "IpYzFfXVGAJ-",
        "outputId": "7cbdb26f-e49b-4db6-f272-90b8b8b5a2f3",
        "colab": {
          "base_uri": "https://localhost:8080/",
          "height": 298
        }
      },
      "source": [
        "# Train SGD with bow\n",
        "start = time.process_time()\n",
        "classifier = OneVsRestClassifier(SGDClassifier(loss='log', alpha=0.001, penalty='l1'))\n",
        "classifier.fit(X_train_bow, y_train_multi)\n",
        "predictions = classifier.predict(X_test_bow)\n",
        "\n",
        "\n",
        "res = print_metrics(y_test_multi, predictions)\n",
        "tps = time.process_time() - start\n",
        "print(\"Time taken to run this cell :\", tps)\n",
        "dico = {'model':'SGD',\n",
        "      'vectorizer':'bow',\n",
        "      'acc':res[0],\n",
        "      'hamm':res[1],\n",
        "      'precision':res[2],\n",
        "      'recall':res[3],\n",
        "      'F1':res[4],\n",
        "      'cosine':res[5],\n",
        "      'tps':tps}\n",
        "classifier_comparison = classifier_comparison.append(dico,ignore_index=True)\n",
        "classifier_comparison\n"
      ],
      "execution_count": 18,
      "outputs": [
        {
          "output_type": "stream",
          "text": [
            "Accuracy :0.452\n",
            "Hamming loss :0.0294\n",
            "\n",
            "Micro-averaged quality metrics :\n",
            "Precision :0.859\n",
            "Recall :0.546\n",
            "F1-score :0.667\n",
            "Cosine similarity : 0.272\n",
            "Time taken to run this cell : 38.429488000999996\n"
          ],
          "name": "stdout"
        },
        {
          "output_type": "execute_result",
          "data": {
            "text/html": [
              "<div>\n",
              "<style scoped>\n",
              "    .dataframe tbody tr th:only-of-type {\n",
              "        vertical-align: middle;\n",
              "    }\n",
              "\n",
              "    .dataframe tbody tr th {\n",
              "        vertical-align: top;\n",
              "    }\n",
              "\n",
              "    .dataframe thead th {\n",
              "        text-align: right;\n",
              "    }\n",
              "</style>\n",
              "<table border=\"1\" class=\"dataframe\">\n",
              "  <thead>\n",
              "    <tr style=\"text-align: right;\">\n",
              "      <th></th>\n",
              "      <th>model</th>\n",
              "      <th>vectorizer</th>\n",
              "      <th>acc</th>\n",
              "      <th>hamm</th>\n",
              "      <th>precision</th>\n",
              "      <th>recall</th>\n",
              "      <th>F1</th>\n",
              "      <th>cosine</th>\n",
              "      <th>tps</th>\n",
              "    </tr>\n",
              "  </thead>\n",
              "  <tbody>\n",
              "    <tr>\n",
              "      <th>0</th>\n",
              "      <td>SGD</td>\n",
              "      <td>bow</td>\n",
              "      <td>0.451789</td>\n",
              "      <td>0.029397</td>\n",
              "      <td>0.85899</td>\n",
              "      <td>0.545721</td>\n",
              "      <td>0.667424</td>\n",
              "      <td>0.272044</td>\n",
              "      <td>38.429488</td>\n",
              "    </tr>\n",
              "  </tbody>\n",
              "</table>\n",
              "</div>"
            ],
            "text/plain": [
              "  model vectorizer       acc      hamm  ...    recall        F1    cosine        tps\n",
              "0   SGD        bow  0.451789  0.029397  ...  0.545721  0.667424  0.272044  38.429488\n",
              "\n",
              "[1 rows x 9 columns]"
            ]
          },
          "metadata": {
            "tags": []
          },
          "execution_count": 18
        }
      ]
    },
    {
      "cell_type": "code",
      "metadata": {
        "id": "_5Kc4NLyKAmN",
        "outputId": "236f56f4-6c4b-4ce6-c04f-f0ba11902423",
        "colab": {
          "base_uri": "https://localhost:8080/",
          "height": 378
        }
      },
      "source": [
        "# Train SGD with tfidf\n",
        "start = time.process_time()\n",
        "classifier = OneVsRestClassifier(SGDClassifier(loss='log', alpha=0.001, penalty='l1'))\n",
        "classifier.fit(X_train_tfidf, y_train_multi)\n",
        "predictions = classifier.predict(X_test_tfidf)\n",
        "\n",
        "\n",
        "res = print_metrics(y_test_multi, predictions)\n",
        "tps = time.process_time() - start\n",
        "print(\"Time taken to run this cell :\", tps)\n",
        "dico = {'model':'SGD',\n",
        "      'vectorizer':'tfidf',\n",
        "      'acc':res[0],\n",
        "      'hamm':res[1],\n",
        "      'precision':res[2],\n",
        "      'recall':res[3],\n",
        "      'F1':res[4],\n",
        "      'cosine':res[5],\n",
        "      'tps':tps}\n",
        "classifier_comparison = classifier_comparison.append(dico,ignore_index=True)\n",
        "classifier_comparison\n"
      ],
      "execution_count": 20,
      "outputs": [
        {
          "output_type": "stream",
          "text": [
            "Accuracy :0.318\n",
            "Hamming loss :0.03635\n",
            "\n",
            "Micro-averaged quality metrics :\n",
            "Precision :0.904\n",
            "Recall :0.366\n",
            "F1-score :0.521\n",
            "Cosine similarity : -0.136\n",
            "Time taken to run this cell : 32.303356313999984\n"
          ],
          "name": "stdout"
        },
        {
          "output_type": "execute_result",
          "data": {
            "text/html": [
              "<div>\n",
              "<style scoped>\n",
              "    .dataframe tbody tr th:only-of-type {\n",
              "        vertical-align: middle;\n",
              "    }\n",
              "\n",
              "    .dataframe tbody tr th {\n",
              "        vertical-align: top;\n",
              "    }\n",
              "\n",
              "    .dataframe thead th {\n",
              "        text-align: right;\n",
              "    }\n",
              "</style>\n",
              "<table border=\"1\" class=\"dataframe\">\n",
              "  <thead>\n",
              "    <tr style=\"text-align: right;\">\n",
              "      <th></th>\n",
              "      <th>model</th>\n",
              "      <th>vectorizer</th>\n",
              "      <th>acc</th>\n",
              "      <th>hamm</th>\n",
              "      <th>precision</th>\n",
              "      <th>recall</th>\n",
              "      <th>F1</th>\n",
              "      <th>cosine</th>\n",
              "      <th>tps</th>\n",
              "    </tr>\n",
              "  </thead>\n",
              "  <tbody>\n",
              "    <tr>\n",
              "      <th>0</th>\n",
              "      <td>SGD</td>\n",
              "      <td>bow</td>\n",
              "      <td>0.451789</td>\n",
              "      <td>0.029397</td>\n",
              "      <td>0.858990</td>\n",
              "      <td>0.545721</td>\n",
              "      <td>0.667424</td>\n",
              "      <td>0.272044</td>\n",
              "      <td>38.429488</td>\n",
              "    </tr>\n",
              "    <tr>\n",
              "      <th>1</th>\n",
              "      <td>RegLog</td>\n",
              "      <td>bow</td>\n",
              "      <td>0.512687</td>\n",
              "      <td>0.026722</td>\n",
              "      <td>0.821278</td>\n",
              "      <td>0.646259</td>\n",
              "      <td>0.723332</td>\n",
              "      <td>0.488656</td>\n",
              "      <td>177.660644</td>\n",
              "    </tr>\n",
              "    <tr>\n",
              "      <th>2</th>\n",
              "      <td>SGD</td>\n",
              "      <td>tfidf</td>\n",
              "      <td>0.318066</td>\n",
              "      <td>0.036354</td>\n",
              "      <td>0.904348</td>\n",
              "      <td>0.366161</td>\n",
              "      <td>0.521267</td>\n",
              "      <td>-0.136463</td>\n",
              "      <td>32.303356</td>\n",
              "    </tr>\n",
              "  </tbody>\n",
              "</table>\n",
              "</div>"
            ],
            "text/plain": [
              "    model vectorizer       acc  ...        F1    cosine         tps\n",
              "0     SGD        bow  0.451789  ...  0.667424  0.272044   38.429488\n",
              "1  RegLog        bow  0.512687  ...  0.723332  0.488656  177.660644\n",
              "2     SGD      tfidf  0.318066  ...  0.521267 -0.136463   32.303356\n",
              "\n",
              "[3 rows x 9 columns]"
            ]
          },
          "metadata": {
            "tags": []
          },
          "execution_count": 20
        }
      ]
    },
    {
      "cell_type": "code",
      "metadata": {
        "id": "DuYeeFGdGAJ_",
        "outputId": "1070454a-4390-4f11-911c-c03dc12a87ad",
        "colab": {
          "base_uri": "https://localhost:8080/",
          "height": 338
        }
      },
      "source": [
        "# Train RegLog with bow\n",
        "start = time.process_time()\n",
        "classifier = OneVsRestClassifier(LogisticRegression(max_iter = 1000))\n",
        "classifier.fit(X_train_bow, y_train_multi)\n",
        "predictions = classifier.predict(X_test_bow)\n",
        "\n",
        "\n",
        "res = print_metrics(y_test_multi, predictions)\n",
        "tps = time.process_time() - start\n",
        "print(\"Time taken to run this cell :\", tps)\n",
        "dico = {'model':'RegLog',\n",
        "      'vectorizer':'bow',\n",
        "      'acc':res[0],\n",
        "      'hamm':res[1],\n",
        "      'precision':res[2],\n",
        "      'recall':res[3],\n",
        "      'F1':res[4],\n",
        "      'cosine':res[5],\n",
        "      'tps':tps}\n",
        "classifier_comparison = classifier_comparison.append(dico,ignore_index=True)\n",
        "classifier_comparison"
      ],
      "execution_count": 19,
      "outputs": [
        {
          "output_type": "stream",
          "text": [
            "Accuracy :0.513\n",
            "Hamming loss :0.02672\n",
            "\n",
            "Micro-averaged quality metrics :\n",
            "Precision :0.821\n",
            "Recall :0.646\n",
            "F1-score :0.723\n",
            "Cosine similarity : 0.489\n",
            "Time taken to run this cell : 177.660643808\n"
          ],
          "name": "stdout"
        },
        {
          "output_type": "execute_result",
          "data": {
            "text/html": [
              "<div>\n",
              "<style scoped>\n",
              "    .dataframe tbody tr th:only-of-type {\n",
              "        vertical-align: middle;\n",
              "    }\n",
              "\n",
              "    .dataframe tbody tr th {\n",
              "        vertical-align: top;\n",
              "    }\n",
              "\n",
              "    .dataframe thead th {\n",
              "        text-align: right;\n",
              "    }\n",
              "</style>\n",
              "<table border=\"1\" class=\"dataframe\">\n",
              "  <thead>\n",
              "    <tr style=\"text-align: right;\">\n",
              "      <th></th>\n",
              "      <th>model</th>\n",
              "      <th>vectorizer</th>\n",
              "      <th>acc</th>\n",
              "      <th>hamm</th>\n",
              "      <th>precision</th>\n",
              "      <th>recall</th>\n",
              "      <th>F1</th>\n",
              "      <th>cosine</th>\n",
              "      <th>tps</th>\n",
              "    </tr>\n",
              "  </thead>\n",
              "  <tbody>\n",
              "    <tr>\n",
              "      <th>0</th>\n",
              "      <td>SGD</td>\n",
              "      <td>bow</td>\n",
              "      <td>0.451789</td>\n",
              "      <td>0.029397</td>\n",
              "      <td>0.858990</td>\n",
              "      <td>0.545721</td>\n",
              "      <td>0.667424</td>\n",
              "      <td>0.272044</td>\n",
              "      <td>38.429488</td>\n",
              "    </tr>\n",
              "    <tr>\n",
              "      <th>1</th>\n",
              "      <td>RegLog</td>\n",
              "      <td>bow</td>\n",
              "      <td>0.512687</td>\n",
              "      <td>0.026722</td>\n",
              "      <td>0.821278</td>\n",
              "      <td>0.646259</td>\n",
              "      <td>0.723332</td>\n",
              "      <td>0.488656</td>\n",
              "      <td>177.660644</td>\n",
              "    </tr>\n",
              "  </tbody>\n",
              "</table>\n",
              "</div>"
            ],
            "text/plain": [
              "    model vectorizer       acc  ...        F1    cosine         tps\n",
              "0     SGD        bow  0.451789  ...  0.667424  0.272044   38.429488\n",
              "1  RegLog        bow  0.512687  ...  0.723332  0.488656  177.660644\n",
              "\n",
              "[2 rows x 9 columns]"
            ]
          },
          "metadata": {
            "tags": []
          },
          "execution_count": 19
        }
      ]
    },
    {
      "cell_type": "code",
      "metadata": {
        "id": "bmq8RFiEKnyb",
        "outputId": "f8a9b8f7-ec0d-4076-a968-1b9a864507e8",
        "colab": {
          "base_uri": "https://localhost:8080/",
          "height": 418
        }
      },
      "source": [
        "# Train RegLog with tfidf\n",
        "start = time.process_time()\n",
        "classifier = OneVsRestClassifier(LogisticRegression(max_iter = 1000))\n",
        "classifier.fit(X_train_tfidf, y_train_multi)\n",
        "predictions = classifier.predict(X_test_tfidf)\n",
        "\n",
        "\n",
        "res = print_metrics(y_test_multi, predictions)\n",
        "tps = time.process_time() - start\n",
        "print(\"Time taken to run this cell :\", tps)\n",
        "dico = {'model':'RegLog',\n",
        "      'vectorizer':'tfidf',\n",
        "      'acc':res[0],\n",
        "      'hamm':res[1],\n",
        "      'precision':res[2],\n",
        "      'recall':res[3],\n",
        "      'F1':res[4],\n",
        "      'cosine':res[5],\n",
        "      'tps':tps}\n",
        "classifier_comparison = classifier_comparison.append(dico,ignore_index=True)\n",
        "classifier_comparison"
      ],
      "execution_count": 22,
      "outputs": [
        {
          "output_type": "stream",
          "text": [
            "Accuracy :0.494\n",
            "Hamming loss :0.02696\n",
            "\n",
            "Micro-averaged quality metrics :\n",
            "Precision :0.883\n",
            "Recall :0.578\n",
            "F1-score :0.699\n",
            "Cosine similarity : 0.339\n",
            "Time taken to run this cell : 116.28868398600002\n"
          ],
          "name": "stdout"
        },
        {
          "output_type": "execute_result",
          "data": {
            "text/html": [
              "<div>\n",
              "<style scoped>\n",
              "    .dataframe tbody tr th:only-of-type {\n",
              "        vertical-align: middle;\n",
              "    }\n",
              "\n",
              "    .dataframe tbody tr th {\n",
              "        vertical-align: top;\n",
              "    }\n",
              "\n",
              "    .dataframe thead th {\n",
              "        text-align: right;\n",
              "    }\n",
              "</style>\n",
              "<table border=\"1\" class=\"dataframe\">\n",
              "  <thead>\n",
              "    <tr style=\"text-align: right;\">\n",
              "      <th></th>\n",
              "      <th>model</th>\n",
              "      <th>vectorizer</th>\n",
              "      <th>acc</th>\n",
              "      <th>hamm</th>\n",
              "      <th>precision</th>\n",
              "      <th>recall</th>\n",
              "      <th>F1</th>\n",
              "      <th>cosine</th>\n",
              "      <th>tps</th>\n",
              "    </tr>\n",
              "  </thead>\n",
              "  <tbody>\n",
              "    <tr>\n",
              "      <th>0</th>\n",
              "      <td>SGD</td>\n",
              "      <td>bow</td>\n",
              "      <td>0.451789</td>\n",
              "      <td>0.029397</td>\n",
              "      <td>0.858990</td>\n",
              "      <td>0.545721</td>\n",
              "      <td>0.667424</td>\n",
              "      <td>0.272044</td>\n",
              "      <td>38.429488</td>\n",
              "    </tr>\n",
              "    <tr>\n",
              "      <th>1</th>\n",
              "      <td>RegLog</td>\n",
              "      <td>bow</td>\n",
              "      <td>0.512687</td>\n",
              "      <td>0.026722</td>\n",
              "      <td>0.821278</td>\n",
              "      <td>0.646259</td>\n",
              "      <td>0.723332</td>\n",
              "      <td>0.488656</td>\n",
              "      <td>177.660644</td>\n",
              "    </tr>\n",
              "    <tr>\n",
              "      <th>2</th>\n",
              "      <td>SGD</td>\n",
              "      <td>tfidf</td>\n",
              "      <td>0.318066</td>\n",
              "      <td>0.036354</td>\n",
              "      <td>0.904348</td>\n",
              "      <td>0.366161</td>\n",
              "      <td>0.521267</td>\n",
              "      <td>-0.136463</td>\n",
              "      <td>32.303356</td>\n",
              "    </tr>\n",
              "    <tr>\n",
              "      <th>3</th>\n",
              "      <td>RegLog</td>\n",
              "      <td>tfidf</td>\n",
              "      <td>0.493783</td>\n",
              "      <td>0.026960</td>\n",
              "      <td>0.882634</td>\n",
              "      <td>0.578093</td>\n",
              "      <td>0.698617</td>\n",
              "      <td>0.338966</td>\n",
              "      <td>116.288684</td>\n",
              "    </tr>\n",
              "  </tbody>\n",
              "</table>\n",
              "</div>"
            ],
            "text/plain": [
              "    model vectorizer       acc  ...        F1    cosine         tps\n",
              "0     SGD        bow  0.451789  ...  0.667424  0.272044   38.429488\n",
              "1  RegLog        bow  0.512687  ...  0.723332  0.488656  177.660644\n",
              "2     SGD      tfidf  0.318066  ...  0.521267 -0.136463   32.303356\n",
              "3  RegLog      tfidf  0.493783  ...  0.698617  0.338966  116.288684\n",
              "\n",
              "[4 rows x 9 columns]"
            ]
          },
          "metadata": {
            "tags": []
          },
          "execution_count": 22
        }
      ]
    },
    {
      "cell_type": "code",
      "metadata": {
        "id": "fiFAP3B0LI2I"
      },
      "source": [
        "classifier_comparison.to_csv(input_dir+name)"
      ],
      "execution_count": 23,
      "outputs": []
    },
    {
      "cell_type": "code",
      "metadata": {
        "id": "ZG225B2cGAKA",
        "outputId": "f7265fad-5d51-4534-8e83-5e91e5758347",
        "colab": {
          "base_uri": "https://localhost:8080/",
          "height": 458
        }
      },
      "source": [
        "# Train RandomForest with bow\n",
        "start = time.process_time()\n",
        "classifier = OneVsRestClassifier(RandomForestClassifier(random_state=42))\n",
        "classifier.fit(X_train_bow, y_train_multi)\n",
        "predictions = classifier.predict(X_test_bow)\n",
        "\n",
        "\n",
        "res = print_metrics(y_test_multi, predictions)\n",
        "tps = time.process_time() - start\n",
        "print(\"Time taken to run this cell :\", tps)\n",
        "dico = {'model':'RF',\n",
        "      'vectorizer':'bow',\n",
        "      'acc':res[0],\n",
        "      'hamm':res[1],\n",
        "      'precision':res[2],\n",
        "      'recall':res[3],\n",
        "      'F1':res[4],\n",
        "      'cosine':res[5],\n",
        "      'tps':tps}\n",
        "classifier_comparison = classifier_comparison.append(dico,ignore_index=True)\n",
        "classifier_comparison"
      ],
      "execution_count": 24,
      "outputs": [
        {
          "output_type": "stream",
          "text": [
            "Accuracy :0.487\n",
            "Hamming loss :0.02744\n",
            "\n",
            "Micro-averaged quality metrics :\n",
            "Precision :0.901\n",
            "Recall :0.553\n",
            "F1-score :0.685\n",
            "Cosine similarity : 0.325\n",
            "Time taken to run this cell : 493.97019612\n"
          ],
          "name": "stdout"
        },
        {
          "output_type": "execute_result",
          "data": {
            "text/html": [
              "<div>\n",
              "<style scoped>\n",
              "    .dataframe tbody tr th:only-of-type {\n",
              "        vertical-align: middle;\n",
              "    }\n",
              "\n",
              "    .dataframe tbody tr th {\n",
              "        vertical-align: top;\n",
              "    }\n",
              "\n",
              "    .dataframe thead th {\n",
              "        text-align: right;\n",
              "    }\n",
              "</style>\n",
              "<table border=\"1\" class=\"dataframe\">\n",
              "  <thead>\n",
              "    <tr style=\"text-align: right;\">\n",
              "      <th></th>\n",
              "      <th>model</th>\n",
              "      <th>vectorizer</th>\n",
              "      <th>acc</th>\n",
              "      <th>hamm</th>\n",
              "      <th>precision</th>\n",
              "      <th>recall</th>\n",
              "      <th>F1</th>\n",
              "      <th>cosine</th>\n",
              "      <th>tps</th>\n",
              "    </tr>\n",
              "  </thead>\n",
              "  <tbody>\n",
              "    <tr>\n",
              "      <th>0</th>\n",
              "      <td>SGD</td>\n",
              "      <td>bow</td>\n",
              "      <td>0.451789</td>\n",
              "      <td>0.029397</td>\n",
              "      <td>0.858990</td>\n",
              "      <td>0.545721</td>\n",
              "      <td>0.667424</td>\n",
              "      <td>0.272044</td>\n",
              "      <td>38.429488</td>\n",
              "    </tr>\n",
              "    <tr>\n",
              "      <th>1</th>\n",
              "      <td>RegLog</td>\n",
              "      <td>bow</td>\n",
              "      <td>0.512687</td>\n",
              "      <td>0.026722</td>\n",
              "      <td>0.821278</td>\n",
              "      <td>0.646259</td>\n",
              "      <td>0.723332</td>\n",
              "      <td>0.488656</td>\n",
              "      <td>177.660644</td>\n",
              "    </tr>\n",
              "    <tr>\n",
              "      <th>2</th>\n",
              "      <td>SGD</td>\n",
              "      <td>tfidf</td>\n",
              "      <td>0.318066</td>\n",
              "      <td>0.036354</td>\n",
              "      <td>0.904348</td>\n",
              "      <td>0.366161</td>\n",
              "      <td>0.521267</td>\n",
              "      <td>-0.136463</td>\n",
              "      <td>32.303356</td>\n",
              "    </tr>\n",
              "    <tr>\n",
              "      <th>3</th>\n",
              "      <td>RegLog</td>\n",
              "      <td>tfidf</td>\n",
              "      <td>0.493783</td>\n",
              "      <td>0.026960</td>\n",
              "      <td>0.882634</td>\n",
              "      <td>0.578093</td>\n",
              "      <td>0.698617</td>\n",
              "      <td>0.338966</td>\n",
              "      <td>116.288684</td>\n",
              "    </tr>\n",
              "    <tr>\n",
              "      <th>4</th>\n",
              "      <td>RF</td>\n",
              "      <td>bow</td>\n",
              "      <td>0.486679</td>\n",
              "      <td>0.027441</td>\n",
              "      <td>0.900796</td>\n",
              "      <td>0.553252</td>\n",
              "      <td>0.685489</td>\n",
              "      <td>0.325105</td>\n",
              "      <td>493.970196</td>\n",
              "    </tr>\n",
              "  </tbody>\n",
              "</table>\n",
              "</div>"
            ],
            "text/plain": [
              "    model vectorizer       acc  ...        F1    cosine         tps\n",
              "0     SGD        bow  0.451789  ...  0.667424  0.272044   38.429488\n",
              "1  RegLog        bow  0.512687  ...  0.723332  0.488656  177.660644\n",
              "2     SGD      tfidf  0.318066  ...  0.521267 -0.136463   32.303356\n",
              "3  RegLog      tfidf  0.493783  ...  0.698617  0.338966  116.288684\n",
              "4      RF        bow  0.486679  ...  0.685489  0.325105  493.970196\n",
              "\n",
              "[5 rows x 9 columns]"
            ]
          },
          "metadata": {
            "tags": []
          },
          "execution_count": 24
        }
      ]
    },
    {
      "cell_type": "code",
      "metadata": {
        "id": "IAL6FsXOLC6x",
        "outputId": "631d6824-a292-4da6-fbbc-1f1f2710389b",
        "colab": {
          "base_uri": "https://localhost:8080/",
          "height": 498
        }
      },
      "source": [
        "# Train RandomForest with tfidf\n",
        "start = time.process_time()\n",
        "classifier = OneVsRestClassifier(RandomForestClassifier(random_state=42))\n",
        "classifier.fit(X_train_tfidf, y_train_multi)\n",
        "predictions = classifier.predict(X_test_tfidf)\n",
        "\n",
        "\n",
        "res = print_metrics(y_test_multi, predictions)\n",
        "tps = time.process_time() - start\n",
        "print(\"Time taken to run this cell :\", tps)\n",
        "dico = {'model':'RF',\n",
        "      'vectorizer':'tfidf',\n",
        "      'acc':res[0],\n",
        "      'hamm':res[1],\n",
        "      'precision':res[2],\n",
        "      'recall':res[3],\n",
        "      'F1':res[4],\n",
        "      'cosine':res[5],\n",
        "      'tps':tps}\n",
        "classifier_comparison = classifier_comparison.append(dico,ignore_index=True)\n",
        "classifier_comparison"
      ],
      "execution_count": 25,
      "outputs": [
        {
          "output_type": "stream",
          "text": [
            "Accuracy :0.515\n",
            "Hamming loss :0.02582\n",
            "\n",
            "Micro-averaged quality metrics :\n",
            "Precision :0.903\n",
            "Recall :0.585\n",
            "F1-score :0.71\n",
            "Cosine similarity : 0.38\n",
            "Time taken to run this cell : 1099.6840743859998\n"
          ],
          "name": "stdout"
        },
        {
          "output_type": "execute_result",
          "data": {
            "text/html": [
              "<div>\n",
              "<style scoped>\n",
              "    .dataframe tbody tr th:only-of-type {\n",
              "        vertical-align: middle;\n",
              "    }\n",
              "\n",
              "    .dataframe tbody tr th {\n",
              "        vertical-align: top;\n",
              "    }\n",
              "\n",
              "    .dataframe thead th {\n",
              "        text-align: right;\n",
              "    }\n",
              "</style>\n",
              "<table border=\"1\" class=\"dataframe\">\n",
              "  <thead>\n",
              "    <tr style=\"text-align: right;\">\n",
              "      <th></th>\n",
              "      <th>model</th>\n",
              "      <th>vectorizer</th>\n",
              "      <th>acc</th>\n",
              "      <th>hamm</th>\n",
              "      <th>precision</th>\n",
              "      <th>recall</th>\n",
              "      <th>F1</th>\n",
              "      <th>cosine</th>\n",
              "      <th>tps</th>\n",
              "    </tr>\n",
              "  </thead>\n",
              "  <tbody>\n",
              "    <tr>\n",
              "      <th>0</th>\n",
              "      <td>SGD</td>\n",
              "      <td>bow</td>\n",
              "      <td>0.451789</td>\n",
              "      <td>0.029397</td>\n",
              "      <td>0.858990</td>\n",
              "      <td>0.545721</td>\n",
              "      <td>0.667424</td>\n",
              "      <td>0.272044</td>\n",
              "      <td>38.429488</td>\n",
              "    </tr>\n",
              "    <tr>\n",
              "      <th>1</th>\n",
              "      <td>RegLog</td>\n",
              "      <td>bow</td>\n",
              "      <td>0.512687</td>\n",
              "      <td>0.026722</td>\n",
              "      <td>0.821278</td>\n",
              "      <td>0.646259</td>\n",
              "      <td>0.723332</td>\n",
              "      <td>0.488656</td>\n",
              "      <td>177.660644</td>\n",
              "    </tr>\n",
              "    <tr>\n",
              "      <th>2</th>\n",
              "      <td>SGD</td>\n",
              "      <td>tfidf</td>\n",
              "      <td>0.318066</td>\n",
              "      <td>0.036354</td>\n",
              "      <td>0.904348</td>\n",
              "      <td>0.366161</td>\n",
              "      <td>0.521267</td>\n",
              "      <td>-0.136463</td>\n",
              "      <td>32.303356</td>\n",
              "    </tr>\n",
              "    <tr>\n",
              "      <th>3</th>\n",
              "      <td>RegLog</td>\n",
              "      <td>tfidf</td>\n",
              "      <td>0.493783</td>\n",
              "      <td>0.026960</td>\n",
              "      <td>0.882634</td>\n",
              "      <td>0.578093</td>\n",
              "      <td>0.698617</td>\n",
              "      <td>0.338966</td>\n",
              "      <td>116.288684</td>\n",
              "    </tr>\n",
              "    <tr>\n",
              "      <th>4</th>\n",
              "      <td>RF</td>\n",
              "      <td>bow</td>\n",
              "      <td>0.486679</td>\n",
              "      <td>0.027441</td>\n",
              "      <td>0.900796</td>\n",
              "      <td>0.553252</td>\n",
              "      <td>0.685489</td>\n",
              "      <td>0.325105</td>\n",
              "      <td>493.970196</td>\n",
              "    </tr>\n",
              "    <tr>\n",
              "      <th>5</th>\n",
              "      <td>RF</td>\n",
              "      <td>tfidf</td>\n",
              "      <td>0.515478</td>\n",
              "      <td>0.025818</td>\n",
              "      <td>0.903094</td>\n",
              "      <td>0.585134</td>\n",
              "      <td>0.710148</td>\n",
              "      <td>0.380185</td>\n",
              "      <td>1099.684074</td>\n",
              "    </tr>\n",
              "  </tbody>\n",
              "</table>\n",
              "</div>"
            ],
            "text/plain": [
              "    model vectorizer       acc  ...        F1    cosine          tps\n",
              "0     SGD        bow  0.451789  ...  0.667424  0.272044    38.429488\n",
              "1  RegLog        bow  0.512687  ...  0.723332  0.488656   177.660644\n",
              "2     SGD      tfidf  0.318066  ...  0.521267 -0.136463    32.303356\n",
              "3  RegLog      tfidf  0.493783  ...  0.698617  0.338966   116.288684\n",
              "4      RF        bow  0.486679  ...  0.685489  0.325105   493.970196\n",
              "5      RF      tfidf  0.515478  ...  0.710148  0.380185  1099.684074\n",
              "\n",
              "[6 rows x 9 columns]"
            ]
          },
          "metadata": {
            "tags": []
          },
          "execution_count": 25
        }
      ]
    },
    {
      "cell_type": "code",
      "metadata": {
        "id": "rQ5Odt4NN2qd"
      },
      "source": [
        "classifier_comparison.to_csv(input_dir+name)"
      ],
      "execution_count": 26,
      "outputs": []
    },
    {
      "cell_type": "code",
      "metadata": {
        "id": "f-enIo84GAKB",
        "outputId": "1315ef3b-5e9e-487b-9461-8d4bd0383024",
        "colab": {
          "base_uri": "https://localhost:8080/",
          "height": 290
        }
      },
      "source": [
        "start = time.process_time()\n",
        "classifier = OneVsRestClassifier(xgboost.XGBClassifier(random_state=42))\n",
        "classifier.fit(X_train_bow, y_train_multi)\n",
        "predictions = classifier.predict(X_test_bow)\n",
        "\n",
        "\n",
        "res = print_metrics(y_test_multi, predictions)\n",
        "tps = time.process_time() - start\n",
        "print(\"Time taken to run this cell :\", tps)\n",
        "dico = {'model':'xgboost',\n",
        "      'vectorizer':'bow',\n",
        "      'acc':res[0],\n",
        "      'hamm':res[1],\n",
        "      'precision':res[2],\n",
        "      'recall':res[3],\n",
        "      'F1':res[4],\n",
        "      'cosine':res[5],\n",
        "      'tps':tps}\n",
        "classifier_comparison = classifier_comparison.append(dico,ignore_index=True)\n",
        "classifier_comparison"
      ],
      "execution_count": 17,
      "outputs": [
        {
          "output_type": "error",
          "ename": "NameError",
          "evalue": "ignored",
          "traceback": [
            "\u001b[0;31m---------------------------------------------------------------------------\u001b[0m",
            "\u001b[0;31mNameError\u001b[0m                                 Traceback (most recent call last)",
            "\u001b[0;32m<ipython-input-17-a3d1bf6295c6>\u001b[0m in \u001b[0;36m<module>\u001b[0;34m()\u001b[0m\n\u001b[1;32m      1\u001b[0m \u001b[0mstart\u001b[0m \u001b[0;34m=\u001b[0m \u001b[0mtime\u001b[0m\u001b[0;34m.\u001b[0m\u001b[0mprocess_time\u001b[0m\u001b[0;34m(\u001b[0m\u001b[0;34m)\u001b[0m\u001b[0;34m\u001b[0m\u001b[0;34m\u001b[0m\u001b[0m\n\u001b[0;32m----> 2\u001b[0;31m \u001b[0mclassifier\u001b[0m \u001b[0;34m=\u001b[0m \u001b[0mOneVsRestClassifier\u001b[0m\u001b[0;34m(\u001b[0m\u001b[0mxgboost\u001b[0m\u001b[0;34m.\u001b[0m\u001b[0mXGBClassifier\u001b[0m\u001b[0;34m(\u001b[0m\u001b[0mrandom_state\u001b[0m\u001b[0;34m=\u001b[0m\u001b[0;36m42\u001b[0m\u001b[0;34m)\u001b[0m\u001b[0;34m)\u001b[0m\u001b[0;34m\u001b[0m\u001b[0;34m\u001b[0m\u001b[0m\n\u001b[0m\u001b[1;32m      3\u001b[0m \u001b[0mclassifier\u001b[0m\u001b[0;34m.\u001b[0m\u001b[0mfit\u001b[0m\u001b[0;34m(\u001b[0m\u001b[0mX_train_bow\u001b[0m\u001b[0;34m,\u001b[0m \u001b[0my_train_multi\u001b[0m\u001b[0;34m)\u001b[0m\u001b[0;34m\u001b[0m\u001b[0;34m\u001b[0m\u001b[0m\n\u001b[1;32m      4\u001b[0m \u001b[0mpredictions\u001b[0m \u001b[0;34m=\u001b[0m \u001b[0mclassifier\u001b[0m\u001b[0;34m.\u001b[0m\u001b[0mpredict\u001b[0m\u001b[0;34m(\u001b[0m\u001b[0mX_test_bow\u001b[0m\u001b[0;34m)\u001b[0m\u001b[0;34m\u001b[0m\u001b[0;34m\u001b[0m\u001b[0m\n\u001b[1;32m      5\u001b[0m \u001b[0;34m\u001b[0m\u001b[0m\n",
            "\u001b[0;31mNameError\u001b[0m: name 'OneVsRestClassifier' is not defined"
          ]
        }
      ]
    },
    {
      "cell_type": "markdown",
      "metadata": {
        "id": "8krqBdXVGAKD"
      },
      "source": [
        "## Lets create a function that is able to predict tags directly from a new sentence or a title/body pairs"
      ]
    },
    {
      "cell_type": "code",
      "metadata": {
        "id": "82tBvjS3GAKD"
      },
      "source": [
        "pos_from_tag = lambda tag: ('a' if tag[0].lower() == 'j' else tag[0].lower()) if tag[0].lower() in ['n', 'r', 'v'] else 'n'\n",
        "\n",
        "def handle_body(text, \n",
        "                #tokenizer = nltk.RegexpTokenizer(r'\\w+'), \n",
        "                stop_words = nltk.corpus.stopwords.words(\"english\"), \n",
        "                lemmatizer = nltk.stem.WordNetLemmatizer()  ):\n",
        "    \n",
        "    POS_to_rm = ['RB','RBR','RBS','JJ','JJR','JJS','CD'] #Removing adverbs and adjectives and digits\n",
        "    stop_words += ['.','€','$','?','\\'s',',',':',';','=','+','-']  \n",
        "    \n",
        "    soup = BeautifulSoup(text, 'html.parser')\n",
        "    tokens = nltk.word_tokenize( soup.get_text().lower() )\n",
        "    \n",
        "    tokens = [re.sub('[.,?!)()<>:;\\ \\\"\\'\\]\\[+-=\\{\\}\\|^*@&`’]','',token).replace('\\\\','').replace('?','') for token in tokens]\n",
        "    tokens = [token for token in tokens if token != '']\n",
        "    tags = nltk.pos_tag(tokens)\n",
        "\n",
        "    tokens = [ tokens[i] for i in range(len(tokens)) if ( (not tokens[i] in stop_words) and (not tags[i][1] in POS_to_rm ) )]\n",
        "    \n",
        "    tags = nltk.pos_tag(tokens)\n",
        "    \n",
        "    result = [lemmatizer.lemmatize(tokens[i], pos=pos_from_tag(tags[i][1])) for i in range(len(tokens))]\n",
        "    \n",
        "    return result \n",
        "\n",
        "def handle_title(text,\n",
        "                 stop_words = nltk.corpus.stopwords.words(\"english\"), \n",
        "                 lemmatizer = nltk.stem.WordNetLemmatizer()  ): \n",
        "    \n",
        "    POS_to_rm = ['RB','RBR','RBS','JJ','JJR','JJS'] #Removing adverbs and adjectives\n",
        "    stop_words += ['.','€','$','?','\\'s',',',':',';','=','+','-']  \n",
        "    \n",
        "    tokens = re.split(' ', text.lower())\n",
        "    tokens = [re.sub('[.,?!)()<>:;\\ \\\"\\'\\]\\[+-=\\{\\}\\|^*@&`’]','',token).replace('\\\\','').replace('?','') for token in tokens]\n",
        "\n",
        "    tokens = [token for token in tokens if token != '']\n",
        "    tags = nltk.pos_tag(tokens)\n",
        "    \n",
        "    tokens = [ tokens[i] for i in range(len(tokens)) if ( (not tokens[i] in stop_words) and (not tags[i][1] in POS_to_rm ) )]\n",
        "    \n",
        "    tags = nltk.pos_tag(tokens)\n",
        "    \n",
        "    result = [lemmatizer.lemmatize(tokens[i], pos=pos_from_tag(tags[i][1])) for i in range(len(tokens))]\n",
        "    \n",
        "    return result \n",
        "\n",
        "def preprocess_text(body, title = None):\n",
        "    body = handle_body(body)\n",
        "    if title :\n",
        "        title = handle_title(title)\n",
        "        body = title + title + body\n",
        "    return body\n",
        "\n",
        "\n",
        "def predict_new_sentence(text, vectorizer, model, all_tags, title = None):\n",
        "    all_tags = np.array(all_tags)\n",
        "    text = np.array(preprocess_text(text, title=title)).reshape(1, -1)\n",
        "    text = vectorizer.transform(text)\n",
        "    pred = model.predict(text)\n",
        "    \n",
        "    assert pred[0].shape == all_tags.shape, 'the passed tags doesnot have same shape as model output'\n",
        "    idx = [idx for idx in range(len(all_tags)) if pred[0][idx]==1]\n",
        "    return all_tags[idx]\n"
      ],
      "execution_count": null,
      "outputs": []
    },
    {
      "cell_type": "code",
      "metadata": {
        "id": "NRaHZEUiGAKE",
        "outputId": "51a2fc04-550a-49a4-d081-dd8bad135a57"
      },
      "source": [
        "text = 'Hi, my name is Jack and I love potatoes'\n",
        "title = 'c++'\n",
        "predict_new_sentence(text, bow_vectorizer, classifier, unique_tags, title=title )"
      ],
      "execution_count": null,
      "outputs": [
        {
          "output_type": "execute_result",
          "data": {
            "text/plain": [
              "array([], dtype=object)"
            ]
          },
          "metadata": {
            "tags": []
          },
          "execution_count": 180
        }
      ]
    },
    {
      "cell_type": "code",
      "metadata": {
        "id": "xaG6ikJBGAKF",
        "outputId": "c6b98116-63da-4af6-c08c-c160e6e0d0ec"
      },
      "source": [
        "unique_tags"
      ],
      "execution_count": null,
      "outputs": [
        {
          "output_type": "execute_result",
          "data": {
            "text/plain": [
              "array(['.net', 'android', 'arrays', 'asp.net', 'bash', 'c', 'c#', 'css',\n",
              "       'git', 'html', 'iphone', 'java', 'javascript', 'jquery', 'linux',\n",
              "       'mysql', 'objectivec', 'php', 'python', 'regex', 'sql',\n",
              "       'sqlserver', 'string', 'windows'], dtype=object)"
            ]
          },
          "metadata": {
            "tags": []
          },
          "execution_count": 67
        }
      ]
    },
    {
      "cell_type": "code",
      "metadata": {
        "id": "dungkO-oGAKF",
        "outputId": "edc6a557-8431-491d-a7bd-d2477695de14"
      },
      "source": [
        "from sklearn.preprocessing import MultiLabelBinarizer\n",
        "mlb = MultiLabelBinarizer()\n",
        "test = mlb.fit_transform(y_train_tags)\n",
        "test[0]"
      ],
      "execution_count": null,
      "outputs": [
        {
          "output_type": "execute_result",
          "data": {
            "text/plain": [
              "array([0, 0, 0, 0, 0, 0, 1, 0, 0, 0, 0, 0, 0, 0, 0, 0, 0, 0, 0, 0, 0, 1,\n",
              "       0, 0])"
            ]
          },
          "metadata": {
            "tags": []
          },
          "execution_count": 82
        }
      ]
    },
    {
      "cell_type": "code",
      "metadata": {
        "id": "7mB9I-g4GAKG",
        "outputId": "fc79ff28-7b7b-428a-f1d3-7610b567f417"
      },
      "source": [
        "y_train_tags"
      ],
      "execution_count": null,
      "outputs": [
        {
          "output_type": "execute_result",
          "data": {
            "text/plain": [
              "5770          [c#, sqlserver]\n",
              "36859            [javascript]\n",
              "13756             [html, css]\n",
              "10742    [javascript, arrays]\n",
              "22065                  [java]\n",
              "                 ...         \n",
              "6265                 [iphone]\n",
              "11284             [sqlserver]\n",
              "38158        [sql, sqlserver]\n",
              "860             [c#, asp.net]\n",
              "15795                [python]\n",
              "Name: Tags, Length: 31527, dtype: object"
            ]
          },
          "metadata": {
            "tags": []
          },
          "execution_count": 83
        }
      ]
    },
    {
      "cell_type": "code",
      "metadata": {
        "id": "6IwoIbJIGAKG"
      },
      "source": [
        ""
      ],
      "execution_count": null,
      "outputs": []
    }
  ]
}