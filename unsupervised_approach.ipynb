{
 "cells": [
  {
   "cell_type": "markdown",
   "metadata": {},
   "source": [
    "# This notebook's aim is to transform the pre-processed documents into vectors and do an unsupervised analysis\n",
    "\n",
    "[![Open In Colab](https://colab.research.google.com/assets/colab-badge.svg)](https://colab.research.google.com/github/Jeremynadal33/adventofcode2020/blob/master/adventofcode2020.ipynb)\n",
    "\n",
    "## Here, are compared two unsupervised methods : LDA and NMF\n",
    "## We will compare the results for two different vectorization methods : Bag of Word and Tfidf\n",
    "First, import the relevant libraries : "
   ]
  },
  {
   "cell_type": "code",
   "execution_count": 1,
   "metadata": {},
   "outputs": [],
   "source": [
    "import pandas as pd\n",
    "import numpy as np\n",
    "import matplotlib.pyplot as plt\n",
    "import seaborn as sns\n",
    "\n",
    "import os\n",
    "import re\n",
    "import time\n",
    "\n",
    "## My script : \n",
    "from function import *"
   ]
  },
  {
   "cell_type": "code",
   "execution_count": 8,
   "metadata": {},
   "outputs": [],
   "source": [
    "# Specific libraries : \n",
    "import nltk\n",
    "from sklearn.feature_extraction.text import CountVectorizer # BoW\n",
    "from sklearn.feature_extraction.text import TfidfVectorizer # Tfidf"
   ]
  },
  {
   "cell_type": "code",
   "execution_count": 3,
   "metadata": {},
   "outputs": [],
   "source": [
    "root_dir = '/Users/jeremynadal/Documents/Formation OC IML/P5-API/'\n",
    "input_dir = root_dir + 'inputs/'\n",
    "png_dir = root_dir + 'pngs/'"
   ]
  },
  {
   "cell_type": "code",
   "execution_count": 5,
   "metadata": {},
   "outputs": [
    {
     "name": "stdout",
     "output_type": "stream",
     "text": [
      "example_posts.csv     posts.csv             processed_dataset.csv\r\n"
     ]
    }
   ],
   "source": [
    "!ls inputs"
   ]
  },
  {
   "cell_type": "code",
   "execution_count": 7,
   "metadata": {},
   "outputs": [
    {
     "name": "stdout",
     "output_type": "stream",
     "text": [
      "(39409, 5)\n",
      "Tags              object\n",
      "Title             object\n",
      "Body              object\n",
      "nb_tags            int64\n",
      "processed_text    object\n",
      "dtype: object\n"
     ]
    },
    {
     "data": {
      "text/html": [
       "<div>\n",
       "<style scoped>\n",
       "    .dataframe tbody tr th:only-of-type {\n",
       "        vertical-align: middle;\n",
       "    }\n",
       "\n",
       "    .dataframe tbody tr th {\n",
       "        vertical-align: top;\n",
       "    }\n",
       "\n",
       "    .dataframe thead th {\n",
       "        text-align: right;\n",
       "    }\n",
       "</style>\n",
       "<table border=\"1\" class=\"dataframe\">\n",
       "  <thead>\n",
       "    <tr style=\"text-align: right;\">\n",
       "      <th></th>\n",
       "      <th>Tags</th>\n",
       "      <th>Title</th>\n",
       "      <th>Body</th>\n",
       "      <th>nb_tags</th>\n",
       "      <th>processed_text</th>\n",
       "    </tr>\n",
       "  </thead>\n",
       "  <tbody>\n",
       "    <tr>\n",
       "      <th>0</th>\n",
       "      <td>['c#']</td>\n",
       "      <td>How to convert decimal to double in C#</td>\n",
       "      <td>&lt;p&gt;I want to use a &lt;code&gt;Track-Bar&lt;/code&gt; to c...</td>\n",
       "      <td>1</td>\n",
       "      <td>['convert', 'double', 'c#', 'convert', 'double...</td>\n",
       "    </tr>\n",
       "    <tr>\n",
       "      <th>1</th>\n",
       "      <td>['c#', '.net']</td>\n",
       "      <td>In C#, how do I calculate someone's age based ...</td>\n",
       "      <td>&lt;p&gt;Given a &lt;code&gt;DateTime&lt;/code&gt; representing ...</td>\n",
       "      <td>2</td>\n",
       "      <td>['c#', 'calculate', 'age', 'base', 'datetime',...</td>\n",
       "    </tr>\n",
       "    <tr>\n",
       "      <th>2</th>\n",
       "      <td>['c#']</td>\n",
       "      <td>Calculate relative time in C#</td>\n",
       "      <td>&lt;p&gt;Given a specific &lt;code&gt;DateTime&lt;/code&gt; valu...</td>\n",
       "      <td>1</td>\n",
       "      <td>['calculate', 'time', 'c#', 'calculate', 'time...</td>\n",
       "    </tr>\n",
       "    <tr>\n",
       "      <th>3</th>\n",
       "      <td>['html']</td>\n",
       "      <td>Determine a user's timezone</td>\n",
       "      <td>&lt;p&gt;Is there a standard way for a web server to...</td>\n",
       "      <td>1</td>\n",
       "      <td>['determine', 'timezone', 'determine', 'timezo...</td>\n",
       "    </tr>\n",
       "    <tr>\n",
       "      <th>4</th>\n",
       "      <td>['.net']</td>\n",
       "      <td>Difference between Math.Floor() and Math.Trunc...</td>\n",
       "      <td>&lt;p&gt;What is the difference between &lt;a href=\"htt...</td>\n",
       "      <td>1</td>\n",
       "      <td>['difference', 'mathfloor', 'mathtruncate', 'd...</td>\n",
       "    </tr>\n",
       "  </tbody>\n",
       "</table>\n",
       "</div>"
      ],
      "text/plain": [
       "             Tags                                              Title  \\\n",
       "0          ['c#']             How to convert decimal to double in C#   \n",
       "1  ['c#', '.net']  In C#, how do I calculate someone's age based ...   \n",
       "2          ['c#']                      Calculate relative time in C#   \n",
       "3        ['html']                        Determine a user's timezone   \n",
       "4        ['.net']  Difference between Math.Floor() and Math.Trunc...   \n",
       "\n",
       "                                                Body  nb_tags  \\\n",
       "0  <p>I want to use a <code>Track-Bar</code> to c...        1   \n",
       "1  <p>Given a <code>DateTime</code> representing ...        2   \n",
       "2  <p>Given a specific <code>DateTime</code> valu...        1   \n",
       "3  <p>Is there a standard way for a web server to...        1   \n",
       "4  <p>What is the difference between <a href=\"htt...        1   \n",
       "\n",
       "                                      processed_text  \n",
       "0  ['convert', 'double', 'c#', 'convert', 'double...  \n",
       "1  ['c#', 'calculate', 'age', 'base', 'datetime',...  \n",
       "2  ['calculate', 'time', 'c#', 'calculate', 'time...  \n",
       "3  ['determine', 'timezone', 'determine', 'timezo...  \n",
       "4  ['difference', 'mathfloor', 'mathtruncate', 'd...  "
      ]
     },
     "execution_count": 7,
     "metadata": {},
     "output_type": "execute_result"
    }
   ],
   "source": [
    "data = pd.read_csv(input_dir+'processed_dataset.csv')\n",
    "\n",
    "print(data.shape)\n",
    "print(data.dtypes)\n",
    "data.head()"
   ]
  },
  {
   "cell_type": "markdown",
   "metadata": {},
   "source": [
    "# To begin with, we will intend the method on only a part of the data because the algorithms are supposed to be time-exhaustive "
   ]
  },
  {
   "cell_type": "code",
   "execution_count": 9,
   "metadata": {},
   "outputs": [],
   "source": [
    "data = data[:1000]"
   ]
  },
  {
   "cell_type": "code",
   "execution_count": 51,
   "metadata": {},
   "outputs": [],
   "source": [
    "def get_all_tags(data):\n",
    "    res = []\n",
    "    for i in range(data.shape[0]):\n",
    "        for j in range(data['nb_tags'][i]):\n",
    "            res.append(re.sub('[\\[\\]\\' ]','',data['Tags'][i].split(',')[j]))\n",
    "\n",
    "    return pd.Series(res)\n",
    "\n",
    "tags = get_all_tags(data)"
   ]
  },
  {
   "cell_type": "code",
   "execution_count": 52,
   "metadata": {},
   "outputs": [
    {
     "data": {
      "text/plain": [
       "0            c#\n",
       "1            c#\n",
       "2          .net\n",
       "3            c#\n",
       "4          html\n",
       "         ...   \n",
       "1344         c#\n",
       "1345       .net\n",
       "1346    windows\n",
       "1347     python\n",
       "1348     python\n",
       "Length: 1349, dtype: object"
      ]
     },
     "execution_count": 52,
     "metadata": {},
     "output_type": "execute_result"
    }
   ],
   "source": [
    "tags"
   ]
  },
  {
   "cell_type": "code",
   "execution_count": 53,
   "metadata": {},
   "outputs": [
    {
     "data": {
      "image/png": "[encoded data removed]",
      "text/plain": [
       "<Figure size 432x288 with 1 Axes>"
      ]
     },
     "metadata": {
      "needs_background": "light"
     },
     "output_type": "display_data"
    }
   ],
   "source": [
    "pd.Series(tags).value_counts(normalize=False)[:25].plot(kind = 'bar')\n",
    "plt.xlabel('Tags')\n",
    "plt.ylabel('Counts')\n",
    "plt.show()"
   ]
  },
  {
   "cell_type": "markdown",
   "metadata": {},
   "source": [
    "## Lets start by getting the different vectors : "
   ]
  },
  {
   "cell_type": "code",
   "execution_count": null,
   "metadata": {},
   "outputs": [],
   "source": []
  },
  {
   "cell_type": "code",
   "execution_count": null,
   "metadata": {},
   "outputs": [],
   "source": [
    "vectorizer = TfidfVectorizer(tokenizer = lambda x: x,\n",
    "                             preprocessor = lambda x: x,\n",
    "                             lowercase = False,\n",
    "                             max_features = None,\n",
    "                             stop_words = [':',';','=']\n",
    "                            )  \n",
    "X = vectorizer.fit_transform(test['processed_text'])\n",
    "print(vectorizer.get_feature_names())\n",
    "\n",
    "print(X.toarray())"
   ]
  }
 ],
 "metadata": {
  "kernelspec": {
   "display_name": "Python 3",
   "language": "python",
   "name": "python3"
  },
  "language_info": {
   "codemirror_mode": {
    "name": "ipython",
    "version": 3
   },
   "file_extension": ".py",
   "mimetype": "text/x-python",
   "name": "python",
   "nbconvert_exporter": "python",
   "pygments_lexer": "ipython3",
   "version": "3.7.9"
  }
 },
 "nbformat": 4,
 "nbformat_minor": 4
}
